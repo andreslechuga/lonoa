{
 "cells": [
  {
   "cell_type": "markdown",
   "metadata": {},
   "source": [
    "# Weather Underground API Script"
   ]
  },
  {
   "cell_type": "markdown",
   "metadata": {},
   "source": [
    "The purpose of this notebook is to illustrate 2 scripts to acquire data from Weather Undergroud. \n",
    "\n",
    "The first script download data as-is in JSON format, provided a `start date`, `end date` and a `station id`. The second parses the data out of the JSON files and store in a format acceptable by our current database schema. "
   ]
  },
  {
   "cell_type": "markdown",
   "metadata": {},
   "source": [
    "## API Request Script"
   ]
  },
  {
   "cell_type": "markdown",
   "metadata": {},
   "source": [
    "In order to use the API, we need to register for a key. The key does NOT give unlimited access. About 1 year worth of data can be requested per day. If you exceed the amount of requests, it will timeout until the following day. Exception to this is their `raindrop` system. Check API Documentation for more details. On the script version of this notebook, the key is passed as a parameter to run the script rather than loaded from the file."
   ]
  },
  {
   "cell_type": "code",
   "execution_count": 19,
   "metadata": {
    "collapsed": false
   },
   "outputs": [],
   "source": [
    "with open('keys/api.txt', 'r') as f:\n",
    "    key = f.readline().rstrip()"
   ]
  },
  {
   "cell_type": "markdown",
   "metadata": {},
   "source": [
    "Next, we specify: \n",
    "\n",
    " * `start date` (inclusive): YYYYMMDD\n",
    " * `end date` (inclusive): YYYYMMDD\n",
    " * `station ID`: Check on Weather Underground website (e.g. https://www.wunderground.com/cgi-bin/findweather/getForecast?query=pws:KHIKAPOL23) the ID is **KHIKAPOL23**. \n",
    " * `save_path`: Path to the folder where the downloaded readings will be stored (one file per day worth of readings, each containing as name the timestamp of the given day). "
   ]
  },
  {
   "cell_type": "code",
   "execution_count": 22,
   "metadata": {
    "collapsed": true
   },
   "outputs": [],
   "source": [
    "#Will be loaded as parameter when running the script\n",
    "start_date = 20170322\n",
    "end_date = 20170323\n",
    "station_id = 'KHIKAPOL23'\n",
    "save_path = \"data/\"\n",
    "\n",
    "\n",
    "#For test purposes only\n",
    "date = '20170322'"
   ]
  },
  {
   "cell_type": "markdown",
   "metadata": {},
   "source": [
    "The script then uses the API key, start date, end date, station id and save path to:\n",
    "\n",
    " * Enumerate all the list of dates in the range, inclusive (create_list_of_dates)\n",
    " * Use one date at a time to create the URL for request worth one day of readings (this is WU's API interface constraint) (create_request_url). \n",
    " * Store the date in an individual JSON file as-is so we can preserve the raw data if we ever need again to extract any additional information years later that was not stored at this point in time in the database by the second script. (download_one_day_readings)."
   ]
  },
  {
   "cell_type": "code",
   "execution_count": 17,
   "metadata": {
    "collapsed": false
   },
   "outputs": [],
   "source": [
    "def create_list_of_dates(start_date,end_date):\n",
    "    '''Creates a list of dates based on start and end date, inclusive for both dates. Requestes uses one date at a time.'''\n",
    "    date_list = []\n",
    "    return date_list\n",
    "\n",
    "def create_request_url(date,station_id,key):\n",
    "    '''Creates the URL to obtain the data. This is just a formatting function, it does not send the request itself.'''\n",
    "    api_url = 'http://api.wunderground.com/api/'\n",
    "    key = key+'/'\n",
    "    date = 'history_' + date + '/'\n",
    "    station = 'q/pws:'+station_id+'.json'\n",
    "    return (api_url+key+date+station)\n",
    "\n",
    "import urllib.request\n",
    "import shutil\n",
    "def download_one_day_readings(date,url,save_path):\n",
    "    '''Saves to specified path a file with the date as name downloaded from the formatted url.'''\n",
    "    with urllib.request.urlopen(url) as response, open(save_path+date+'.json', 'wb') as out_file:\n",
    "        shutil.copyfileobj(response, out_file)\n",
    "\n",
    "    "
   ]
  },
  {
   "cell_type": "markdown",
   "metadata": {},
   "source": [
    "Using the functions should retrieve the desired data in raw-format:"
   ]
  },
  {
   "cell_type": "code",
   "execution_count": 23,
   "metadata": {
    "collapsed": false
   },
   "outputs": [
    {
     "name": "stdout",
     "output_type": "stream",
     "text": [
      "http://api.wunderground.com/api/4061387cc15cf3c4/history_20170322/q/pws:KHIKAPOL23.json\n"
     ]
    }
   ],
   "source": [
    "url = create_request_url(date,station_id,key)\n",
    "print(url)\n",
    "download_one_day_readings(date,url,save_path)"
   ]
  },
  {
   "cell_type": "markdown",
   "metadata": {},
   "source": [
    "## Weather Underground JSON to ERDL Database Script"
   ]
  },
  {
   "cell_type": "code",
   "execution_count": null,
   "metadata": {
    "collapsed": true
   },
   "outputs": [],
   "source": []
  }
 ],
 "metadata": {
  "kernelspec": {
   "display_name": "Python 3",
   "language": "python",
   "name": "python3"
  },
  "language_info": {
   "codemirror_mode": {
    "name": "ipython",
    "version": 3
   },
   "file_extension": ".py",
   "mimetype": "text/x-python",
   "name": "python",
   "nbconvert_exporter": "python",
   "pygments_lexer": "ipython3",
   "version": "3.6.0"
  }
 },
 "nbformat": 4,
 "nbformat_minor": 2
}
