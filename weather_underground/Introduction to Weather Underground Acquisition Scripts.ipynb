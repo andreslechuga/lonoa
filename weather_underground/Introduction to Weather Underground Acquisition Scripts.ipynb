{
 "cells": [
  {
   "cell_type": "markdown",
   "metadata": {
    "deletable": true,
    "editable": true
   },
   "source": [
    "# Weather Underground API Script"
   ]
  },
  {
   "cell_type": "markdown",
   "metadata": {
    "deletable": true,
    "editable": true
   },
   "source": [
    "The purpose of this notebook is to illustrate 1 of the 2 scripts to acquire data from Weather Undergroud. \n",
    "\n",
    "This script download data as-is in JSON format, provided a `start date`, `end date` and a `station id`. The second, which will be shown in a second Notebook, parses the data out of the JSON files and store in a format acceptable by our current database schema. "
   ]
  },
  {
   "cell_type": "markdown",
   "metadata": {
    "deletable": true,
    "editable": true
   },
   "source": [
    "## API Request Script"
   ]
  },
  {
   "cell_type": "markdown",
   "metadata": {
    "deletable": true,
    "editable": true
   },
   "source": [
    "In order to use the API, we need to register for a key. The key does NOT give unlimited access. About 1 year (500 requests) worth of data can be requested per day, 10 requests a minute. If you exceed the amount of requests, it will timeout until the following day. Exception to this is their `raindrop` system. Check API Documentation for more details. On the script version of this notebook, the key is passed as a parameter to run the script rather than loaded from the file."
   ]
  },
  {
   "cell_type": "code",
   "execution_count": 1,
   "metadata": {
    "collapsed": true,
    "deletable": true,
    "editable": true
   },
   "outputs": [],
   "source": [
    "with open('keys/api.txt', 'r') as f:\n",
    "    key = f.readline().rstrip()"
   ]
  },
  {
   "cell_type": "markdown",
   "metadata": {
    "deletable": true,
    "editable": true
   },
   "source": [
    "Next, we specify: \n",
    "\n",
    " * `start date` (inclusive): YYYYMMDD\n",
    " * `end date` (inclusive): YYYYMMDD\n",
    " * `station ID`: Check on Weather Underground website (e.g. https://www.wunderground.com/cgi-bin/findweather/getForecast?query=pws:KHIKAPOL23) the ID is **KHIKAPOL23**. \n",
    " * `save_path`: Path to the folder where the downloaded readings will be stored (one file per day worth of readings, each containing as name the timestamp of the given day). "
   ]
  },
  {
   "cell_type": "code",
   "execution_count": 2,
   "metadata": {
    "collapsed": true,
    "deletable": true,
    "editable": true
   },
   "outputs": [],
   "source": [
    "#Will be loaded as parameter when running the script\n",
    "start_date = '20170502'\n",
    "end_date = '20170503'\n",
    "station_id = 'KHIHANA4'\n",
    "save_path = \"data/KHIHANA4/\""
   ]
  },
  {
   "cell_type": "markdown",
   "metadata": {
    "deletable": true,
    "editable": true
   },
   "source": [
    "The script then uses the API key, start date, end date, station id and save path to:\n",
    "\n",
    " * Enumerate all the list of dates in the range, inclusive (create_list_of_dates)\n",
    " * Use one date at a time to create the URL for request worth one day of readings (this is WU's API interface constraint) (create_request_url). \n",
    " * Store the date in an individual JSON file as-is so we can preserve the raw data if we ever need again to extract any additional information years later that was not stored at this point in time in the database by the second script. (download_one_day_readings)."
   ]
  },
  {
   "cell_type": "code",
   "execution_count": 3,
   "metadata": {
    "collapsed": false,
    "deletable": true,
    "editable": true
   },
   "outputs": [],
   "source": [
    "import datetime\n",
    "def create_list_of_dates(start_date,end_date):\n",
    "    '''Creates a list of dates based on start and end date, inclusive for both dates. Requestes uses one date at a time.'''\n",
    "    start = datetime.datetime.strptime(start_date, \"%Y%m%d\")\n",
    "    end = datetime.datetime.strptime(end_date, \"%Y%m%d\")\n",
    "    dates_list = [start + datetime.timedelta(days=x) for x in range(0, (end-start).days+1)]\n",
    "    return dates_list\n",
    "\n",
    "def create_request_url(date,station_id,key):\n",
    "    '''Creates the URL to obtain the data. This is just a formatting function, it does not send the request itself.'''\n",
    "    api_url = 'http://api.wunderground.com/api/'\n",
    "    key = key+'/'\n",
    "    date = 'history_' + date + '/'\n",
    "    station = 'q/pws:'+station_id+'.json'\n",
    "    return (api_url+key+date+station)\n",
    "\n",
    "import urllib.request\n",
    "import shutil\n",
    "def download_one_day_readings(date,url,save_path):\n",
    "    '''Saves to specified path a file with the date as name downloaded from the formatted url.'''\n",
    "    with urllib.request.urlopen(url) as response, open(save_path+date+'.json', 'wb') as out_file:\n",
    "        shutil.copyfileobj(response, out_file)\n",
    "\n",
    "    "
   ]
  },
  {
   "cell_type": "markdown",
   "metadata": {
    "deletable": true,
    "editable": true
   },
   "source": [
    "Using the functions should retrieve the desired data in raw-format:"
   ]
  },
  {
   "cell_type": "code",
   "execution_count": 4,
   "metadata": {
    "collapsed": false,
    "deletable": true,
    "editable": true
   },
   "outputs": [
    {
     "name": "stdout",
     "output_type": "stream",
     "text": [
      "Downloaded:  1 / 2 ( 05/02/2017 )\n",
      "Downloaded:  2 / 2 ( 05/03/2017 )\n"
     ]
    }
   ],
   "source": [
    "import time\n",
    "dates_list = create_list_of_dates(start_date,end_date)\n",
    "total = len(dates_list)\n",
    "progress = 1\n",
    "for date in dates_list:\n",
    "    datestr = date.strftime(\"%Y%m%d\")\n",
    "    url = create_request_url(datestr,station_id,key)\n",
    "    print('Downloaded: ',progress,'/',total,'(',date.strftime(\"%m/%d/%Y\"),')')\n",
    "    time.sleep(6) #Only 10 calls per minute per API constraint on our free plan.\n",
    "    download_one_day_readings(datestr,url,save_path)\n",
    "    progress+=1 "
   ]
  }
 ],
 "metadata": {
  "kernelspec": {
   "display_name": "Python 3",
   "language": "python",
   "name": "python3"
  },
  "language_info": {
   "codemirror_mode": {
    "name": "ipython",
    "version": 3
   },
   "file_extension": ".py",
   "mimetype": "text/x-python",
   "name": "python",
   "nbconvert_exporter": "python",
   "pygments_lexer": "ipython3",
   "version": "3.6.0"
  }
 },
 "nbformat": 4,
 "nbformat_minor": 2
}
