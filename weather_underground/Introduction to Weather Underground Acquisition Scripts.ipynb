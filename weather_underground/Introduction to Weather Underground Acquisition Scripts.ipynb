{
 "cells": [
  {
   "cell_type": "markdown",
   "metadata": {
    "deletable": true,
    "editable": true
   },
   "source": [
    "# Weather Underground API Script"
   ]
  },
  {
   "cell_type": "markdown",
   "metadata": {
    "deletable": true,
    "editable": true
   },
   "source": [
    "The purpose of this notebook is to illustrate 1 of the 2 scripts to acquire data from Weather Undergroud. \n",
    "\n",
    "This script download data as-is in JSON format, provided a `start date`, `end date` and a `station id`. The second, which will be shown in a second Notebook, parses the data out of the JSON files and store in a format acceptable by our current database schema. "
   ]
  },
  {
   "cell_type": "markdown",
   "metadata": {
    "deletable": true,
    "editable": true
   },
   "source": [
    "## API Request Script"
   ]
  },
  {
   "cell_type": "markdown",
   "metadata": {
    "deletable": true,
    "editable": true
   },
   "source": [
    "In order to use the API, we need to register for a key. The key does NOT give unlimited access. About 1 year (500 requests) worth of data can be requested per day, 10 requests a minute. If you exceed the amount of requests, it will timeout until the following day. Exception to this is their `raindrop` system. Check API Documentation for more details. On the script version of this notebook, the key is passed as a parameter to run the script rather than loaded from the file."
   ]
  },
  {
   "cell_type": "code",
   "execution_count": 75,
   "metadata": {
    "collapsed": true,
    "deletable": true,
    "editable": true
   },
   "outputs": [],
   "source": [
    "with open('keys/api.txt', 'r') as f:\n",
    "    key = f.readline().rstrip()"
   ]
  },
  {
   "cell_type": "markdown",
   "metadata": {
    "deletable": true,
    "editable": true
   },
   "source": [
    "Next, we specify: \n",
    "\n",
    " * `start date` (inclusive): YYYYMMDD\n",
    " * `end date` (inclusive): YYYYMMDD\n",
    " * `station ID`: Check on Weather Underground website (e.g. https://www.wunderground.com/cgi-bin/findweather/getForecast?query=pws:KHIKAPOL23) the ID is **KHIKAPOL23**. \n",
    " * `save_path`: Path to the folder where the downloaded readings will be stored (one file per day worth of readings, each containing as name the timestamp of the given day). "
   ]
  },
  {
   "cell_type": "code",
   "execution_count": 95,
   "metadata": {
    "collapsed": true,
    "deletable": true,
    "editable": true
   },
   "outputs": [],
   "source": [
    "#Will be loaded as parameter when running the script\n",
    "start_date = '20160602'\n",
    "end_date = '20170101'\n",
    "station_id = 'KHIKAPOL23'\n",
    "save_path = \"data/\""
   ]
  },
  {
   "cell_type": "markdown",
   "metadata": {
    "deletable": true,
    "editable": true
   },
   "source": [
    "The script then uses the API key, start date, end date, station id and save path to:\n",
    "\n",
    " * Enumerate all the list of dates in the range, inclusive (create_list_of_dates)\n",
    " * Use one date at a time to create the URL for request worth one day of readings (this is WU's API interface constraint) (create_request_url). \n",
    " * Store the date in an individual JSON file as-is so we can preserve the raw data if we ever need again to extract any additional information years later that was not stored at this point in time in the database by the second script. (download_one_day_readings)."
   ]
  },
  {
   "cell_type": "code",
   "execution_count": 96,
   "metadata": {
    "collapsed": false,
    "deletable": true,
    "editable": true
   },
   "outputs": [],
   "source": [
    "import datetime\n",
    "def create_list_of_dates(start_date,end_date):\n",
    "    '''Creates a list of dates based on start and end date, inclusive for both dates. Requestes uses one date at a time.'''\n",
    "    start = datetime.datetime.strptime(start_date, \"%Y%m%d\")\n",
    "    end = datetime.datetime.strptime(end_date, \"%Y%m%d\")\n",
    "    dates_list = [start + datetime.timedelta(days=x) for x in range(0, (end-start).days+1)]\n",
    "    return dates_list\n",
    "\n",
    "def create_request_url(date,station_id,key):\n",
    "    '''Creates the URL to obtain the data. This is just a formatting function, it does not send the request itself.'''\n",
    "    api_url = 'http://api.wunderground.com/api/'\n",
    "    key = key+'/'\n",
    "    date = 'history_' + date + '/'\n",
    "    station = 'q/pws:'+station_id+'.json'\n",
    "    return (api_url+key+date+station)\n",
    "\n",
    "import urllib.request\n",
    "import shutil\n",
    "def download_one_day_readings(date,url,save_path):\n",
    "    '''Saves to specified path a file with the date as name downloaded from the formatted url.'''\n",
    "    with urllib.request.urlopen(url) as response, open(save_path+date+'.json', 'wb') as out_file:\n",
    "        shutil.copyfileobj(response, out_file)\n",
    "\n",
    "    "
   ]
  },
  {
   "cell_type": "markdown",
   "metadata": {
    "deletable": true,
    "editable": true
   },
   "source": [
    "Using the functions should retrieve the desired data in raw-format:"
   ]
  },
  {
   "cell_type": "code",
   "execution_count": 97,
   "metadata": {
    "collapsed": false,
    "deletable": true,
    "editable": true
   },
   "outputs": [
    {
     "name": "stdout",
     "output_type": "stream",
     "text": [
      "Downloaded:  1 / 214 ( 06/02/2016 )\n",
      "Downloaded:  2 / 214 ( 06/03/2016 )\n",
      "Downloaded:  3 / 214 ( 06/04/2016 )\n",
      "Downloaded:  4 / 214 ( 06/05/2016 )\n",
      "Downloaded:  5 / 214 ( 06/06/2016 )\n",
      "Downloaded:  6 / 214 ( 06/07/2016 )\n",
      "Downloaded:  7 / 214 ( 06/08/2016 )\n",
      "Downloaded:  8 / 214 ( 06/09/2016 )\n",
      "Downloaded:  9 / 214 ( 06/10/2016 )\n",
      "Downloaded:  10 / 214 ( 06/11/2016 )\n",
      "Downloaded:  11 / 214 ( 06/12/2016 )\n",
      "Downloaded:  12 / 214 ( 06/13/2016 )\n",
      "Downloaded:  13 / 214 ( 06/14/2016 )\n",
      "Downloaded:  14 / 214 ( 06/15/2016 )\n",
      "Downloaded:  15 / 214 ( 06/16/2016 )\n",
      "Downloaded:  16 / 214 ( 06/17/2016 )\n",
      "Downloaded:  17 / 214 ( 06/18/2016 )\n",
      "Downloaded:  18 / 214 ( 06/19/2016 )\n",
      "Downloaded:  19 / 214 ( 06/20/2016 )\n",
      "Downloaded:  20 / 214 ( 06/21/2016 )\n",
      "Downloaded:  21 / 214 ( 06/22/2016 )\n",
      "Downloaded:  22 / 214 ( 06/23/2016 )\n",
      "Downloaded:  23 / 214 ( 06/24/2016 )\n",
      "Downloaded:  24 / 214 ( 06/25/2016 )\n",
      "Downloaded:  25 / 214 ( 06/26/2016 )\n",
      "Downloaded:  26 / 214 ( 06/27/2016 )\n",
      "Downloaded:  27 / 214 ( 06/28/2016 )\n",
      "Downloaded:  28 / 214 ( 06/29/2016 )\n",
      "Downloaded:  29 / 214 ( 06/30/2016 )\n",
      "Downloaded:  30 / 214 ( 07/01/2016 )\n",
      "Downloaded:  31 / 214 ( 07/02/2016 )\n",
      "Downloaded:  32 / 214 ( 07/03/2016 )\n",
      "Downloaded:  33 / 214 ( 07/04/2016 )\n",
      "Downloaded:  34 / 214 ( 07/05/2016 )\n",
      "Downloaded:  35 / 214 ( 07/06/2016 )\n",
      "Downloaded:  36 / 214 ( 07/07/2016 )\n",
      "Downloaded:  37 / 214 ( 07/08/2016 )\n",
      "Downloaded:  38 / 214 ( 07/09/2016 )\n",
      "Downloaded:  39 / 214 ( 07/10/2016 )\n",
      "Downloaded:  40 / 214 ( 07/11/2016 )\n",
      "Downloaded:  41 / 214 ( 07/12/2016 )\n",
      "Downloaded:  42 / 214 ( 07/13/2016 )\n",
      "Downloaded:  43 / 214 ( 07/14/2016 )\n",
      "Downloaded:  44 / 214 ( 07/15/2016 )\n",
      "Downloaded:  45 / 214 ( 07/16/2016 )\n",
      "Downloaded:  46 / 214 ( 07/17/2016 )\n",
      "Downloaded:  47 / 214 ( 07/18/2016 )\n",
      "Downloaded:  48 / 214 ( 07/19/2016 )\n",
      "Downloaded:  49 / 214 ( 07/20/2016 )\n",
      "Downloaded:  50 / 214 ( 07/21/2016 )\n",
      "Downloaded:  51 / 214 ( 07/22/2016 )\n",
      "Downloaded:  52 / 214 ( 07/23/2016 )\n",
      "Downloaded:  53 / 214 ( 07/24/2016 )\n",
      "Downloaded:  54 / 214 ( 07/25/2016 )\n",
      "Downloaded:  55 / 214 ( 07/26/2016 )\n",
      "Downloaded:  56 / 214 ( 07/27/2016 )\n",
      "Downloaded:  57 / 214 ( 07/28/2016 )\n",
      "Downloaded:  58 / 214 ( 07/29/2016 )\n",
      "Downloaded:  59 / 214 ( 07/30/2016 )\n",
      "Downloaded:  60 / 214 ( 07/31/2016 )\n",
      "Downloaded:  61 / 214 ( 08/01/2016 )\n",
      "Downloaded:  62 / 214 ( 08/02/2016 )\n",
      "Downloaded:  63 / 214 ( 08/03/2016 )\n",
      "Downloaded:  64 / 214 ( 08/04/2016 )\n",
      "Downloaded:  65 / 214 ( 08/05/2016 )\n",
      "Downloaded:  66 / 214 ( 08/06/2016 )\n",
      "Downloaded:  67 / 214 ( 08/07/2016 )\n",
      "Downloaded:  68 / 214 ( 08/08/2016 )\n",
      "Downloaded:  69 / 214 ( 08/09/2016 )\n",
      "Downloaded:  70 / 214 ( 08/10/2016 )\n",
      "Downloaded:  71 / 214 ( 08/11/2016 )\n",
      "Downloaded:  72 / 214 ( 08/12/2016 )\n",
      "Downloaded:  73 / 214 ( 08/13/2016 )\n",
      "Downloaded:  74 / 214 ( 08/14/2016 )\n",
      "Downloaded:  75 / 214 ( 08/15/2016 )\n",
      "Downloaded:  76 / 214 ( 08/16/2016 )\n",
      "Downloaded:  77 / 214 ( 08/17/2016 )\n",
      "Downloaded:  78 / 214 ( 08/18/2016 )\n",
      "Downloaded:  79 / 214 ( 08/19/2016 )\n",
      "Downloaded:  80 / 214 ( 08/20/2016 )\n",
      "Downloaded:  81 / 214 ( 08/21/2016 )\n",
      "Downloaded:  82 / 214 ( 08/22/2016 )\n",
      "Downloaded:  83 / 214 ( 08/23/2016 )\n",
      "Downloaded:  84 / 214 ( 08/24/2016 )\n",
      "Downloaded:  85 / 214 ( 08/25/2016 )\n",
      "Downloaded:  86 / 214 ( 08/26/2016 )\n",
      "Downloaded:  87 / 214 ( 08/27/2016 )\n",
      "Downloaded:  88 / 214 ( 08/28/2016 )\n",
      "Downloaded:  89 / 214 ( 08/29/2016 )\n",
      "Downloaded:  90 / 214 ( 08/30/2016 )\n",
      "Downloaded:  91 / 214 ( 08/31/2016 )\n",
      "Downloaded:  92 / 214 ( 09/01/2016 )\n",
      "Downloaded:  93 / 214 ( 09/02/2016 )\n",
      "Downloaded:  94 / 214 ( 09/03/2016 )\n",
      "Downloaded:  95 / 214 ( 09/04/2016 )\n",
      "Downloaded:  96 / 214 ( 09/05/2016 )\n",
      "Downloaded:  97 / 214 ( 09/06/2016 )\n",
      "Downloaded:  98 / 214 ( 09/07/2016 )\n",
      "Downloaded:  99 / 214 ( 09/08/2016 )\n",
      "Downloaded:  100 / 214 ( 09/09/2016 )\n",
      "Downloaded:  101 / 214 ( 09/10/2016 )\n",
      "Downloaded:  102 / 214 ( 09/11/2016 )\n",
      "Downloaded:  103 / 214 ( 09/12/2016 )\n",
      "Downloaded:  104 / 214 ( 09/13/2016 )\n",
      "Downloaded:  105 / 214 ( 09/14/2016 )\n",
      "Downloaded:  106 / 214 ( 09/15/2016 )\n",
      "Downloaded:  107 / 214 ( 09/16/2016 )\n",
      "Downloaded:  108 / 214 ( 09/17/2016 )\n",
      "Downloaded:  109 / 214 ( 09/18/2016 )\n",
      "Downloaded:  110 / 214 ( 09/19/2016 )\n",
      "Downloaded:  111 / 214 ( 09/20/2016 )\n",
      "Downloaded:  112 / 214 ( 09/21/2016 )\n",
      "Downloaded:  113 / 214 ( 09/22/2016 )\n",
      "Downloaded:  114 / 214 ( 09/23/2016 )\n",
      "Downloaded:  115 / 214 ( 09/24/2016 )\n",
      "Downloaded:  116 / 214 ( 09/25/2016 )\n",
      "Downloaded:  117 / 214 ( 09/26/2016 )\n",
      "Downloaded:  118 / 214 ( 09/27/2016 )\n",
      "Downloaded:  119 / 214 ( 09/28/2016 )\n",
      "Downloaded:  120 / 214 ( 09/29/2016 )\n",
      "Downloaded:  121 / 214 ( 09/30/2016 )\n",
      "Downloaded:  122 / 214 ( 10/01/2016 )\n",
      "Downloaded:  123 / 214 ( 10/02/2016 )\n",
      "Downloaded:  124 / 214 ( 10/03/2016 )\n",
      "Downloaded:  125 / 214 ( 10/04/2016 )\n",
      "Downloaded:  126 / 214 ( 10/05/2016 )\n",
      "Downloaded:  127 / 214 ( 10/06/2016 )\n",
      "Downloaded:  128 / 214 ( 10/07/2016 )\n",
      "Downloaded:  129 / 214 ( 10/08/2016 )\n",
      "Downloaded:  130 / 214 ( 10/09/2016 )\n",
      "Downloaded:  131 / 214 ( 10/10/2016 )\n",
      "Downloaded:  132 / 214 ( 10/11/2016 )\n",
      "Downloaded:  133 / 214 ( 10/12/2016 )\n",
      "Downloaded:  134 / 214 ( 10/13/2016 )\n",
      "Downloaded:  135 / 214 ( 10/14/2016 )\n",
      "Downloaded:  136 / 214 ( 10/15/2016 )\n",
      "Downloaded:  137 / 214 ( 10/16/2016 )\n",
      "Downloaded:  138 / 214 ( 10/17/2016 )\n",
      "Downloaded:  139 / 214 ( 10/18/2016 )\n",
      "Downloaded:  140 / 214 ( 10/19/2016 )\n",
      "Downloaded:  141 / 214 ( 10/20/2016 )\n",
      "Downloaded:  142 / 214 ( 10/21/2016 )\n",
      "Downloaded:  143 / 214 ( 10/22/2016 )\n",
      "Downloaded:  144 / 214 ( 10/23/2016 )\n",
      "Downloaded:  145 / 214 ( 10/24/2016 )\n",
      "Downloaded:  146 / 214 ( 10/25/2016 )\n",
      "Downloaded:  147 / 214 ( 10/26/2016 )\n",
      "Downloaded:  148 / 214 ( 10/27/2016 )\n",
      "Downloaded:  149 / 214 ( 10/28/2016 )\n",
      "Downloaded:  150 / 214 ( 10/29/2016 )\n",
      "Downloaded:  151 / 214 ( 10/30/2016 )\n",
      "Downloaded:  152 / 214 ( 10/31/2016 )\n",
      "Downloaded:  153 / 214 ( 11/01/2016 )\n",
      "Downloaded:  154 / 214 ( 11/02/2016 )\n",
      "Downloaded:  155 / 214 ( 11/03/2016 )\n",
      "Downloaded:  156 / 214 ( 11/04/2016 )\n",
      "Downloaded:  157 / 214 ( 11/05/2016 )\n",
      "Downloaded:  158 / 214 ( 11/06/2016 )\n",
      "Downloaded:  159 / 214 ( 11/07/2016 )\n",
      "Downloaded:  160 / 214 ( 11/08/2016 )\n",
      "Downloaded:  161 / 214 ( 11/09/2016 )\n",
      "Downloaded:  162 / 214 ( 11/10/2016 )\n",
      "Downloaded:  163 / 214 ( 11/11/2016 )\n",
      "Downloaded:  164 / 214 ( 11/12/2016 )\n",
      "Downloaded:  165 / 214 ( 11/13/2016 )\n",
      "Downloaded:  166 / 214 ( 11/14/2016 )\n",
      "Downloaded:  167 / 214 ( 11/15/2016 )\n",
      "Downloaded:  168 / 214 ( 11/16/2016 )\n",
      "Downloaded:  169 / 214 ( 11/17/2016 )\n",
      "Downloaded:  170 / 214 ( 11/18/2016 )\n",
      "Downloaded:  171 / 214 ( 11/19/2016 )\n",
      "Downloaded:  172 / 214 ( 11/20/2016 )\n",
      "Downloaded:  173 / 214 ( 11/21/2016 )\n",
      "Downloaded:  174 / 214 ( 11/22/2016 )\n",
      "Downloaded:  175 / 214 ( 11/23/2016 )\n",
      "Downloaded:  176 / 214 ( 11/24/2016 )\n",
      "Downloaded:  177 / 214 ( 11/25/2016 )\n",
      "Downloaded:  178 / 214 ( 11/26/2016 )\n",
      "Downloaded:  179 / 214 ( 11/27/2016 )\n",
      "Downloaded:  180 / 214 ( 11/28/2016 )\n",
      "Downloaded:  181 / 214 ( 11/29/2016 )\n",
      "Downloaded:  182 / 214 ( 11/30/2016 )\n",
      "Downloaded:  183 / 214 ( 12/01/2016 )\n",
      "Downloaded:  184 / 214 ( 12/02/2016 )\n",
      "Downloaded:  185 / 214 ( 12/03/2016 )\n",
      "Downloaded:  186 / 214 ( 12/04/2016 )\n",
      "Downloaded:  187 / 214 ( 12/05/2016 )\n",
      "Downloaded:  188 / 214 ( 12/06/2016 )\n",
      "Downloaded:  189 / 214 ( 12/07/2016 )\n",
      "Downloaded:  190 / 214 ( 12/08/2016 )\n",
      "Downloaded:  191 / 214 ( 12/09/2016 )\n",
      "Downloaded:  192 / 214 ( 12/10/2016 )\n",
      "Downloaded:  193 / 214 ( 12/11/2016 )\n",
      "Downloaded:  194 / 214 ( 12/12/2016 )\n",
      "Downloaded:  195 / 214 ( 12/13/2016 )\n",
      "Downloaded:  196 / 214 ( 12/14/2016 )\n",
      "Downloaded:  197 / 214 ( 12/15/2016 )\n",
      "Downloaded:  198 / 214 ( 12/16/2016 )\n",
      "Downloaded:  199 / 214 ( 12/17/2016 )\n",
      "Downloaded:  200 / 214 ( 12/18/2016 )\n",
      "Downloaded:  201 / 214 ( 12/19/2016 )\n",
      "Downloaded:  202 / 214 ( 12/20/2016 )\n",
      "Downloaded:  203 / 214 ( 12/21/2016 )\n",
      "Downloaded:  204 / 214 ( 12/22/2016 )\n",
      "Downloaded:  205 / 214 ( 12/23/2016 )\n",
      "Downloaded:  206 / 214 ( 12/24/2016 )\n",
      "Downloaded:  207 / 214 ( 12/25/2016 )\n",
      "Downloaded:  208 / 214 ( 12/26/2016 )\n",
      "Downloaded:  209 / 214 ( 12/27/2016 )\n",
      "Downloaded:  210 / 214 ( 12/28/2016 )\n",
      "Downloaded:  211 / 214 ( 12/29/2016 )\n",
      "Downloaded:  212 / 214 ( 12/30/2016 )\n",
      "Downloaded:  213 / 214 ( 12/31/2016 )\n",
      "Downloaded:  214 / 214 ( 01/01/2017 )\n"
     ]
    }
   ],
   "source": [
    "import time\n",
    "dates_list = create_list_of_dates(start_date,end_date)\n",
    "total = len(dates_list)\n",
    "progress = 1\n",
    "for date in dates_list:\n",
    "    datestr = date.strftime(\"%Y%m%d\")\n",
    "    url = create_request_url(datestr,station_id,key)\n",
    "    print('Downloaded: ',progress,'/',total,'(',date.strftime(\"%m/%d/%Y\"),')')\n",
    "    time.sleep(6) #Only 10 calls per minute per API constraint on our free plan.\n",
    "    download_one_day_readings(datestr,url,save_path)\n",
    "    progress+=1 "
   ]
  }
 ],
 "metadata": {
  "kernelspec": {
   "display_name": "Python 3",
   "language": "python",
   "name": "python3"
  },
  "language_info": {
   "codemirror_mode": {
    "name": "ipython",
    "version": 3
   },
   "file_extension": ".py",
   "mimetype": "text/x-python",
   "name": "python",
   "nbconvert_exporter": "python",
   "pygments_lexer": "ipython3",
   "version": "3.6.0"
  }
 },
 "nbformat": 4,
 "nbformat_minor": 2
}
