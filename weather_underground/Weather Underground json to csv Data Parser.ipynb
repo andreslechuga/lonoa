{
 "cells": [
  {
   "cell_type": "markdown",
   "metadata": {
    "deletable": true,
    "editable": true
   },
   "source": [
    "# Weather Underground json to csv Data Parser"
   ]
  },
  {
   "cell_type": "markdown",
   "metadata": {
    "deletable": true,
    "editable": true
   },
   "source": [
    "![WU Logo](wu_logo.jpg)\n",
    "\n",
    "## 1. Introduction\n",
    "\n",
    "This notebook provides a parser to .json files obtained from Weather Underground (WU) API. If you do not have the .json files, use the `Weather Underground API json Data Acquisition Notebook` in this same project, and then return to this Notebook.\n",
    "\n",
    "This parser will take as input the folder containing all json files, and output a single .csv file containing all the readings. \n",
    "\n",
    "The raw data contains the timestamps in UTC and a guessed local time which the criteria is not completely clear. As such, we will use the timestamp in UTC, but covert it in this notebook to HST to ensure consistency. \n",
    "\n",
    "As discussed in Section 2 - Data Model below, each set of readings share a common timestamp. As such, the output format of this notebook is a wide format table, i.e., each column is a type of reading (e.g. temperature, releative humidity, etc), and every row is identified by a timestamp shared by these different readings. \n",
    "\n",
    "**Terms of Use of WU Data (not of this notebook!)**: Please remember to check the downloaded data [Terms of use](https://www.wunderground.com/weather/api/d/terms.html?MR=1). \n",
    "\n",
    "In the next block, we define:\n",
    "\n",
    " * Path to the **folder path** containing all .json files\n",
    " * Path to the **single csv file path and name the data will be output to**. \n",
    " \n",
    "These will be the **only parameters** which are required to be modified by you. The rest of the notebook can then be executed without modifications. \n",
    "\n",
    "The timestamp of the tables provided by this notebook are **always** in HST in a naive format (i.e. without the timezone being explicit in the field). Modifying the output timezone to another should be a 1 line code change. To understand the rationale behind the naive HST, please see Section 5. \n",
    "\n",
    "Finally, Section 3.4 may be of interest to have an idea of the number of missing data points, and the end of Section 5 provides the list of all sensor types available. Do take note the data is simple formatted as a .csv, and a given sensor may have incorrect readings. It is up to you to pre-process the data.."
   ]
  },
  {
   "cell_type": "code",
   "execution_count": 3,
   "metadata": {
    "collapsed": false,
    "deletable": true,
    "editable": true
   },
   "outputs": [
    {
     "data": {
      "text/html": [
       "\n",
       "    <div class=\"bk-root\">\n",
       "        <a href=\"http://bokeh.pydata.org\" target=\"_blank\" class=\"bk-logo bk-logo-small bk-logo-notebook\"></a>\n",
       "        <span id=\"f787733d-8991-4f53-b97c-4917f74f1c62\">Loading BokehJS ...</span>\n",
       "    </div>"
      ]
     },
     "metadata": {},
     "output_type": "display_data"
    },
    {
     "data": {
      "application/javascript": [
       "\n",
       "(function(global) {\n",
       "  function now() {\n",
       "    return new Date();\n",
       "  }\n",
       "\n",
       "  var force = true;\n",
       "\n",
       "  if (typeof (window._bokeh_onload_callbacks) === \"undefined\" || force === true) {\n",
       "    window._bokeh_onload_callbacks = [];\n",
       "    window._bokeh_is_loading = undefined;\n",
       "  }\n",
       "\n",
       "\n",
       "  \n",
       "  if (typeof (window._bokeh_timeout) === \"undefined\" || force === true) {\n",
       "    window._bokeh_timeout = Date.now() + 5000;\n",
       "    window._bokeh_failed_load = false;\n",
       "  }\n",
       "\n",
       "  var NB_LOAD_WARNING = {'data': {'text/html':\n",
       "     \"<div style='background-color: #fdd'>\\n\"+\n",
       "     \"<p>\\n\"+\n",
       "     \"BokehJS does not appear to have successfully loaded. If loading BokehJS from CDN, this \\n\"+\n",
       "     \"may be due to a slow or bad network connection. Possible fixes:\\n\"+\n",
       "     \"</p>\\n\"+\n",
       "     \"<ul>\\n\"+\n",
       "     \"<li>re-rerun `output_notebook()` to attempt to load from CDN again, or</li>\\n\"+\n",
       "     \"<li>use INLINE resources instead, as so:</li>\\n\"+\n",
       "     \"</ul>\\n\"+\n",
       "     \"<code>\\n\"+\n",
       "     \"from bokeh.resources import INLINE\\n\"+\n",
       "     \"output_notebook(resources=INLINE)\\n\"+\n",
       "     \"</code>\\n\"+\n",
       "     \"</div>\"}};\n",
       "\n",
       "  function display_loaded() {\n",
       "    if (window.Bokeh !== undefined) {\n",
       "      document.getElementById(\"f787733d-8991-4f53-b97c-4917f74f1c62\").textContent = \"BokehJS successfully loaded.\";\n",
       "    } else if (Date.now() < window._bokeh_timeout) {\n",
       "      setTimeout(display_loaded, 100)\n",
       "    }\n",
       "  }\n",
       "\n",
       "  function run_callbacks() {\n",
       "    window._bokeh_onload_callbacks.forEach(function(callback) { callback() });\n",
       "    delete window._bokeh_onload_callbacks\n",
       "    console.info(\"Bokeh: all callbacks have finished\");\n",
       "  }\n",
       "\n",
       "  function load_libs(js_urls, callback) {\n",
       "    window._bokeh_onload_callbacks.push(callback);\n",
       "    if (window._bokeh_is_loading > 0) {\n",
       "      console.log(\"Bokeh: BokehJS is being loaded, scheduling callback at\", now());\n",
       "      return null;\n",
       "    }\n",
       "    if (js_urls == null || js_urls.length === 0) {\n",
       "      run_callbacks();\n",
       "      return null;\n",
       "    }\n",
       "    console.log(\"Bokeh: BokehJS not loaded, scheduling load and callback at\", now());\n",
       "    window._bokeh_is_loading = js_urls.length;\n",
       "    for (var i = 0; i < js_urls.length; i++) {\n",
       "      var url = js_urls[i];\n",
       "      var s = document.createElement('script');\n",
       "      s.src = url;\n",
       "      s.async = false;\n",
       "      s.onreadystatechange = s.onload = function() {\n",
       "        window._bokeh_is_loading--;\n",
       "        if (window._bokeh_is_loading === 0) {\n",
       "          console.log(\"Bokeh: all BokehJS libraries loaded\");\n",
       "          run_callbacks()\n",
       "        }\n",
       "      };\n",
       "      s.onerror = function() {\n",
       "        console.warn(\"failed to load library \" + url);\n",
       "      };\n",
       "      console.log(\"Bokeh: injecting script tag for BokehJS library: \", url);\n",
       "      document.getElementsByTagName(\"head\")[0].appendChild(s);\n",
       "    }\n",
       "  };var element = document.getElementById(\"f787733d-8991-4f53-b97c-4917f74f1c62\");\n",
       "  if (element == null) {\n",
       "    console.log(\"Bokeh: ERROR: autoload.js configured with elementid 'f787733d-8991-4f53-b97c-4917f74f1c62' but no matching script tag was found. \")\n",
       "    return false;\n",
       "  }\n",
       "\n",
       "  var js_urls = [\"https://cdn.pydata.org/bokeh/release/bokeh-0.12.4.min.js\", \"https://cdn.pydata.org/bokeh/release/bokeh-widgets-0.12.4.min.js\"];\n",
       "\n",
       "  var inline_js = [\n",
       "    function(Bokeh) {\n",
       "      Bokeh.set_log_level(\"info\");\n",
       "    },\n",
       "    \n",
       "    function(Bokeh) {\n",
       "      \n",
       "      document.getElementById(\"f787733d-8991-4f53-b97c-4917f74f1c62\").textContent = \"BokehJS is loading...\";\n",
       "    },\n",
       "    function(Bokeh) {\n",
       "      console.log(\"Bokeh: injecting CSS: https://cdn.pydata.org/bokeh/release/bokeh-0.12.4.min.css\");\n",
       "      Bokeh.embed.inject_css(\"https://cdn.pydata.org/bokeh/release/bokeh-0.12.4.min.css\");\n",
       "      console.log(\"Bokeh: injecting CSS: https://cdn.pydata.org/bokeh/release/bokeh-widgets-0.12.4.min.css\");\n",
       "      Bokeh.embed.inject_css(\"https://cdn.pydata.org/bokeh/release/bokeh-widgets-0.12.4.min.css\");\n",
       "    }\n",
       "  ];\n",
       "\n",
       "  function run_inline_js() {\n",
       "    \n",
       "    if ((window.Bokeh !== undefined) || (force === true)) {\n",
       "      for (var i = 0; i < inline_js.length; i++) {\n",
       "        inline_js[i](window.Bokeh);\n",
       "      }if (force === true) {\n",
       "        display_loaded();\n",
       "      }} else if (Date.now() < window._bokeh_timeout) {\n",
       "      setTimeout(run_inline_js, 100);\n",
       "    } else if (!window._bokeh_failed_load) {\n",
       "      console.log(\"Bokeh: BokehJS failed to load within specified timeout.\");\n",
       "      window._bokeh_failed_load = true;\n",
       "    } else if (force !== true) {\n",
       "      var cell = $(document.getElementById(\"f787733d-8991-4f53-b97c-4917f74f1c62\")).parents('.cell').data().cell;\n",
       "      cell.output_area.append_execute_result(NB_LOAD_WARNING)\n",
       "    }\n",
       "\n",
       "  }\n",
       "\n",
       "  if (window._bokeh_is_loading === 0) {\n",
       "    console.log(\"Bokeh: BokehJS loaded, going straight to plotting\");\n",
       "    run_inline_js();\n",
       "  } else {\n",
       "    load_libs(js_urls, function() {\n",
       "      console.log(\"Bokeh: BokehJS plotting callback run at\", now());\n",
       "      run_inline_js();\n",
       "    });\n",
       "  }\n",
       "}(this));"
      ]
     },
     "metadata": {},
     "output_type": "display_data"
    }
   ],
   "source": [
    "from os import listdir\n",
    "from os.path import isfile, join\n",
    "\n",
    "import json\n",
    "import pandas\n",
    "import datetime\n",
    "#import csv\n",
    "\n",
    "# To plot days without readings\n",
    "from bokeh.plotting import figure, output_file, show\n",
    "from bokeh.io import output_notebook #function call to display the histogram in the ipython notebook\n",
    "from bokeh.models import HoverTool\n",
    "from collections import OrderedDict\n",
    "\n",
    "output_notebook()\n",
    "\n",
    "raw_folder_data_path  = 'data/KHIKAPOL19/raw'\n",
    "parsed_file_data_path = 'data/KHIKAPOL19/parsed/KHIKAPOL19.csv'"
   ]
  },
  {
   "cell_type": "markdown",
   "metadata": {
    "collapsed": true,
    "deletable": true,
    "editable": true
   },
   "source": [
    "## 2. Data Model"
   ]
  },
  {
   "cell_type": "markdown",
   "metadata": {
    "deletable": true,
    "editable": true
   },
   "source": [
    "The .json files obtained by the Data Acquisition notebook contain one day per file, and time resolution (i.e. min, hour) varies per station. No documentation is provided concerning resolution for a given station. \n",
    "\n",
    "For every .json file, the data model is as follows: \n",
    "\n",
    "### 2.1 There are 2 keys on the root level: \n",
    "\n",
    " * Response\n",
    " * History\n",
    " \n",
    "Response contains the status of the response, but does not inform, for example, if there are no readings available for the given day. A JSON will still be returned. \n",
    "\n",
    "### 2.2 Within `History` there are 2 other keys:\n",
    "\n",
    " * Observations\n",
    " * Daily Summary\n",
    "\n",
    "### 2.3 Readings are available in the `Observations` key.\n",
    "\n",
    "The observation key is a **list** of keys. Each **element of the list** can be of one of the 3 formats: \n",
    " \n",
    " * reading: A single valued dictionary of the form  `<sensor_type>:<value>`\n",
    " * date: A muti-valued dictionary, contains the date from a local timezone (not sure if based on request IP or the location of the station).\n",
    " * utcdate: Similar to date, except the timestamp is guaranteed to be UTC. To avoid confusion, this timezone will be used. \n",
    "  \n",
    "The following image shows an example of one observation in the **list of observations**. The bottom shows the start of a second observation (which starts on the date key again).\n",
    "\n",
    "<img src=\"img/wu_json_format.png\",width=400,height=400>"
   ]
  },
  {
   "cell_type": "markdown",
   "metadata": {
    "deletable": true,
    "editable": true
   },
   "source": [
    "## 3 Parser\n",
    "\n",
    "This section describes the ingestion of .json files, parsing into a pandas dataframe containing the wide format of the table with a header.\n",
    "\n",
    "### 3.1 File Names \n",
    "The folder path is used to extract all file names. The following block should output 5 of these file names. If it doesn't, then the specified path is incorrect in Section 1 - Introduction's **raw_folder_data_path** variable. "
   ]
  },
  {
   "cell_type": "code",
   "execution_count": 4,
   "metadata": {
    "collapsed": false,
    "deletable": true,
    "editable": true
   },
   "outputs": [
    {
     "name": "stdout",
     "output_type": "stream",
     "text": [
      "['20161107.json', '20161108.json', '20161109.json', '20161110.json']\n"
     ]
    }
   ],
   "source": [
    "# Obtain the list of all file names, filter out folder names if any\n",
    "file_names = [f for f in listdir(raw_folder_data_path) if isfile(join(raw_folder_data_path, f))]\n",
    "print(file_names[1:5])"
   ]
  },
  {
   "cell_type": "markdown",
   "metadata": {
    "deletable": true,
    "editable": true
   },
   "source": [
    "### 3.2 Parser Functions\n",
    "\n",
    "It is assumed that the types of sensors are consistent across all files **for a given station**. "
   ]
  },
  {
   "cell_type": "code",
   "execution_count": 5,
   "metadata": {
    "collapsed": false,
    "deletable": true,
    "editable": true
   },
   "outputs": [],
   "source": [
    "def parse_json_to_pandas_df(raw_folder_data_path,file_name):\n",
    "    '''\n",
    "        Parses a .json file into a wide-table format with readings and timestamp. \n",
    "    '''\n",
    "    # Obtain full file path\n",
    "    path = join(raw_folder_data_path,file_name)\n",
    "    # Extract the json tree containing readings and timestamp\n",
    "    df = pandas.read_json(path)['history']['observations']\n",
    "    # Verify if the given day contain NO observations\n",
    "    if not df:\n",
    "        return None\n",
    "    else: # Normalize into a table\n",
    "        df = pandas.io.json.json_normalize(df)\n",
    "        return(df)\n",
    "    \n",
    "def is_empty_day_df(df_dict):\n",
    "    '''\n",
    "        Takes as input a dictionary of dataframes indexed by their file name and substitute the value by Yes/No \n",
    "        if the readings exist or not for the given file. \n",
    "    '''\n",
    "    is_empty_day_dict = {}\n",
    "    for key, value in df_dict.items():\n",
    "        if value is None:\n",
    "            is_empty_day_dict[key] = 0            \n",
    "        else:\n",
    "            is_empty_day_dict[key] = 1\n",
    "            \n",
    "    df_is_empty_day =  pandas.Series(is_empty_day_dict).reset_index()\n",
    "    df_is_empty_day.columns = ['date', 'exists']\n",
    "    df_is_empty_day['date'] = pandas.to_datetime(df_is_empty_day['date'])\n",
    "    \n",
    "    return(df_is_empty_day)"
   ]
  },
  {
   "cell_type": "markdown",
   "metadata": {
    "deletable": true,
    "editable": true
   },
   "source": [
    "### 3.3. Parse .json files into Pandas Dataframe\n",
    "\n",
    "Each .json file is parsed into a pandas dataframe conforming to a wide table format. "
   ]
  },
  {
   "cell_type": "code",
   "execution_count": 110,
   "metadata": {
    "collapsed": false,
    "deletable": true,
    "editable": true
   },
   "outputs": [],
   "source": [
    "df_dict = {file_name.split('.')[0]:parse_json_to_pandas_df(raw_folder_data_path,file_name) for file_name in file_names}"
   ]
  },
  {
   "cell_type": "markdown",
   "metadata": {
    "deletable": true,
    "editable": true
   },
   "source": [
    "### 3.4 Verify which days have no readings\n",
    "\n",
    "Note the file day of the plot below is based on the name of the file from the .json. "
   ]
  },
  {
   "cell_type": "code",
   "execution_count": 111,
   "metadata": {
    "collapsed": false,
    "deletable": true,
    "editable": true
   },
   "outputs": [
    {
     "name": "stdout",
     "output_type": "stream",
     "text": [
      "Number of days without any readings:95\n"
     ]
    },
    {
     "data": {
      "text/html": [
       "\n",
       "\n",
       "    <div class=\"bk-root\">\n",
       "        <div class=\"bk-plotdiv\" id=\"2a3e6569-4a5c-462b-a1be-23a9293f195d\"></div>\n",
       "    </div>\n",
       "<script type=\"text/javascript\">\n",
       "  \n",
       "  (function(global) {\n",
       "    function now() {\n",
       "      return new Date();\n",
       "    }\n",
       "  \n",
       "    var force = false;\n",
       "  \n",
       "    if (typeof (window._bokeh_onload_callbacks) === \"undefined\" || force === true) {\n",
       "      window._bokeh_onload_callbacks = [];\n",
       "      window._bokeh_is_loading = undefined;\n",
       "    }\n",
       "  \n",
       "  \n",
       "    \n",
       "    if (typeof (window._bokeh_timeout) === \"undefined\" || force === true) {\n",
       "      window._bokeh_timeout = Date.now() + 0;\n",
       "      window._bokeh_failed_load = false;\n",
       "    }\n",
       "  \n",
       "    var NB_LOAD_WARNING = {'data': {'text/html':\n",
       "       \"<div style='background-color: #fdd'>\\n\"+\n",
       "       \"<p>\\n\"+\n",
       "       \"BokehJS does not appear to have successfully loaded. If loading BokehJS from CDN, this \\n\"+\n",
       "       \"may be due to a slow or bad network connection. Possible fixes:\\n\"+\n",
       "       \"</p>\\n\"+\n",
       "       \"<ul>\\n\"+\n",
       "       \"<li>re-rerun `output_notebook()` to attempt to load from CDN again, or</li>\\n\"+\n",
       "       \"<li>use INLINE resources instead, as so:</li>\\n\"+\n",
       "       \"</ul>\\n\"+\n",
       "       \"<code>\\n\"+\n",
       "       \"from bokeh.resources import INLINE\\n\"+\n",
       "       \"output_notebook(resources=INLINE)\\n\"+\n",
       "       \"</code>\\n\"+\n",
       "       \"</div>\"}};\n",
       "  \n",
       "    function display_loaded() {\n",
       "      if (window.Bokeh !== undefined) {\n",
       "        document.getElementById(\"2a3e6569-4a5c-462b-a1be-23a9293f195d\").textContent = \"BokehJS successfully loaded.\";\n",
       "      } else if (Date.now() < window._bokeh_timeout) {\n",
       "        setTimeout(display_loaded, 100)\n",
       "      }\n",
       "    }\n",
       "  \n",
       "    function run_callbacks() {\n",
       "      window._bokeh_onload_callbacks.forEach(function(callback) { callback() });\n",
       "      delete window._bokeh_onload_callbacks\n",
       "      console.info(\"Bokeh: all callbacks have finished\");\n",
       "    }\n",
       "  \n",
       "    function load_libs(js_urls, callback) {\n",
       "      window._bokeh_onload_callbacks.push(callback);\n",
       "      if (window._bokeh_is_loading > 0) {\n",
       "        console.log(\"Bokeh: BokehJS is being loaded, scheduling callback at\", now());\n",
       "        return null;\n",
       "      }\n",
       "      if (js_urls == null || js_urls.length === 0) {\n",
       "        run_callbacks();\n",
       "        return null;\n",
       "      }\n",
       "      console.log(\"Bokeh: BokehJS not loaded, scheduling load and callback at\", now());\n",
       "      window._bokeh_is_loading = js_urls.length;\n",
       "      for (var i = 0; i < js_urls.length; i++) {\n",
       "        var url = js_urls[i];\n",
       "        var s = document.createElement('script');\n",
       "        s.src = url;\n",
       "        s.async = false;\n",
       "        s.onreadystatechange = s.onload = function() {\n",
       "          window._bokeh_is_loading--;\n",
       "          if (window._bokeh_is_loading === 0) {\n",
       "            console.log(\"Bokeh: all BokehJS libraries loaded\");\n",
       "            run_callbacks()\n",
       "          }\n",
       "        };\n",
       "        s.onerror = function() {\n",
       "          console.warn(\"failed to load library \" + url);\n",
       "        };\n",
       "        console.log(\"Bokeh: injecting script tag for BokehJS library: \", url);\n",
       "        document.getElementsByTagName(\"head\")[0].appendChild(s);\n",
       "      }\n",
       "    };var element = document.getElementById(\"2a3e6569-4a5c-462b-a1be-23a9293f195d\");\n",
       "    if (element == null) {\n",
       "      console.log(\"Bokeh: ERROR: autoload.js configured with elementid '2a3e6569-4a5c-462b-a1be-23a9293f195d' but no matching script tag was found. \")\n",
       "      return false;\n",
       "    }\n",
       "  \n",
       "    var js_urls = [];\n",
       "  \n",
       "    var inline_js = [\n",
       "      function(Bokeh) {\n",
       "        (function() {\n",
       "          var fn = function() {\n",
       "            var docs_json = {\"338d665e-5388-47eb-b574-d3da38a41f9f\":{\"roots\":{\"references\":[{\"attributes\":{},\"id\":\"4ca75868-f462-4644-abce-570f4d1c5299\",\"type\":\"ToolEvents\"},{\"attributes\":{\"plot\":{\"id\":\"5a511805-0cea-4524-b219-e0ad6054d503\",\"subtype\":\"Figure\",\"type\":\"Plot\"}},\"id\":\"b07618fd-a83e-40d7-946d-65c13d614788\",\"type\":\"PanTool\"},{\"attributes\":{},\"id\":\"eb96e37c-1929-4b6b-8b50-ea37a9fbda26\",\"type\":\"BasicTickFormatter\"},{\"attributes\":{\"overlay\":{\"id\":\"713b187c-fd91-4f42-9c9d-1da939bf81ee\",\"type\":\"BoxAnnotation\"},\"plot\":{\"id\":\"5a511805-0cea-4524-b219-e0ad6054d503\",\"subtype\":\"Figure\",\"type\":\"Plot\"}},\"id\":\"795f3508-53cd-4eb6-87c3-bfe34da00618\",\"type\":\"BoxZoomTool\"},{\"attributes\":{\"plot\":{\"id\":\"5a511805-0cea-4524-b219-e0ad6054d503\",\"subtype\":\"Figure\",\"type\":\"Plot\"}},\"id\":\"bfb5f196-6504-4a82-bf4e-092201a520ea\",\"type\":\"HelpTool\"},{\"attributes\":{\"callback\":null,\"column_names\":[\"x\",\"y\"],\"data\":{\"x\":{\"__ndarray__\":\"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\",\"dtype\":\"float64\",\"shape\":[366]},\"y\":[1,1,1,1,1,1,1,1,1,1,1,1,1,1,1,1,1,1,1,1,1,1,1,1,1,1,1,1,1,1,1,1,1,1,1,1,1,1,1,1,1,1,1,1,1,1,1,1,1,1,1,1,0,0,0,1,1,1,1,1,1,1,0,0,0,0,0,0,0,0,0,0,0,1,1,1,1,0,0,0,0,0,0,0,0,0,0,0,0,0,0,0,0,0,0,0,0,0,1,1,1,1,1,0,1,0,1,1,1,1,1,1,1,1,1,1,1,1,1,1,1,1,1,1,0,1,1,1,1,1,1,1,1,1,1,1,1,1,1,1,1,1,1,1,1,0,0,0,0,0,0,0,0,0,0,0,0,0,0,0,0,0,1,1,1,1,1,1,1,1,1,1,1,1,1,1,1,1,1,1,1,1,1,1,1,1,1,1,1,1,1,1,1,1,0,0,1,0,1,1,1,1,1,1,1,1,1,1,1,1,1,1,1,1,1,1,1,1,1,1,1,1,1,1,1,1,1,0,0,0,1,0,0,0,0,0,0,0,0,0,0,1,1,0,1,1,1,1,1,1,1,1,1,1,1,1,1,1,1,1,1,1,1,1,1,1,1,1,1,1,1,1,1,1,1,1,1,1,1,1,1,1,1,1,1,1,1,1,1,1,0,1,1,1,1,1,1,1,1,1,1,1,0,1,1,1,1,1,1,1,1,1,1,0,0,1,1,1,0,0,0,1,1,0,0,1,1,0,0,0,0,0,0,0,1,1,1,1,1,1,1,1,0,0,0,0,0,0,0,1,1,1,1,1,1,1,1,1,1,1,1,1,1,1,1,1]}},\"id\":\"00ffccb3-a3d4-4dd4-b06d-66b05bda2faa\",\"type\":\"ColumnDataSource\"},{\"attributes\":{},\"id\":\"5cb2fba5-4bc8-4c58-85f7-e8ebaa408868\",\"type\":\"YearsTicker\"},{\"attributes\":{\"max_interval\":500.0,\"num_minor_ticks\":0},\"id\":\"1365a8b8-530f-446c-89a5-dc7b1fa29557\",\"type\":\"AdaptiveTicker\"},{\"attributes\":{\"months\":[0,6]},\"id\":\"d0e6cb82-8fb3-4562-afea-1aae89e58c1a\",\"type\":\"MonthsTicker\"},{\"attributes\":{\"plot\":null,\"text\":\"\"},\"id\":\"f4273bc8-4509-4e2b-b462-711a9537c020\",\"type\":\"Title\"},{\"attributes\":{\"formatter\":{\"id\":\"eb96e37c-1929-4b6b-8b50-ea37a9fbda26\",\"type\":\"BasicTickFormatter\"},\"plot\":{\"id\":\"5a511805-0cea-4524-b219-e0ad6054d503\",\"subtype\":\"Figure\",\"type\":\"Plot\"},\"ticker\":{\"id\":\"424acf7a-4232-416a-99e2-9d82e0bd0ced\",\"type\":\"BasicTicker\"}},\"id\":\"81501bda-5998-4990-b1a3-92ea704ea31a\",\"type\":\"LinearAxis\"},{\"attributes\":{\"plot\":{\"id\":\"5a511805-0cea-4524-b219-e0ad6054d503\",\"subtype\":\"Figure\",\"type\":\"Plot\"}},\"id\":\"b8788459-a73f-402c-8a47-8e23f644d694\",\"type\":\"SaveTool\"},{\"attributes\":{\"callback\":null},\"id\":\"455a567e-63c8-454b-81c7-13ec9c0ab708\",\"type\":\"DataRange1d\"},{\"attributes\":{},\"id\":\"dc346cde-0cf3-47b4-b7df-12f03cee71a5\",\"type\":\"DatetimeTickFormatter\"},{\"attributes\":{\"days\":[1,2,3,4,5,6,7,8,9,10,11,12,13,14,15,16,17,18,19,20,21,22,23,24,25,26,27,28,29,30,31]},\"id\":\"7501eddb-a4c8-40b9-906f-b79dc514210e\",\"type\":\"DaysTicker\"},{\"attributes\":{\"months\":[0,1,2,3,4,5,6,7,8,9,10,11]},\"id\":\"cea9877e-2fdc-462b-b81f-7236c8a66fee\",\"type\":\"MonthsTicker\"},{\"attributes\":{\"plot\":{\"id\":\"5a511805-0cea-4524-b219-e0ad6054d503\",\"subtype\":\"Figure\",\"type\":\"Plot\"}},\"id\":\"9c0cf38c-8008-44c0-a2d4-3b966aec77fa\",\"type\":\"WheelZoomTool\"},{\"attributes\":{\"data_source\":{\"id\":\"00ffccb3-a3d4-4dd4-b06d-66b05bda2faa\",\"type\":\"ColumnDataSource\"},\"glyph\":{\"id\":\"2fe6df13-7659-4460-82e5-1884cc233a22\",\"type\":\"Line\"},\"hover_glyph\":null,\"nonselection_glyph\":{\"id\":\"80f5c05c-5737-41ed-90a6-5e3591c92c0f\",\"type\":\"Line\"},\"selection_glyph\":null},\"id\":\"c856f234-a660-468e-91ac-576078a88436\",\"type\":\"GlyphRenderer\"},{\"attributes\":{\"dimension\":1,\"plot\":{\"id\":\"5a511805-0cea-4524-b219-e0ad6054d503\",\"subtype\":\"Figure\",\"type\":\"Plot\"},\"ticker\":{\"id\":\"424acf7a-4232-416a-99e2-9d82e0bd0ced\",\"type\":\"BasicTicker\"}},\"id\":\"d32fa0e7-afa6-4a82-ad16-705e6da65082\",\"type\":\"Grid\"},{\"attributes\":{\"active_drag\":\"auto\",\"active_scroll\":\"auto\",\"active_tap\":\"auto\",\"tools\":[{\"id\":\"b07618fd-a83e-40d7-946d-65c13d614788\",\"type\":\"PanTool\"},{\"id\":\"9c0cf38c-8008-44c0-a2d4-3b966aec77fa\",\"type\":\"WheelZoomTool\"},{\"id\":\"795f3508-53cd-4eb6-87c3-bfe34da00618\",\"type\":\"BoxZoomTool\"},{\"id\":\"b8788459-a73f-402c-8a47-8e23f644d694\",\"type\":\"SaveTool\"},{\"id\":\"a97f2e07-c8b9-46bd-b543-b31fc2896ad7\",\"type\":\"ResetTool\"},{\"id\":\"bfb5f196-6504-4a82-bf4e-092201a520ea\",\"type\":\"HelpTool\"}]},\"id\":\"4c529434-4c6b-42b6-b47e-261938baf522\",\"type\":\"Toolbar\"},{\"attributes\":{\"num_minor_ticks\":5},\"id\":\"bbd772b8-04e9-4202-b876-fa9b43945715\",\"type\":\"DatetimeTicker\"},{\"attributes\":{\"formatter\":{\"id\":\"dc346cde-0cf3-47b4-b7df-12f03cee71a5\",\"type\":\"DatetimeTickFormatter\"},\"plot\":{\"id\":\"5a511805-0cea-4524-b219-e0ad6054d503\",\"subtype\":\"Figure\",\"type\":\"Plot\"},\"ticker\":{\"id\":\"bbd772b8-04e9-4202-b876-fa9b43945715\",\"type\":\"DatetimeTicker\"}},\"id\":\"4fa5bee1-9cb4-43ff-adc0-75b27d02a22a\",\"type\":\"DatetimeAxis\"},{\"attributes\":{\"bottom_units\":\"screen\",\"fill_alpha\":{\"value\":0.5},\"fill_color\":{\"value\":\"lightgrey\"},\"left_units\":\"screen\",\"level\":\"overlay\",\"line_alpha\":{\"value\":1.0},\"line_color\":{\"value\":\"black\"},\"line_dash\":[4,4],\"line_width\":{\"value\":2},\"plot\":null,\"render_mode\":\"css\",\"right_units\":\"screen\",\"top_units\":\"screen\"},\"id\":\"713b187c-fd91-4f42-9c9d-1da939bf81ee\",\"type\":\"BoxAnnotation\"},{\"attributes\":{\"plot\":{\"id\":\"5a511805-0cea-4524-b219-e0ad6054d503\",\"subtype\":\"Figure\",\"type\":\"Plot\"}},\"id\":\"a97f2e07-c8b9-46bd-b543-b31fc2896ad7\",\"type\":\"ResetTool\"},{\"attributes\":{},\"id\":\"424acf7a-4232-416a-99e2-9d82e0bd0ced\",\"type\":\"BasicTicker\"},{\"attributes\":{\"below\":[{\"id\":\"4fa5bee1-9cb4-43ff-adc0-75b27d02a22a\",\"type\":\"DatetimeAxis\"}],\"left\":[{\"id\":\"81501bda-5998-4990-b1a3-92ea704ea31a\",\"type\":\"LinearAxis\"}],\"plot_height\":250,\"plot_width\":800,\"renderers\":[{\"id\":\"4fa5bee1-9cb4-43ff-adc0-75b27d02a22a\",\"type\":\"DatetimeAxis\"},{\"id\":\"c1865981-83ef-4516-821a-e633c908976d\",\"type\":\"Grid\"},{\"id\":\"81501bda-5998-4990-b1a3-92ea704ea31a\",\"type\":\"LinearAxis\"},{\"id\":\"d32fa0e7-afa6-4a82-ad16-705e6da65082\",\"type\":\"Grid\"},{\"id\":\"713b187c-fd91-4f42-9c9d-1da939bf81ee\",\"type\":\"BoxAnnotation\"},{\"id\":\"c856f234-a660-468e-91ac-576078a88436\",\"type\":\"GlyphRenderer\"}],\"title\":{\"id\":\"f4273bc8-4509-4e2b-b462-711a9537c020\",\"type\":\"Title\"},\"tool_events\":{\"id\":\"4ca75868-f462-4644-abce-570f4d1c5299\",\"type\":\"ToolEvents\"},\"toolbar\":{\"id\":\"4c529434-4c6b-42b6-b47e-261938baf522\",\"type\":\"Toolbar\"},\"x_range\":{\"id\":\"f5a33541-e42a-4a86-931e-35eef3999075\",\"type\":\"DataRange1d\"},\"y_range\":{\"id\":\"455a567e-63c8-454b-81c7-13ec9c0ab708\",\"type\":\"DataRange1d\"}},\"id\":\"5a511805-0cea-4524-b219-e0ad6054d503\",\"subtype\":\"Figure\",\"type\":\"Plot\"},{\"attributes\":{\"base\":60,\"mantissas\":[1,2,5,10,15,20,30],\"max_interval\":1800000.0,\"min_interval\":1000.0,\"num_minor_ticks\":0},\"id\":\"f65368a5-dfb3-4536-adac-a7dc5c97b15a\",\"type\":\"AdaptiveTicker\"},{\"attributes\":{\"months\":[0,2,4,6,8,10]},\"id\":\"70f78c4e-e338-426f-975a-e4001b9a744f\",\"type\":\"MonthsTicker\"},{\"attributes\":{\"months\":[0,4,8]},\"id\":\"45e7a5d6-2006-4cd9-a85d-20761877db8c\",\"type\":\"MonthsTicker\"},{\"attributes\":{\"days\":[1,8,15,22]},\"id\":\"25a909dc-8f99-49ff-af13-b989a7a03fb5\",\"type\":\"DaysTicker\"},{\"attributes\":{\"callback\":null},\"id\":\"f5a33541-e42a-4a86-931e-35eef3999075\",\"type\":\"DataRange1d\"},{\"attributes\":{\"base\":24,\"mantissas\":[1,2,4,6,8,12],\"max_interval\":43200000.0,\"min_interval\":3600000.0,\"num_minor_ticks\":0},\"id\":\"6414a473-9bf3-45c2-9805-4c7c7331b6e8\",\"type\":\"AdaptiveTicker\"},{\"attributes\":{\"line_alpha\":{\"value\":0.5},\"line_color\":{\"value\":\"navy\"},\"x\":{\"field\":\"x\"},\"y\":{\"field\":\"y\"}},\"id\":\"2fe6df13-7659-4460-82e5-1884cc233a22\",\"type\":\"Line\"},{\"attributes\":{\"plot\":{\"id\":\"5a511805-0cea-4524-b219-e0ad6054d503\",\"subtype\":\"Figure\",\"type\":\"Plot\"},\"ticker\":{\"id\":\"bbd772b8-04e9-4202-b876-fa9b43945715\",\"type\":\"DatetimeTicker\"}},\"id\":\"c1865981-83ef-4516-821a-e633c908976d\",\"type\":\"Grid\"},{\"attributes\":{\"days\":[1,4,7,10,13,16,19,22,25,28]},\"id\":\"d9afb26e-619c-4faf-a858-86d7ea31ea66\",\"type\":\"DaysTicker\"},{\"attributes\":{\"line_alpha\":{\"value\":0.1},\"line_color\":{\"value\":\"#1f77b4\"},\"x\":{\"field\":\"x\"},\"y\":{\"field\":\"y\"}},\"id\":\"80f5c05c-5737-41ed-90a6-5e3591c92c0f\",\"type\":\"Line\"},{\"attributes\":{\"days\":[1,15]},\"id\":\"51b49979-ef1c-4396-b891-36c956885086\",\"type\":\"DaysTicker\"}],\"root_ids\":[\"5a511805-0cea-4524-b219-e0ad6054d503\"]},\"title\":\"Bokeh Application\",\"version\":\"0.12.4\"}};\n",
       "            var render_items = [{\"docid\":\"338d665e-5388-47eb-b574-d3da38a41f9f\",\"elementid\":\"2a3e6569-4a5c-462b-a1be-23a9293f195d\",\"modelid\":\"5a511805-0cea-4524-b219-e0ad6054d503\"}];\n",
       "            \n",
       "            Bokeh.embed.embed_items(docs_json, render_items);\n",
       "          };\n",
       "          if (document.readyState != \"loading\") fn();\n",
       "          else document.addEventListener(\"DOMContentLoaded\", fn);\n",
       "        })();\n",
       "      },\n",
       "      function(Bokeh) {\n",
       "      }\n",
       "    ];\n",
       "  \n",
       "    function run_inline_js() {\n",
       "      \n",
       "      if ((window.Bokeh !== undefined) || (force === true)) {\n",
       "        for (var i = 0; i < inline_js.length; i++) {\n",
       "          inline_js[i](window.Bokeh);\n",
       "        }if (force === true) {\n",
       "          display_loaded();\n",
       "        }} else if (Date.now() < window._bokeh_timeout) {\n",
       "        setTimeout(run_inline_js, 100);\n",
       "      } else if (!window._bokeh_failed_load) {\n",
       "        console.log(\"Bokeh: BokehJS failed to load within specified timeout.\");\n",
       "        window._bokeh_failed_load = true;\n",
       "      } else if (force !== true) {\n",
       "        var cell = $(document.getElementById(\"2a3e6569-4a5c-462b-a1be-23a9293f195d\")).parents('.cell').data().cell;\n",
       "        cell.output_area.append_execute_result(NB_LOAD_WARNING)\n",
       "      }\n",
       "  \n",
       "    }\n",
       "  \n",
       "    if (window._bokeh_is_loading === 0) {\n",
       "      console.log(\"Bokeh: BokehJS loaded, going straight to plotting\");\n",
       "      run_inline_js();\n",
       "    } else {\n",
       "      load_libs(js_urls, function() {\n",
       "        console.log(\"Bokeh: BokehJS plotting callback run at\", now());\n",
       "        run_inline_js();\n",
       "      });\n",
       "    }\n",
       "  }(this));\n",
       "</script>"
      ]
     },
     "metadata": {},
     "output_type": "display_data"
    }
   ],
   "source": [
    "df_is_empty_day = is_empty_day_df(df_dict)\n",
    "\n",
    "print('Number of days without any readings:'+ str(len(df_is_empty_day[(df_is_empty_day['exists']==0)]))   )\n",
    "\n",
    "p = figure(plot_width=800, plot_height=250, x_axis_type=\"datetime\")\n",
    "p.line(df_is_empty_day['date'], df_is_empty_day['exists'], color='navy', alpha=0.5)\n",
    "\n",
    "show(p)"
   ]
  },
  {
   "cell_type": "markdown",
   "metadata": {
    "deletable": true,
    "editable": true
   },
   "source": [
    "### 3.5 Merge data frames of each day into a single data frame of readings\n",
    "\n",
    "We first filter the days without any readings, and then merge the ones with readings."
   ]
  },
  {
   "cell_type": "code",
   "execution_count": 112,
   "metadata": {
    "collapsed": false,
    "deletable": true,
    "editable": true
   },
   "outputs": [
    {
     "name": "stdout",
     "output_type": "stream",
     "text": [
      "Number of days with readings which will be merged into the .csv file: 271\n"
     ]
    }
   ],
   "source": [
    "for k, v in list(df_dict.items()):\n",
    "    if v is None:\n",
    "        del df_dict[k]\n",
    "print('Number of days with readings which will be merged into the .csv file: '+str(len(df_dict)))"
   ]
  },
  {
   "cell_type": "code",
   "execution_count": 113,
   "metadata": {
    "collapsed": true,
    "deletable": true,
    "editable": true
   },
   "outputs": [],
   "source": [
    "readings_sorted_by_date = [v for k,v in sorted(df_dict.items())]    \n",
    "all_readings = pandas.concat(readings_sorted_by_date) "
   ]
  },
  {
   "cell_type": "markdown",
   "metadata": {
    "deletable": true,
    "editable": true
   },
   "source": [
    "## 4. Data Statistics"
   ]
  },
  {
   "cell_type": "markdown",
   "metadata": {
    "deletable": true,
    "editable": true
   },
   "source": [
    "Full list of columns available (note this may vary according to the stations):"
   ]
  },
  {
   "cell_type": "code",
   "execution_count": 114,
   "metadata": {
    "collapsed": false,
    "deletable": true,
    "editable": true
   },
   "outputs": [
    {
     "name": "stdout",
     "output_type": "stream",
     "text": [
      "['UV' 'date.hour' 'date.mday' 'date.min' 'date.mon' 'date.pretty'\n",
      " 'date.tzname' 'date.year' 'dewpti' 'dewptm' 'heatindexi' 'heatindexm'\n",
      " 'hum' 'precip_ratei' 'precip_ratem' 'precip_totali' 'precip_totalm'\n",
      " 'pressurei' 'pressurem' 'softwaretype' 'solarradiation' 'tempi' 'tempm'\n",
      " 'utcdate.hour' 'utcdate.mday' 'utcdate.min' 'utcdate.mon' 'utcdate.pretty'\n",
      " 'utcdate.tzname' 'utcdate.year' 'wdird' 'wdire' 'wgusti' 'wgustm'\n",
      " 'windchilli' 'windchillm' 'wspdi' 'wspdm']\n"
     ]
    }
   ],
   "source": [
    "print(all_readings.columns.values)"
   ]
  },
  {
   "cell_type": "markdown",
   "metadata": {
    "deletable": true,
    "editable": true
   },
   "source": [
    "Head of merged data frame readings:"
   ]
  },
  {
   "cell_type": "code",
   "execution_count": 115,
   "metadata": {
    "collapsed": false,
    "deletable": true,
    "editable": true
   },
   "outputs": [
    {
     "data": {
      "text/html": [
       "<div>\n",
       "<table border=\"1\" class=\"dataframe\">\n",
       "  <thead>\n",
       "    <tr style=\"text-align: right;\">\n",
       "      <th></th>\n",
       "      <th>UV</th>\n",
       "      <th>date.hour</th>\n",
       "      <th>date.mday</th>\n",
       "      <th>date.min</th>\n",
       "      <th>date.mon</th>\n",
       "      <th>date.pretty</th>\n",
       "      <th>date.tzname</th>\n",
       "      <th>date.year</th>\n",
       "      <th>dewpti</th>\n",
       "      <th>dewptm</th>\n",
       "      <th>...</th>\n",
       "      <th>utcdate.tzname</th>\n",
       "      <th>utcdate.year</th>\n",
       "      <th>wdird</th>\n",
       "      <th>wdire</th>\n",
       "      <th>wgusti</th>\n",
       "      <th>wgustm</th>\n",
       "      <th>windchilli</th>\n",
       "      <th>windchillm</th>\n",
       "      <th>wspdi</th>\n",
       "      <th>wspdm</th>\n",
       "    </tr>\n",
       "  </thead>\n",
       "  <tbody>\n",
       "    <tr>\n",
       "      <th>0</th>\n",
       "      <td></td>\n",
       "      <td>00</td>\n",
       "      <td>06</td>\n",
       "      <td>00</td>\n",
       "      <td>11</td>\n",
       "      <td>12:00 AM HST on November 06, 2016</td>\n",
       "      <td>Pacific/Honolulu</td>\n",
       "      <td>2016</td>\n",
       "      <td>65.1</td>\n",
       "      <td>18.4</td>\n",
       "      <td>...</td>\n",
       "      <td>UTC</td>\n",
       "      <td>2016</td>\n",
       "      <td>45</td>\n",
       "      <td>NE</td>\n",
       "      <td>-999.0</td>\n",
       "      <td>-1607.4</td>\n",
       "      <td>-999</td>\n",
       "      <td>-999</td>\n",
       "      <td>2.7</td>\n",
       "      <td>4.3</td>\n",
       "    </tr>\n",
       "    <tr>\n",
       "      <th>1</th>\n",
       "      <td></td>\n",
       "      <td>00</td>\n",
       "      <td>06</td>\n",
       "      <td>06</td>\n",
       "      <td>11</td>\n",
       "      <td>12:06 AM HST on November 06, 2016</td>\n",
       "      <td>Pacific/Honolulu</td>\n",
       "      <td>2016</td>\n",
       "      <td>65.1</td>\n",
       "      <td>18.4</td>\n",
       "      <td>...</td>\n",
       "      <td>UTC</td>\n",
       "      <td>2016</td>\n",
       "      <td>22</td>\n",
       "      <td>NNE</td>\n",
       "      <td>-999.0</td>\n",
       "      <td>-1607.4</td>\n",
       "      <td>-999</td>\n",
       "      <td>-999</td>\n",
       "      <td>3.7</td>\n",
       "      <td>6.0</td>\n",
       "    </tr>\n",
       "    <tr>\n",
       "      <th>2</th>\n",
       "      <td></td>\n",
       "      <td>00</td>\n",
       "      <td>06</td>\n",
       "      <td>11</td>\n",
       "      <td>11</td>\n",
       "      <td>12:11 AM HST on November 06, 2016</td>\n",
       "      <td>Pacific/Honolulu</td>\n",
       "      <td>2016</td>\n",
       "      <td>65.1</td>\n",
       "      <td>18.4</td>\n",
       "      <td>...</td>\n",
       "      <td>UTC</td>\n",
       "      <td>2016</td>\n",
       "      <td>360</td>\n",
       "      <td>North</td>\n",
       "      <td>-999.0</td>\n",
       "      <td>-1607.4</td>\n",
       "      <td>-999</td>\n",
       "      <td>-999</td>\n",
       "      <td>3.2</td>\n",
       "      <td>5.1</td>\n",
       "    </tr>\n",
       "    <tr>\n",
       "      <th>3</th>\n",
       "      <td></td>\n",
       "      <td>00</td>\n",
       "      <td>06</td>\n",
       "      <td>17</td>\n",
       "      <td>11</td>\n",
       "      <td>12:17 AM HST on November 06, 2016</td>\n",
       "      <td>Pacific/Honolulu</td>\n",
       "      <td>2016</td>\n",
       "      <td>65.1</td>\n",
       "      <td>18.4</td>\n",
       "      <td>...</td>\n",
       "      <td>UTC</td>\n",
       "      <td>2016</td>\n",
       "      <td>360</td>\n",
       "      <td>North</td>\n",
       "      <td>-999.0</td>\n",
       "      <td>-1607.4</td>\n",
       "      <td>-999</td>\n",
       "      <td>-999</td>\n",
       "      <td>3.2</td>\n",
       "      <td>5.1</td>\n",
       "    </tr>\n",
       "    <tr>\n",
       "      <th>4</th>\n",
       "      <td></td>\n",
       "      <td>00</td>\n",
       "      <td>06</td>\n",
       "      <td>23</td>\n",
       "      <td>11</td>\n",
       "      <td>12:23 AM HST on November 06, 2016</td>\n",
       "      <td>Pacific/Honolulu</td>\n",
       "      <td>2016</td>\n",
       "      <td>64.7</td>\n",
       "      <td>18.2</td>\n",
       "      <td>...</td>\n",
       "      <td>UTC</td>\n",
       "      <td>2016</td>\n",
       "      <td>22</td>\n",
       "      <td>NNE</td>\n",
       "      <td>-999.0</td>\n",
       "      <td>-1607.4</td>\n",
       "      <td>-999</td>\n",
       "      <td>-999</td>\n",
       "      <td>5.8</td>\n",
       "      <td>9.3</td>\n",
       "    </tr>\n",
       "  </tbody>\n",
       "</table>\n",
       "<p>5 rows × 38 columns</p>\n",
       "</div>"
      ],
      "text/plain": [
       "  UV date.hour date.mday date.min date.mon                        date.pretty  \\\n",
       "0           00        06       00       11  12:00 AM HST on November 06, 2016   \n",
       "1           00        06       06       11  12:06 AM HST on November 06, 2016   \n",
       "2           00        06       11       11  12:11 AM HST on November 06, 2016   \n",
       "3           00        06       17       11  12:17 AM HST on November 06, 2016   \n",
       "4           00        06       23       11  12:23 AM HST on November 06, 2016   \n",
       "\n",
       "        date.tzname date.year dewpti dewptm  ...  utcdate.tzname utcdate.year  \\\n",
       "0  Pacific/Honolulu      2016   65.1   18.4  ...             UTC         2016   \n",
       "1  Pacific/Honolulu      2016   65.1   18.4  ...             UTC         2016   \n",
       "2  Pacific/Honolulu      2016   65.1   18.4  ...             UTC         2016   \n",
       "3  Pacific/Honolulu      2016   65.1   18.4  ...             UTC         2016   \n",
       "4  Pacific/Honolulu      2016   64.7   18.2  ...             UTC         2016   \n",
       "\n",
       "  wdird  wdire  wgusti   wgustm windchilli windchillm wspdi wspdm  \n",
       "0    45     NE  -999.0  -1607.4       -999       -999   2.7   4.3  \n",
       "1    22    NNE  -999.0  -1607.4       -999       -999   3.7   6.0  \n",
       "2   360  North  -999.0  -1607.4       -999       -999   3.2   5.1  \n",
       "3   360  North  -999.0  -1607.4       -999       -999   3.2   5.1  \n",
       "4    22    NNE  -999.0  -1607.4       -999       -999   5.8   9.3  \n",
       "\n",
       "[5 rows x 38 columns]"
      ]
     },
     "execution_count": 115,
     "metadata": {},
     "output_type": "execute_result"
    }
   ],
   "source": [
    "all_readings.head()"
   ]
  },
  {
   "cell_type": "markdown",
   "metadata": {
    "deletable": true,
    "editable": true
   },
   "source": [
    "Tail of merged data frame readings:"
   ]
  },
  {
   "cell_type": "code",
   "execution_count": 116,
   "metadata": {
    "collapsed": false,
    "deletable": true,
    "editable": true
   },
   "outputs": [
    {
     "data": {
      "text/html": [
       "<div>\n",
       "<table border=\"1\" class=\"dataframe\">\n",
       "  <thead>\n",
       "    <tr style=\"text-align: right;\">\n",
       "      <th></th>\n",
       "      <th>UV</th>\n",
       "      <th>date.hour</th>\n",
       "      <th>date.mday</th>\n",
       "      <th>date.min</th>\n",
       "      <th>date.mon</th>\n",
       "      <th>date.pretty</th>\n",
       "      <th>date.tzname</th>\n",
       "      <th>date.year</th>\n",
       "      <th>dewpti</th>\n",
       "      <th>dewptm</th>\n",
       "      <th>...</th>\n",
       "      <th>utcdate.tzname</th>\n",
       "      <th>utcdate.year</th>\n",
       "      <th>wdird</th>\n",
       "      <th>wdire</th>\n",
       "      <th>wgusti</th>\n",
       "      <th>wgustm</th>\n",
       "      <th>windchilli</th>\n",
       "      <th>windchillm</th>\n",
       "      <th>wspdi</th>\n",
       "      <th>wspdm</th>\n",
       "    </tr>\n",
       "  </thead>\n",
       "  <tbody>\n",
       "    <tr>\n",
       "      <th>223</th>\n",
       "      <td></td>\n",
       "      <td>23</td>\n",
       "      <td>06</td>\n",
       "      <td>35</td>\n",
       "      <td>11</td>\n",
       "      <td>11:35 PM HST on November 06, 2017</td>\n",
       "      <td>Pacific/Honolulu</td>\n",
       "      <td>2017</td>\n",
       "      <td>65.7</td>\n",
       "      <td>18.7</td>\n",
       "      <td>...</td>\n",
       "      <td>UTC</td>\n",
       "      <td>2017</td>\n",
       "      <td>292</td>\n",
       "      <td>WNW</td>\n",
       "      <td>-999.0</td>\n",
       "      <td>-1607.4</td>\n",
       "      <td>-999</td>\n",
       "      <td>-999</td>\n",
       "      <td>0.0</td>\n",
       "      <td>0.0</td>\n",
       "    </tr>\n",
       "    <tr>\n",
       "      <th>224</th>\n",
       "      <td></td>\n",
       "      <td>23</td>\n",
       "      <td>06</td>\n",
       "      <td>41</td>\n",
       "      <td>11</td>\n",
       "      <td>11:41 PM HST on November 06, 2017</td>\n",
       "      <td>Pacific/Honolulu</td>\n",
       "      <td>2017</td>\n",
       "      <td>65.5</td>\n",
       "      <td>18.6</td>\n",
       "      <td>...</td>\n",
       "      <td>UTC</td>\n",
       "      <td>2017</td>\n",
       "      <td>292</td>\n",
       "      <td>WNW</td>\n",
       "      <td>-999.0</td>\n",
       "      <td>-1607.4</td>\n",
       "      <td>-999</td>\n",
       "      <td>-999</td>\n",
       "      <td>2.2</td>\n",
       "      <td>3.5</td>\n",
       "    </tr>\n",
       "    <tr>\n",
       "      <th>225</th>\n",
       "      <td></td>\n",
       "      <td>23</td>\n",
       "      <td>06</td>\n",
       "      <td>46</td>\n",
       "      <td>11</td>\n",
       "      <td>11:46 PM HST on November 06, 2017</td>\n",
       "      <td>Pacific/Honolulu</td>\n",
       "      <td>2017</td>\n",
       "      <td>65.4</td>\n",
       "      <td>18.6</td>\n",
       "      <td>...</td>\n",
       "      <td>UTC</td>\n",
       "      <td>2017</td>\n",
       "      <td>292</td>\n",
       "      <td>WNW</td>\n",
       "      <td>-999.0</td>\n",
       "      <td>-1607.4</td>\n",
       "      <td>-999</td>\n",
       "      <td>-999</td>\n",
       "      <td>0.0</td>\n",
       "      <td>0.0</td>\n",
       "    </tr>\n",
       "    <tr>\n",
       "      <th>226</th>\n",
       "      <td></td>\n",
       "      <td>23</td>\n",
       "      <td>06</td>\n",
       "      <td>52</td>\n",
       "      <td>11</td>\n",
       "      <td>11:52 PM HST on November 06, 2017</td>\n",
       "      <td>Pacific/Honolulu</td>\n",
       "      <td>2017</td>\n",
       "      <td>65.5</td>\n",
       "      <td>18.6</td>\n",
       "      <td>...</td>\n",
       "      <td>UTC</td>\n",
       "      <td>2017</td>\n",
       "      <td>292</td>\n",
       "      <td>WNW</td>\n",
       "      <td>-999.0</td>\n",
       "      <td>-1607.4</td>\n",
       "      <td>-999</td>\n",
       "      <td>-999</td>\n",
       "      <td>0.0</td>\n",
       "      <td>0.0</td>\n",
       "    </tr>\n",
       "    <tr>\n",
       "      <th>227</th>\n",
       "      <td></td>\n",
       "      <td>23</td>\n",
       "      <td>06</td>\n",
       "      <td>57</td>\n",
       "      <td>11</td>\n",
       "      <td>11:57 PM HST on November 06, 2017</td>\n",
       "      <td>Pacific/Honolulu</td>\n",
       "      <td>2017</td>\n",
       "      <td>65.5</td>\n",
       "      <td>18.6</td>\n",
       "      <td>...</td>\n",
       "      <td>UTC</td>\n",
       "      <td>2017</td>\n",
       "      <td>292</td>\n",
       "      <td>WNW</td>\n",
       "      <td>-999.0</td>\n",
       "      <td>-1607.4</td>\n",
       "      <td>-999</td>\n",
       "      <td>-999</td>\n",
       "      <td>0.0</td>\n",
       "      <td>0.0</td>\n",
       "    </tr>\n",
       "  </tbody>\n",
       "</table>\n",
       "<p>5 rows × 38 columns</p>\n",
       "</div>"
      ],
      "text/plain": [
       "    UV date.hour date.mday date.min date.mon  \\\n",
       "223           23        06       35       11   \n",
       "224           23        06       41       11   \n",
       "225           23        06       46       11   \n",
       "226           23        06       52       11   \n",
       "227           23        06       57       11   \n",
       "\n",
       "                           date.pretty       date.tzname date.year dewpti  \\\n",
       "223  11:35 PM HST on November 06, 2017  Pacific/Honolulu      2017   65.7   \n",
       "224  11:41 PM HST on November 06, 2017  Pacific/Honolulu      2017   65.5   \n",
       "225  11:46 PM HST on November 06, 2017  Pacific/Honolulu      2017   65.4   \n",
       "226  11:52 PM HST on November 06, 2017  Pacific/Honolulu      2017   65.5   \n",
       "227  11:57 PM HST on November 06, 2017  Pacific/Honolulu      2017   65.5   \n",
       "\n",
       "    dewptm  ...  utcdate.tzname utcdate.year wdird wdire  wgusti   wgustm  \\\n",
       "223   18.7  ...             UTC         2017   292   WNW  -999.0  -1607.4   \n",
       "224   18.6  ...             UTC         2017   292   WNW  -999.0  -1607.4   \n",
       "225   18.6  ...             UTC         2017   292   WNW  -999.0  -1607.4   \n",
       "226   18.6  ...             UTC         2017   292   WNW  -999.0  -1607.4   \n",
       "227   18.6  ...             UTC         2017   292   WNW  -999.0  -1607.4   \n",
       "\n",
       "    windchilli windchillm wspdi wspdm  \n",
       "223       -999       -999   0.0   0.0  \n",
       "224       -999       -999   2.2   3.5  \n",
       "225       -999       -999   0.0   0.0  \n",
       "226       -999       -999   0.0   0.0  \n",
       "227       -999       -999   0.0   0.0  \n",
       "\n",
       "[5 rows x 38 columns]"
      ]
     },
     "execution_count": 116,
     "metadata": {},
     "output_type": "execute_result"
    }
   ],
   "source": [
    "all_readings.tail()"
   ]
  },
  {
   "cell_type": "markdown",
   "metadata": {
    "deletable": true,
    "editable": true
   },
   "source": [
    "Total number of rows:"
   ]
  },
  {
   "cell_type": "code",
   "execution_count": 117,
   "metadata": {
    "collapsed": false,
    "deletable": true,
    "editable": true
   },
   "outputs": [
    {
     "name": "stdout",
     "output_type": "stream",
     "text": [
      "61314\n"
     ]
    }
   ],
   "source": [
    "print(len(all_readings))"
   ]
  },
  {
   "cell_type": "markdown",
   "metadata": {
    "deletable": true,
    "editable": true
   },
   "source": [
    "## 5. Convert Timestamp Column from UTC to HST\n",
    "\n",
    "There is an unecessary number of columns associated to timestamps. We merge them here into a single UTC timestamp column, which will be converted to HST in the next section. \n",
    "\n",
    " * To delete: 'date.hour' 'date.mday' 'date.min' 'date.mon' 'date.pretty'\n",
    " 'date.tzname' 'date.year' 'utcdate.pretty'\n",
    " * To merge into a single column timestamp: \n",
    "    * 'utcdate.year' \n",
    "    * 'utcdate.mon'\n",
    "    * 'utcdate.mday'\n",
    "    * 'utcdate.hour'  \n",
    "    * 'utcdate.min'  \n",
    "    * 'utcdate.tzname' \n",
    "    \n",
    "Because time is specified in different keys under `utcdate`, the name of the attributes will contain dots. This is undesirable to access the variables using pandas anonymous functions, so we replace the dots by underline. "
   ]
  },
  {
   "cell_type": "code",
   "execution_count": 118,
   "metadata": {
    "collapsed": false,
    "deletable": true,
    "editable": true
   },
   "outputs": [
    {
     "name": "stdout",
     "output_type": "stream",
     "text": [
      "['UV' 'date_hour' 'date_mday' 'date_min' 'date_mon' 'date_pretty'\n",
      " 'date_tzname' 'date_year' 'dewpti' 'dewptm' 'heatindexi' 'heatindexm'\n",
      " 'hum' 'precip_ratei' 'precip_ratem' 'precip_totali' 'precip_totalm'\n",
      " 'pressurei' 'pressurem' 'softwaretype' 'solarradiation' 'tempi' 'tempm'\n",
      " 'utcdate_hour' 'utcdate_mday' 'utcdate_min' 'utcdate_mon' 'utcdate_pretty'\n",
      " 'utcdate_tzname' 'utcdate_year' 'wdird' 'wdire' 'wgusti' 'wgustm'\n",
      " 'windchilli' 'windchillm' 'wspdi' 'wspdm']\n"
     ]
    }
   ],
   "source": [
    "all_readings.columns = [c.replace('.', '_') for c in all_readings.columns]\n",
    "print(all_readings.columns.values)"
   ]
  },
  {
   "cell_type": "markdown",
   "metadata": {
    "deletable": true,
    "editable": true
   },
   "source": [
    "Next, we use all the utcdate different fields from year to minute (as seconds is unavailable) and create a new timestamp column (or pandas series). "
   ]
  },
  {
   "cell_type": "code",
   "execution_count": 119,
   "metadata": {
    "collapsed": false,
    "deletable": true,
    "editable": true
   },
   "outputs": [],
   "source": [
    "timestamps = all_readings[['utcdate_year','utcdate_mon','utcdate_mday','utcdate_hour','utcdate_min']].astype(str).apply(lambda x: datetime.datetime.strptime(x.utcdate_year + x.utcdate_mon + x. utcdate_mday + x.utcdate_hour + x.utcdate_min, '%Y%m%d%H%M'), axis=1)\n"
   ]
  },
  {
   "cell_type": "markdown",
   "metadata": {
    "deletable": true,
    "editable": true
   },
   "source": [
    "One frustrating limitation of native python is the naive timestamps (i.e. it does not account for timezones by default). We address this by first expliciting the series is in UTC, and then converting it to HST. \n",
    "\n",
    "Even more frustrating is the fact as of today Tableau can't reason timezones. As such, after the conversion we make it naive again. "
   ]
  },
  {
   "cell_type": "code",
   "execution_count": 120,
   "metadata": {
    "collapsed": false,
    "deletable": true,
    "editable": true
   },
   "outputs": [
    {
     "name": "stdout",
     "output_type": "stream",
     "text": [
      "1   2016-11-06 10:06:00\n",
      "2   2016-11-06 10:11:00\n",
      "3   2016-11-06 10:17:00\n",
      "4   2016-11-06 10:23:00\n",
      "dtype: datetime64[ns]\n",
      "1   2016-11-06 00:06:00-10:00\n",
      "2   2016-11-06 00:11:00-10:00\n",
      "3   2016-11-06 00:17:00-10:00\n",
      "4   2016-11-06 00:23:00-10:00\n",
      "dtype: datetime64[ns, HST]\n",
      "1   2016-11-06 00:06:00\n",
      "2   2016-11-06 00:11:00\n",
      "3   2016-11-06 00:17:00\n",
      "4   2016-11-06 00:23:00\n",
      "dtype: datetime64[ns]\n"
     ]
    }
   ],
   "source": [
    "print(timestamps[1:5])\n",
    "timestamps = timestamps.dt.tz_localize('UTC').dt.tz_convert('HST')\n",
    "print(timestamps[1:5])\n",
    "timestamps = timestamps.dt.tz_localize(None)\n",
    "print(timestamps[1:5])"
   ]
  },
  {
   "cell_type": "markdown",
   "metadata": {
    "deletable": true,
    "editable": true
   },
   "source": [
    "As we can observe above, the timestamps were correctly converted to HST (Hawaii is -10 hours in respect to UTC).\n",
    "\n",
    "With the Series now in HST, we remove all the timestamp columns, and add our new column to the `all_readings` table. "
   ]
  },
  {
   "cell_type": "code",
   "execution_count": 121,
   "metadata": {
    "collapsed": false,
    "deletable": true,
    "editable": true
   },
   "outputs": [
    {
     "name": "stdout",
     "output_type": "stream",
     "text": [
      "Before: \n",
      "['UV' 'date_hour' 'date_mday' 'date_min' 'date_mon' 'date_pretty'\n",
      " 'date_tzname' 'date_year' 'dewpti' 'dewptm' 'heatindexi' 'heatindexm'\n",
      " 'hum' 'precip_ratei' 'precip_ratem' 'precip_totali' 'precip_totalm'\n",
      " 'pressurei' 'pressurem' 'softwaretype' 'solarradiation' 'tempi' 'tempm'\n",
      " 'utcdate_hour' 'utcdate_mday' 'utcdate_min' 'utcdate_mon' 'utcdate_pretty'\n",
      " 'utcdate_tzname' 'utcdate_year' 'wdird' 'wdire' 'wgusti' 'wgustm'\n",
      " 'windchilli' 'windchillm' 'wspdi' 'wspdm']\n",
      "After: \n",
      "['UV' 'dewpti' 'dewptm' 'heatindexi' 'heatindexm' 'hum' 'precip_ratei'\n",
      " 'precip_ratem' 'precip_totali' 'precip_totalm' 'pressurei' 'pressurem'\n",
      " 'solarradiation' 'tempi' 'tempm' 'wdird' 'wdire' 'wgusti' 'wgustm'\n",
      " 'windchilli' 'windchillm' 'wspdi' 'wspdm' 'datetime']\n"
     ]
    },
    {
     "data": {
      "text/html": [
       "<div>\n",
       "<table border=\"1\" class=\"dataframe\">\n",
       "  <thead>\n",
       "    <tr style=\"text-align: right;\">\n",
       "      <th></th>\n",
       "      <th>UV</th>\n",
       "      <th>dewpti</th>\n",
       "      <th>dewptm</th>\n",
       "      <th>heatindexi</th>\n",
       "      <th>heatindexm</th>\n",
       "      <th>hum</th>\n",
       "      <th>precip_ratei</th>\n",
       "      <th>precip_ratem</th>\n",
       "      <th>precip_totali</th>\n",
       "      <th>precip_totalm</th>\n",
       "      <th>...</th>\n",
       "      <th>tempm</th>\n",
       "      <th>wdird</th>\n",
       "      <th>wdire</th>\n",
       "      <th>wgusti</th>\n",
       "      <th>wgustm</th>\n",
       "      <th>windchilli</th>\n",
       "      <th>windchillm</th>\n",
       "      <th>wspdi</th>\n",
       "      <th>wspdm</th>\n",
       "      <th>datetime</th>\n",
       "    </tr>\n",
       "  </thead>\n",
       "  <tbody>\n",
       "    <tr>\n",
       "      <th>0</th>\n",
       "      <td></td>\n",
       "      <td>65.1</td>\n",
       "      <td>18.4</td>\n",
       "      <td>-9999</td>\n",
       "      <td>-9999</td>\n",
       "      <td>78</td>\n",
       "      <td>-99.99</td>\n",
       "      <td>-2539.7</td>\n",
       "      <td>0.00</td>\n",
       "      <td>0.0</td>\n",
       "      <td>...</td>\n",
       "      <td>22.4</td>\n",
       "      <td>45</td>\n",
       "      <td>NE</td>\n",
       "      <td>-999.0</td>\n",
       "      <td>-1607.4</td>\n",
       "      <td>-999</td>\n",
       "      <td>-999</td>\n",
       "      <td>2.7</td>\n",
       "      <td>4.3</td>\n",
       "      <td>2016-11-06 00:00:00</td>\n",
       "    </tr>\n",
       "    <tr>\n",
       "      <th>1</th>\n",
       "      <td></td>\n",
       "      <td>65.1</td>\n",
       "      <td>18.4</td>\n",
       "      <td>-9999</td>\n",
       "      <td>-9999</td>\n",
       "      <td>78</td>\n",
       "      <td>-99.99</td>\n",
       "      <td>-2539.7</td>\n",
       "      <td>0.00</td>\n",
       "      <td>0.0</td>\n",
       "      <td>...</td>\n",
       "      <td>22.4</td>\n",
       "      <td>22</td>\n",
       "      <td>NNE</td>\n",
       "      <td>-999.0</td>\n",
       "      <td>-1607.4</td>\n",
       "      <td>-999</td>\n",
       "      <td>-999</td>\n",
       "      <td>3.7</td>\n",
       "      <td>6.0</td>\n",
       "      <td>2016-11-06 00:06:00</td>\n",
       "    </tr>\n",
       "    <tr>\n",
       "      <th>2</th>\n",
       "      <td></td>\n",
       "      <td>65.1</td>\n",
       "      <td>18.4</td>\n",
       "      <td>-9999</td>\n",
       "      <td>-9999</td>\n",
       "      <td>78</td>\n",
       "      <td>-99.99</td>\n",
       "      <td>-2539.7</td>\n",
       "      <td>0.00</td>\n",
       "      <td>0.0</td>\n",
       "      <td>...</td>\n",
       "      <td>22.4</td>\n",
       "      <td>360</td>\n",
       "      <td>North</td>\n",
       "      <td>-999.0</td>\n",
       "      <td>-1607.4</td>\n",
       "      <td>-999</td>\n",
       "      <td>-999</td>\n",
       "      <td>3.2</td>\n",
       "      <td>5.1</td>\n",
       "      <td>2016-11-06 00:11:00</td>\n",
       "    </tr>\n",
       "    <tr>\n",
       "      <th>3</th>\n",
       "      <td></td>\n",
       "      <td>65.1</td>\n",
       "      <td>18.4</td>\n",
       "      <td>-9999</td>\n",
       "      <td>-9999</td>\n",
       "      <td>78</td>\n",
       "      <td>-99.99</td>\n",
       "      <td>-2539.7</td>\n",
       "      <td>0.00</td>\n",
       "      <td>0.0</td>\n",
       "      <td>...</td>\n",
       "      <td>22.4</td>\n",
       "      <td>360</td>\n",
       "      <td>North</td>\n",
       "      <td>-999.0</td>\n",
       "      <td>-1607.4</td>\n",
       "      <td>-999</td>\n",
       "      <td>-999</td>\n",
       "      <td>3.2</td>\n",
       "      <td>5.1</td>\n",
       "      <td>2016-11-06 00:17:00</td>\n",
       "    </tr>\n",
       "    <tr>\n",
       "      <th>4</th>\n",
       "      <td></td>\n",
       "      <td>64.7</td>\n",
       "      <td>18.2</td>\n",
       "      <td>-9999</td>\n",
       "      <td>-9999</td>\n",
       "      <td>77</td>\n",
       "      <td>-99.99</td>\n",
       "      <td>-2539.7</td>\n",
       "      <td>0.00</td>\n",
       "      <td>0.0</td>\n",
       "      <td>...</td>\n",
       "      <td>22.4</td>\n",
       "      <td>22</td>\n",
       "      <td>NNE</td>\n",
       "      <td>-999.0</td>\n",
       "      <td>-1607.4</td>\n",
       "      <td>-999</td>\n",
       "      <td>-999</td>\n",
       "      <td>5.8</td>\n",
       "      <td>9.3</td>\n",
       "      <td>2016-11-06 00:23:00</td>\n",
       "    </tr>\n",
       "  </tbody>\n",
       "</table>\n",
       "<p>5 rows × 24 columns</p>\n",
       "</div>"
      ],
      "text/plain": [
       "  UV dewpti dewptm heatindexi heatindexm hum precip_ratei precip_ratem  \\\n",
       "0      65.1   18.4      -9999      -9999  78       -99.99      -2539.7   \n",
       "1      65.1   18.4      -9999      -9999  78       -99.99      -2539.7   \n",
       "2      65.1   18.4      -9999      -9999  78       -99.99      -2539.7   \n",
       "3      65.1   18.4      -9999      -9999  78       -99.99      -2539.7   \n",
       "4      64.7   18.2      -9999      -9999  77       -99.99      -2539.7   \n",
       "\n",
       "  precip_totali precip_totalm         ...         tempm wdird  wdire  wgusti  \\\n",
       "0          0.00           0.0         ...          22.4    45     NE  -999.0   \n",
       "1          0.00           0.0         ...          22.4    22    NNE  -999.0   \n",
       "2          0.00           0.0         ...          22.4   360  North  -999.0   \n",
       "3          0.00           0.0         ...          22.4   360  North  -999.0   \n",
       "4          0.00           0.0         ...          22.4    22    NNE  -999.0   \n",
       "\n",
       "    wgustm windchilli windchillm wspdi wspdm            datetime  \n",
       "0  -1607.4       -999       -999   2.7   4.3 2016-11-06 00:00:00  \n",
       "1  -1607.4       -999       -999   3.7   6.0 2016-11-06 00:06:00  \n",
       "2  -1607.4       -999       -999   3.2   5.1 2016-11-06 00:11:00  \n",
       "3  -1607.4       -999       -999   3.2   5.1 2016-11-06 00:17:00  \n",
       "4  -1607.4       -999       -999   5.8   9.3 2016-11-06 00:23:00  \n",
       "\n",
       "[5 rows x 24 columns]"
      ]
     },
     "execution_count": 121,
     "metadata": {},
     "output_type": "execute_result"
    }
   ],
   "source": [
    "print('Before: ')\n",
    "print(all_readings.columns.values)\n",
    "all_readings.drop(['date_hour','date_mday','date_min','date_mon','date_pretty','date_tzname','date_year','utcdate_pretty','utcdate_year','utcdate_mon','utcdate_mday','utcdate_hour','utcdate_min','utcdate_tzname','softwaretype'], axis=1, inplace=True)\n",
    "print('After: ')\n",
    "all_readings['datetime'] = timestamps\n",
    "print(all_readings.columns.values)\n",
    "all_readings.head()"
   ]
  },
  {
   "cell_type": "markdown",
   "metadata": {
    "deletable": true,
    "editable": true
   },
   "source": [
    "## 6. Save to .csv \n",
    "\n",
    "With the data pre-processed, we are ready to save it as a .csv. "
   ]
  },
  {
   "cell_type": "code",
   "execution_count": 122,
   "metadata": {
    "collapsed": false,
    "deletable": true,
    "editable": true
   },
   "outputs": [],
   "source": [
    "all_readings.to_csv(parsed_file_data_path)"
   ]
  }
 ],
 "metadata": {
  "kernelspec": {
   "display_name": "Python 3",
   "language": "python",
   "name": "python3"
  },
  "language_info": {
   "codemirror_mode": {
    "name": "ipython",
    "version": 3
   },
   "file_extension": ".py",
   "mimetype": "text/x-python",
   "name": "python",
   "nbconvert_exporter": "python",
   "pygments_lexer": "ipython3",
   "version": "3.6.0"
  }
 },
 "nbformat": 4,
 "nbformat_minor": 2
}
