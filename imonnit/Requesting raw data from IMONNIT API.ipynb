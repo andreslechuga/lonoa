{
 "cells": [
  {
   "cell_type": "markdown",
   "metadata": {
    "deletable": true,
    "editable": true
   },
   "source": [
    "# Introduction \n",
    "\n",
    "This notebook provides the minimum necessary code to access data from IMONNIT's API. For an overview of the architecture, see the readme.md file of the project where is notebook is hosted.\n",
    "\n",
    "# 1. Required Input Parameters\n",
    "\n",
    "## 1.1 Host\n",
    "\n",
    "The list of services available via API can be found on [MONNIT website](https://www.imonnit.com/API). As noted there, **all timestamps are in UTC (Universal Coordinated Time) both for the input and for the output.**, and as such needs be converted.\n",
    "\n",
    "MONNIT API services are divided in groups (Authentication, Lookup, Account, etc.), some of which allows an entire web application to emulate MONNIT's own end user website. This is beyond the scope of this notebook, which only seeks to acquire data. Before any of the API services can be used, an API key is required. This can be obtained from the **Authentication** group, by typing the username and password. \n",
    "\n",
    "\n",
    "\n",
    "The following end-point of interest can be found under the **DataMessage** group, as follows:\n",
    "\n",
    "![monnit_api](monnit_api.png)\n",
    "\n",
    "\n",
    "As shown in the image, **the data API requests must be performed for a maximum of a week time window.** Moreover, from the example:\n",
    "\n",
    "`https://www.imonnit.com/xml/SensorDataMessages/Z3Vlc3Q6cGFzc3dvcmQ=?sensorID=101&fromDate=2011/01/01 6:22:14 PM&toDate=2011/01/02 6:22:14 PM`\n",
    "\n",
    "we can obtain the host for our API requests:"
   ]
  },
  {
   "cell_type": "code",
   "execution_count": 1,
   "metadata": {
    "collapsed": true,
    "deletable": true,
    "editable": true
   },
   "outputs": [],
   "source": [
    "host = 'https://www.imonnit.com/xml'"
   ]
  },
  {
   "cell_type": "markdown",
   "metadata": {
    "deletable": true,
    "editable": true
   },
   "source": [
    "We can also see that an API request is formatted in the folling manner:\n",
    "\n",
    "`host + api_key + sensorID + timewindow`\n",
    "\n",
    "which we construct in the next sub-sections."
   ]
  },
  {
   "cell_type": "markdown",
   "metadata": {
    "deletable": true,
    "editable": true
   },
   "source": [
    "## 1.2 Authentication\n",
    "\n",
    "As noted before, the API key must be obtained via the **Authentication** group in the website. Here, the file being loaded is a simple .txt file which contains said key on the first line, and nothing else."
   ]
  },
  {
   "cell_type": "code",
   "execution_count": 2,
   "metadata": {
    "collapsed": false,
    "deletable": true,
    "editable": true
   },
   "outputs": [],
   "source": [
    "with open('auth.txt', 'r') as f:\n",
    "    api_key = f.readline().rstrip()"
   ]
  },
  {
   "cell_type": "markdown",
   "metadata": {
    "deletable": true,
    "editable": true
   },
   "source": [
    "## 1.3 SensorID\n",
    "\n",
    "To obtain the list of sensor IDs, we need to use another API service, from the **Sensor** group, which according to the website can take as input one of the following parameters:\n",
    "\n",
    "```\n",
    "Name:\tString (optional)\tFilters list to sensors with names containing this string. (case-insensitive)\n",
    "NetworkID:\tInteger (optional)\tFilters list to sensor that belong to this network id\n",
    "ApplicationID:\tInteger (optional)\tFilters list to sensor that are this application type\n",
    "Status:\tInteger (optional)\tFilters list to sensor that match this status\n",
    "```\n",
    "\n",
    "**We can obtain the sensor name by observing it's details on iMonnit website**:\n",
    "\n",
    "![locate_gatewayid](locate_gatewayid.png)\n",
    "\n"
   ]
  },
  {
   "cell_type": "code",
   "execution_count": 3,
   "metadata": {
    "collapsed": false,
    "deletable": true,
    "editable": true
   },
   "outputs": [],
   "source": [
    "request = host+'/SensorList/'+api_key+'?name=Water Temperature - 513030-W-1 (mauka)'\n",
    "import requests\n",
    "request = requests.post(request)"
   ]
  },
  {
   "cell_type": "code",
   "execution_count": 4,
   "metadata": {
    "collapsed": false,
    "deletable": true,
    "editable": true
   },
   "outputs": [
    {
     "name": "stdout",
     "output_type": "stream",
     "text": [
      "<?xml version=\"1.0\" encoding=\"utf-8\"?>\r\n",
      "<SensorRestAPI xmlns:xsi=\"http://www.w3.org/2001/XMLSchema-instance\" xmlns:xsd=\"http://www.w3.org/2001/XMLSchema\">\r\n",
      "  <Method>SensorList</Method>\r\n",
      "  <Result xsi:type=\"xsd:collection\"><APISensorList>\r\n",
      "  <APISensor SensorID=\"513030\" ApplicationID=\"65\" CSNetID=\"12648\" SensorName=\"Water Temperature - 513030-W-1 (mauka)\" LastCommunicationDate=\"11/25/2019 4:32:30 AM\" NextCommunicationDate=\"11/25/2019 6:32:30 AM\" LastDataMessageMessageGUID=\"be6b4d5d-3cfb-4f86-8edd-ed620e324705\" PowerSourceID=\"1\" Status=\"0\" CanUpdate=\"True\" CurrentReading=\"116.1° F\" BatteryLevel=\"100\" SignalStrength=\"78\" AlertsActive=\"True\" CheckDigit=\"BSVZ\" AccountID=\"7124\" MonnitApplicationID=\"65\" />\r\n",
      "</APISensorList></Result>\r\n",
      "</SensorRestAPI>\r\n",
      "\n"
     ]
    }
   ],
   "source": [
    "print(request.text)"
   ]
  },
  {
   "cell_type": "markdown",
   "metadata": {
    "deletable": true,
    "editable": true
   },
   "source": [
    "However, depending on the subscription type, it may not be available. As such, **it is important that the Sensor ID is always documented on the sensor name, which was done as shown in the image:"
   ]
  },
  {
   "cell_type": "code",
   "execution_count": 9,
   "metadata": {
    "collapsed": true,
    "deletable": true,
    "editable": true
   },
   "outputs": [],
   "source": [
    "sensor_id = '513030'"
   ]
  },
  {
   "cell_type": "markdown",
   "metadata": {
    "deletable": true,
    "editable": true
   },
   "source": [
    "## 1.4 Time Window\n",
    "\n",
    "Finally, we set the time window using the format to request data, discussed on this notebook Section 1.1 and make the request:"
   ]
  },
  {
   "cell_type": "code",
   "execution_count": 10,
   "metadata": {
    "collapsed": true,
    "deletable": true,
    "editable": true
   },
   "outputs": [],
   "source": [
    "start_date = '2019/10/22 12:00:00 AM'\n",
    "end_date = '2019/10/23 12:00:00 AM'\n",
    "\n",
    "time_window = 'fromDate='+start_date+'&toDate='+end_date"
   ]
  },
  {
   "cell_type": "code",
   "execution_count": 11,
   "metadata": {
    "collapsed": false,
    "deletable": true,
    "editable": true
   },
   "outputs": [],
   "source": [
    "request = host+'/SensorDataMessages/'+api_key+'?sensorID='+sensor_id+'&'+time_window\n",
    "request = requests.post(request)"
   ]
  },
  {
   "cell_type": "code",
   "execution_count": 25,
   "metadata": {
    "collapsed": false,
    "deletable": true,
    "editable": true
   },
   "outputs": [
    {
     "name": "stdout",
     "output_type": "stream",
     "text": [
      "<?xml version=\"1.0\" ?>\n",
      "<SensorRestAPI xmlns:xsd=\"http://www.w3.org/2001/XMLSchema\" xmlns:xsi=\"http://www.w3.org/2001/XMLSchema-instance\">\n",
      "\t\n",
      "  \n",
      "\t<Method>SensorDataMessages</Method>\n",
      "\t\n",
      "  \n",
      "\t<Result xsi:type=\"xsd:collection\">\n",
      "\t\t<APIDataMessageList>\n",
      "\t\t\t\n",
      "  \n",
      "\t\t\t<APIDataMessage Battery=\"100\" Data=\"48\" DataMessageGUID=\"22b9423d-0272-442d-8344-1e6e982bb05f\" DataTypes=\"TemperatureData\" DataValues=\"48\" DisplayData=\"118.4° F\" GatewayID=\"112709\" MessageDate=\"10/23/2019 10:48:51 PM\" MetNotificationRequirements=\"False\" PlotLabels=\"Fahrenheit\" PlotValue=\"118.4\" PlotValues=\"118.4\" SensorID=\"513030\" SignalStrength=\"81\" State=\"16\" Voltage=\"3.06\"/>\n",
      "\t\t\t\n",
      "  \n",
      "\t\t\t<APIDataMessage Battery=\"100\" Data=\"45.9\" DataMessageGUID=\"c759ae7d-9831-4cf2-83f3-0150131246aa\" DataTypes=\"TemperatureData\" DataValues=\"45.9\" DisplayData=\"114.6° F\" GatewayID=\"112709\" MessageDate=\"10/23/2019 8:49:32 PM\" MetNotificationRequirements=\"False\" PlotLabels=\"Fahrenheit\" PlotValue=\"114.62\" PlotValues=\"114.62\" SensorID=\"513030\" SignalStrength=\"80\" State=\"16\" Voltage=\"3.05\"/>\n",
      "\t\t\t\n",
      "  \n",
      "\t\t\t<APIDataMessage Battery=\"100\" Data=\"46\" DataMessageGUID=\"b6f9a243-3849-45aa-819c-2e77e7313314\" DataTypes=\"TemperatureData\" DataValues=\"46\" DisplayData=\"114.8° F\" GatewayID=\"112709\" MessageDate=\"10/23/2019 6:50:33 PM\" MetNotificationRequirements=\"False\" PlotLabels=\"Fahrenheit\" PlotValue=\"114.8\" PlotValues=\"114.8\" SensorID=\"513030\" SignalStrength=\"81\" State=\"16\" Voltage=\"3.05\"/>\n",
      "\t\t\t\n",
      "  \n",
      "\t\t\t<APIDataMessage Battery=\"100\" Data=\"46.2\" DataMessageGUID=\"05ea4694-d775-4ceb-8411-c5f64024974e\" DataTypes=\"TemperatureData\" DataValues=\"46.2\" DisplayData=\"115.2° F\" GatewayID=\"112709\" MessageDate=\"10/23/2019 4:51:19 PM\" MetNotificationRequirements=\"False\" PlotLabels=\"Fahrenheit\" PlotValue=\"115.16\" PlotValues=\"115.16\" SensorID=\"513030\" SignalStrength=\"78\" State=\"16\" Voltage=\"3.05\"/>\n",
      "\t\t\t\n",
      "  \n",
      "\t\t\t<APIDataMessage Battery=\"100\" Data=\"46.5\" DataMessageGUID=\"2e4d766a-634c-4537-8048-de46cd3c164f\" DataTypes=\"TemperatureData\" DataValues=\"46.5\" DisplayData=\"115.7° F\" GatewayID=\"112709\" MessageDate=\"10/23/2019 2:51:29 PM\" MetNotificationRequirements=\"False\" PlotLabels=\"Fahrenheit\" PlotValue=\"115.7\" PlotValues=\"115.7\" SensorID=\"513030\" SignalStrength=\"77\" State=\"16\" Voltage=\"3.05\"/>\n",
      "\t\t\t\n",
      "  \n",
      "\t\t\t<APIDataMessage Battery=\"100\" Data=\"46.9\" DataMessageGUID=\"13d53cbe-1aa0-4b18-9f33-a921eb92539f\" DataTypes=\"TemperatureData\" DataValues=\"46.9\" DisplayData=\"116.4° F\" GatewayID=\"112709\" MessageDate=\"10/23/2019 12:51:42 PM\" MetNotificationRequirements=\"False\" PlotLabels=\"Fahrenheit\" PlotValue=\"116.42\" PlotValues=\"116.42\" SensorID=\"513030\" SignalStrength=\"77\" State=\"16\" Voltage=\"3.05\"/>\n",
      "\t\t\t\n",
      "  \n",
      "\t\t\t<APIDataMessage Battery=\"100\" Data=\"47.2\" DataMessageGUID=\"0494ba93-c306-4837-b8ac-c2d1d908d9a3\" DataTypes=\"TemperatureData\" DataValues=\"47.2\" DisplayData=\"117° F\" GatewayID=\"112709\" MessageDate=\"10/23/2019 10:51:37 AM\" MetNotificationRequirements=\"False\" PlotLabels=\"Fahrenheit\" PlotValue=\"116.96\" PlotValues=\"116.96\" SensorID=\"513030\" SignalStrength=\"77\" State=\"16\" Voltage=\"3.05\"/>\n",
      "\t\t\t\n",
      "  \n",
      "\t\t\t<APIDataMessage Battery=\"100\" Data=\"47.5\" DataMessageGUID=\"252d94eb-29d2-48a7-ae53-70c0cbdfd182\" DataTypes=\"TemperatureData\" DataValues=\"47.5\" DisplayData=\"117.5° F\" GatewayID=\"112709\" MessageDate=\"10/23/2019 8:51:33 AM\" MetNotificationRequirements=\"False\" PlotLabels=\"Fahrenheit\" PlotValue=\"117.5\" PlotValues=\"117.5\" SensorID=\"513030\" SignalStrength=\"77\" State=\"16\" Voltage=\"3.05\"/>\n",
      "\t\t\t\n",
      "  \n",
      "\t\t\t<APIDataMessage Battery=\"100\" Data=\"47.9\" DataMessageGUID=\"1ac19e84-ce1c-4734-a52a-c53ed50a6816\" DataTypes=\"TemperatureData\" DataValues=\"47.9\" DisplayData=\"118.2° F\" GatewayID=\"112709\" MessageDate=\"10/23/2019 6:51:35 AM\" MetNotificationRequirements=\"False\" PlotLabels=\"Fahrenheit\" PlotValue=\"118.22\" PlotValues=\"118.22\" SensorID=\"513030\" SignalStrength=\"77\" State=\"16\" Voltage=\"3.06\"/>\n",
      "\t\t\t\n",
      "  \n",
      "\t\t\t<APIDataMessage Battery=\"100\" Data=\"48.2\" DataMessageGUID=\"703bc50f-b630-4d4b-9b4a-b1f333700f1c\" DataTypes=\"TemperatureData\" DataValues=\"48.2\" DisplayData=\"118.8° F\" GatewayID=\"112709\" MessageDate=\"10/23/2019 4:51:26 AM\" MetNotificationRequirements=\"False\" PlotLabels=\"Fahrenheit\" PlotValue=\"118.76\" PlotValues=\"118.76\" SensorID=\"513030\" SignalStrength=\"76\" State=\"16\" Voltage=\"3.05\"/>\n",
      "\t\t\t\n",
      "  \n",
      "\t\t\t<APIDataMessage Battery=\"100\" Data=\"48.7\" DataMessageGUID=\"ab1f886b-8084-48de-a59a-25a1df254d5f\" DataTypes=\"TemperatureData\" DataValues=\"48.7\" DisplayData=\"119.7° F\" GatewayID=\"112709\" MessageDate=\"10/23/2019 2:49:37 AM\" MetNotificationRequirements=\"False\" PlotLabels=\"Fahrenheit\" PlotValue=\"119.66\" PlotValues=\"119.66\" SensorID=\"513030\" SignalStrength=\"77\" State=\"16\" Voltage=\"3.06\"/>\n",
      "\t\t\t\n",
      "  \n",
      "\t\t\t<APIDataMessage Battery=\"100\" Data=\"48.7\" DataMessageGUID=\"c3ef9533-19e1-4282-b7b4-5102c32486fb\" DataTypes=\"TemperatureData\" DataValues=\"48.7\" DisplayData=\"119.7° F\" GatewayID=\"112709\" MessageDate=\"10/23/2019 12:49:41 AM\" MetNotificationRequirements=\"False\" PlotLabels=\"Fahrenheit\" PlotValue=\"119.66\" PlotValues=\"119.66\" SensorID=\"513030\" SignalStrength=\"78\" State=\"16\" Voltage=\"3.06\"/>\n",
      "\t\t\t\n",
      "  \n",
      "\t\t\t<APIDataMessage Battery=\"100\" Data=\"47.1\" DataMessageGUID=\"8e1e1290-119a-4849-916d-029eb5514170\" DataTypes=\"TemperatureData\" DataValues=\"47.1\" DisplayData=\"116.8° F\" GatewayID=\"112709\" MessageDate=\"10/22/2019 10:50:32 PM\" MetNotificationRequirements=\"False\" PlotLabels=\"Fahrenheit\" PlotValue=\"116.78\" PlotValues=\"116.78\" SensorID=\"513030\" SignalStrength=\"78\" State=\"16\" Voltage=\"3.06\"/>\n",
      "\t\t\t\n",
      "  \n",
      "\t\t\t<APIDataMessage Battery=\"100\" Data=\"44.7\" DataMessageGUID=\"9852397f-ac95-446b-ba1d-863f9bbb9655\" DataTypes=\"TemperatureData\" DataValues=\"44.7\" DisplayData=\"112.5° F\" GatewayID=\"112709\" MessageDate=\"10/22/2019 8:50:56 PM\" MetNotificationRequirements=\"False\" PlotLabels=\"Fahrenheit\" PlotValue=\"112.46\" PlotValues=\"112.46\" SensorID=\"513030\" SignalStrength=\"72\" State=\"16\" Voltage=\"3.06\"/>\n",
      "\t\t\t\n",
      "  \n",
      "\t\t\t<APIDataMessage Battery=\"100\" Data=\"44.8\" DataMessageGUID=\"f505b388-7e53-48b4-b097-6c4c6c35f612\" DataTypes=\"TemperatureData\" DataValues=\"44.8\" DisplayData=\"112.6° F\" GatewayID=\"112709\" MessageDate=\"10/22/2019 6:52:07 PM\" MetNotificationRequirements=\"False\" PlotLabels=\"Fahrenheit\" PlotValue=\"112.64\" PlotValues=\"112.64\" SensorID=\"513030\" SignalStrength=\"78\" State=\"16\" Voltage=\"3.04\"/>\n",
      "\t\t\t\n",
      "  \n",
      "\t\t\t<APIDataMessage Battery=\"100\" Data=\"44.9\" DataMessageGUID=\"b8e932ab-3478-4fbf-89f6-1c8bf01c7269\" DataTypes=\"TemperatureData\" DataValues=\"44.9\" DisplayData=\"112.8° F\" GatewayID=\"112709\" MessageDate=\"10/22/2019 4:52:42 PM\" MetNotificationRequirements=\"False\" PlotLabels=\"Fahrenheit\" PlotValue=\"112.82\" PlotValues=\"112.82\" SensorID=\"513030\" SignalStrength=\"78\" State=\"16\" Voltage=\"3.05\"/>\n",
      "\t\t\t\n",
      "  \n",
      "\t\t\t<APIDataMessage Battery=\"100\" Data=\"45\" DataMessageGUID=\"3d3dc1f7-5403-4053-a5ec-11022c68bdf2\" DataTypes=\"TemperatureData\" DataValues=\"45\" DisplayData=\"113° F\" GatewayID=\"112709\" MessageDate=\"10/22/2019 2:52:52 PM\" MetNotificationRequirements=\"False\" PlotLabels=\"Fahrenheit\" PlotValue=\"113\" PlotValues=\"113\" SensorID=\"513030\" SignalStrength=\"80\" State=\"16\" Voltage=\"3.05\"/>\n",
      "\t\t\t\n",
      "  \n",
      "\t\t\t<APIDataMessage Battery=\"100\" Data=\"45.3\" DataMessageGUID=\"92612e6b-62fd-4aa6-b755-37b5b95ca8ea\" DataTypes=\"TemperatureData\" DataValues=\"45.3\" DisplayData=\"113.5° F\" GatewayID=\"112709\" MessageDate=\"10/22/2019 12:52:52 PM\" MetNotificationRequirements=\"False\" PlotLabels=\"Fahrenheit\" PlotValue=\"113.54\" PlotValues=\"113.54\" SensorID=\"513030\" SignalStrength=\"80\" State=\"16\" Voltage=\"3.05\"/>\n",
      "\t\t\t\n",
      "  \n",
      "\t\t\t<APIDataMessage Battery=\"100\" Data=\"45.6\" DataMessageGUID=\"d1858c63-3fa7-4e9f-999e-62b0b0374159\" DataTypes=\"TemperatureData\" DataValues=\"45.6\" DisplayData=\"114.1° F\" GatewayID=\"112709\" MessageDate=\"10/22/2019 10:52:54 AM\" MetNotificationRequirements=\"False\" PlotLabels=\"Fahrenheit\" PlotValue=\"114.08\" PlotValues=\"114.08\" SensorID=\"513030\" SignalStrength=\"78\" State=\"16\" Voltage=\"3.04\"/>\n",
      "\t\t\t\n",
      "  \n",
      "\t\t\t<APIDataMessage Battery=\"100\" Data=\"45.9\" DataMessageGUID=\"475808bc-dac5-46e3-96af-fbfec3169a87\" DataTypes=\"TemperatureData\" DataValues=\"45.9\" DisplayData=\"114.6° F\" GatewayID=\"112709\" MessageDate=\"10/22/2019 8:52:47 AM\" MetNotificationRequirements=\"False\" PlotLabels=\"Fahrenheit\" PlotValue=\"114.62\" PlotValues=\"114.62\" SensorID=\"513030\" SignalStrength=\"80\" State=\"16\" Voltage=\"3.05\"/>\n",
      "\t\t\t\n",
      "  \n",
      "\t\t\t<APIDataMessage Battery=\"100\" Data=\"46.2\" DataMessageGUID=\"8bfef07d-63fd-4197-a2e8-2531e5b911b7\" DataTypes=\"TemperatureData\" DataValues=\"46.2\" DisplayData=\"115.2° F\" GatewayID=\"112709\" MessageDate=\"10/22/2019 6:52:27 AM\" MetNotificationRequirements=\"False\" PlotLabels=\"Fahrenheit\" PlotValue=\"115.16\" PlotValues=\"115.16\" SensorID=\"513030\" SignalStrength=\"80\" State=\"16\" Voltage=\"3.04\"/>\n",
      "\t\t\t\n",
      "  \n",
      "\t\t\t<APIDataMessage Battery=\"100\" Data=\"46.5\" DataMessageGUID=\"23abae5c-b0dd-4d0b-892d-4b10b829737e\" DataTypes=\"TemperatureData\" DataValues=\"46.5\" DisplayData=\"115.7° F\" GatewayID=\"112709\" MessageDate=\"10/22/2019 4:52:16 AM\" MetNotificationRequirements=\"False\" PlotLabels=\"Fahrenheit\" PlotValue=\"115.7\" PlotValues=\"115.7\" SensorID=\"513030\" SignalStrength=\"80\" State=\"16\" Voltage=\"3.04\"/>\n",
      "\t\t\t\n",
      "  \n",
      "\t\t\t<APIDataMessage Battery=\"100\" Data=\"46.9\" DataMessageGUID=\"d8837597-76a2-46e0-8680-aaece76ead54\" DataTypes=\"TemperatureData\" DataValues=\"46.9\" DisplayData=\"116.4° F\" GatewayID=\"112709\" MessageDate=\"10/22/2019 2:50:36 AM\" MetNotificationRequirements=\"False\" PlotLabels=\"Fahrenheit\" PlotValue=\"116.42\" PlotValues=\"116.42\" SensorID=\"513030\" SignalStrength=\"81\" State=\"16\" Voltage=\"3.06\"/>\n",
      "\t\t\t\n",
      "  \n",
      "\t\t\t<APIDataMessage Battery=\"100\" Data=\"47.1\" DataMessageGUID=\"fc3ce04c-8dc3-4692-afcf-c3529411f297\" DataTypes=\"TemperatureData\" DataValues=\"47.1\" DisplayData=\"116.8° F\" GatewayID=\"112709\" MessageDate=\"10/22/2019 12:50:10 AM\" MetNotificationRequirements=\"False\" PlotLabels=\"Fahrenheit\" PlotValue=\"116.78\" PlotValues=\"116.78\" SensorID=\"513030\" SignalStrength=\"81\" State=\"16\" Voltage=\"3.05\"/>\n",
      "\t\t\t\n",
      "\n",
      "\t\t</APIDataMessageList>\n",
      "\t</Result>\n",
      "\t\n",
      "\n",
      "</SensorRestAPI>\n",
      "\n"
     ]
    }
   ],
   "source": [
    "from xml.dom.minidom import parse, parseString\n",
    "\n",
    "dom = parseString(request.text)\n",
    "print(dom.toprettyxml(indent=\"\\t\"))"
   ]
  },
  {
   "cell_type": "markdown",
   "metadata": {},
   "source": [
    "Finally, we store the raw file to disk:"
   ]
  },
  {
   "cell_type": "code",
   "execution_count": 26,
   "metadata": {
    "collapsed": false
   },
   "outputs": [],
   "source": [
    "file_handle = open(\"imonnit_data.xml\",\"w\")\n",
    "dom.writexml(file_handle)\n",
    "file_handle.close()"
   ]
  }
 ],
 "metadata": {
  "kernelspec": {
   "display_name": "Python 3",
   "language": "python",
   "name": "python3"
  },
  "language_info": {
   "codemirror_mode": {
    "name": "ipython",
    "version": 3
   },
   "file_extension": ".py",
   "mimetype": "text/x-python",
   "name": "python",
   "nbconvert_exporter": "python",
   "pygments_lexer": "ipython3",
   "version": "3.6.0"
  }
 },
 "nbformat": 4,
 "nbformat_minor": 2
}
