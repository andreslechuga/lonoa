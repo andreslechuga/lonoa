{
 "cells": [
  {
   "cell_type": "markdown",
   "metadata": {
    "deletable": true,
    "editable": true
   },
   "source": [
    "# Introduction\n",
    "\n",
    "This notebooks provides the minimum necessary code to access data from egauge's API, the software currently used in both DHHL and the Frogs Project. For an overview of the architecture, see the readme.md file of the project where is notebook is hosted.\n",
    "\n"
   ]
  },
  {
   "cell_type": "markdown",
   "metadata": {
    "deletable": true,
    "editable": true
   },
   "source": [
    "## 1. Required Input Parameters"
   ]
  },
  {
   "cell_type": "markdown",
   "metadata": {
    "deletable": true,
    "editable": true
   },
   "source": [
    "### 1.1 Host\n",
    "\n",
    "Currently eGauge API is [hosted by the eGauge company](https://www.egauge.net/eguard/). Contrary to the usual setup where the data resides in a database and the API exposes access to it in a server, the eGauge API does **not** store any eGauge data. Instead, the data is stored in the sensor itself. The egaugeAPI serves only as a in between layer between this Python Notebook and the sensor, in order to abstract how to communicate with the sensor directly. Because of that, **the sensors must be connected to the internet, regardless of where they are deployed, in order for the data to be available via API at any point in time**. \n",
    "\n",
    "While the eGauge website requires authentication to visualize the sensor IDs (required to request data from the API) and their physical location, once the sensor ID is known the access to the data itself does not require authentication. As such, provided the sensor ID is known, any user in the world can request data from the sensor via the API.\n",
    "\n",
    "The API website where sensor IDs is are available is shown below for reproducibility purposes:\n",
    "\n",
    "\n",
    "![egauge_portfolio](img/egauge_portfolio.png)\n",
    "\n",
    "As it can be observed, on the **Status** and **Available** columns, because the data is available only in the sensor, requesting data from a particular sensor may require several attempts if the requests are automated. Accordingly, the specified time range upon every request must be updated over every failed attempt. \n",
    "\n",
    "Stored data is updated once a minute, and it can be fetched using the following host template [1]:\n",
    "\n",
    "``` \n",
    "http://egauge{}.egaug.es/cgi-bin/egauge-show?\n",
    "```"
   ]
  },
  {
   "cell_type": "code",
   "execution_count": 220,
   "metadata": {
    "collapsed": true,
    "deletable": true,
    "editable": true
   },
   "outputs": [],
   "source": [
    "host = 'http://egauge{}.egaug.es/cgi-bin/egauge-show?'"
   ]
  },
  {
   "cell_type": "markdown",
   "metadata": {
    "deletable": true,
    "editable": true
   },
   "source": [
    "### 1.2 Sensor \n",
    "\n",
    "You should contact a member of ERDL if you are interested in data by any specific sensor managed by our group. In this example notebook, we will use the eGauge whose sensor ID `31871`. "
   ]
  },
  {
   "cell_type": "code",
   "execution_count": 221,
   "metadata": {
    "collapsed": true,
    "deletable": true,
    "editable": true
   },
   "outputs": [],
   "source": [
    "sensor_id = 34111 #ACC House 1 ; Purpose ID 136"
   ]
  },
  {
   "cell_type": "markdown",
   "metadata": {
    "deletable": true,
    "editable": true
   },
   "source": [
    "The list of available parameters [1] at the time this Python notebook was made is shown below for reproducibility. \n",
    "\n",
    "![eguard_api_parameters](img/egauge_parameters.png)\n",
    "\n",
    "We only use 5 of the ones available above."
   ]
  },
  {
   "cell_type": "markdown",
   "metadata": {
    "deletable": true,
    "editable": true
   },
   "source": [
    "### 1.3 Start and End Date\n",
    "\n",
    "The start and end date are specified by parameters **t** (14th row top-bottom) and **f** (13th row top-bottom) respectively, and must be specified in [unix timestamp](https://en.wikipedia.org/wiki/Unix_time).  \n",
    "\n",
    "The following function converts a timestamp in the human readable format to unix timestamp by using the following format: `<date>T<time><timezone>`, where:\n",
    "\n",
    " * `<date>`: YYYY-MM-DD\n",
    " * `<time>`: hh:mm:ss\n",
    " * `<timezone>`: (-)zz\n",
    " \n",
    "Hawaii Timezone is -10. "
   ]
  },
  {
   "cell_type": "code",
   "execution_count": 222,
   "metadata": {
    "collapsed": false,
    "deletable": true,
    "editable": true
   },
   "outputs": [],
   "source": [
    "import arrow\n",
    "iso_start_datetimez = '2017-09-13T15:19:00-10'\n",
    "iso_end_datetimez = '2017-09-13T15:25:00-10'\n",
    "\n",
    "start_timestamp = arrow.get(iso_start_datetimez).timestamp\n",
    "end_timestamp = arrow.get(iso_end_datetimez).timestamp"
   ]
  },
  {
   "cell_type": "markdown",
   "metadata": {
    "deletable": true,
    "editable": true
   },
   "source": [
    "### 1.4. Time Resolution \n",
    "\n",
    "The time resolution, as specified by parameter **m** (6th row top-bottom), specifies the output resolution will be in **minutes**. "
   ]
  },
  {
   "cell_type": "code",
   "execution_count": 223,
   "metadata": {
    "collapsed": true,
    "deletable": true,
    "editable": true
   },
   "outputs": [],
   "source": [
    "minutes = 'm'"
   ]
  },
  {
   "cell_type": "markdown",
   "metadata": {
    "deletable": true,
    "editable": true
   },
   "source": [
    "### 1.5. Export Format \n",
    "\n",
    "The export format, as specified by parameter **c** (4th row top-bottom), specifies the output will be in **CSV**."
   ]
  },
  {
   "cell_type": "code",
   "execution_count": 224,
   "metadata": {
    "collapsed": true,
    "deletable": true,
    "editable": true
   },
   "outputs": [],
   "source": [
    "output_csv = 'c'"
   ]
  },
  {
   "cell_type": "markdown",
   "metadata": {
    "deletable": true,
    "editable": true
   },
   "source": [
    "### 1.6. Compression\n",
    "\n",
    "The compression method, as specified by parameter `C` (10th row top-bottom), specifies the use of **delta-compression**. In practice, the use of compression option return the readings in **Power (kW)**  units, whereas omitting this parameter returns the table in **Energy (kWh)**. \n",
    "\n",
    "Retrieving the data as **Power** is preferable, since we can simple sum **Power** over the time window of interest to derive **Energy (kWh)**, but the inverse is not true unless **Power** was constant, which is not in the case for the usage of eGauge in ERDL.\n",
    "\n",
    "**However**, the usage of **Power (kW)**, contrary to intuition, require some caution. The details are discussed in section 3."
   ]
  },
  {
   "cell_type": "code",
   "execution_count": 225,
   "metadata": {
    "collapsed": true,
    "deletable": true,
    "editable": true
   },
   "outputs": [],
   "source": [
    "delta_compression = 'C'"
   ]
  },
  {
   "cell_type": "markdown",
   "metadata": {
    "deletable": true,
    "editable": true
   },
   "source": [
    "## 2. Request Readings "
   ]
  },
  {
   "cell_type": "code",
   "execution_count": 226,
   "metadata": {
    "collapsed": false,
    "deletable": true,
    "editable": true
   },
   "outputs": [
    {
     "name": "stdout",
     "output_type": "stream",
     "text": [
      "http://egauge34111.egaug.es/cgi-bin/egauge-show?&m&c&C\n"
     ]
    }
   ],
   "source": [
    "import requests\n",
    "\n",
    "host = host.format(sensor_id) + '&' + minutes + '&' + output_csv + '&' + delta_compression \n",
    "time_window = {'t': start_timestamp, 'f': end_timestamp}\n",
    "\n",
    "print(host)"
   ]
  },
  {
   "cell_type": "code",
   "execution_count": 233,
   "metadata": {
    "collapsed": false,
    "deletable": true,
    "editable": true
   },
   "outputs": [
    {
     "name": "stdout",
     "output_type": "stream",
     "text": [
      "<Response [200]>\n"
     ]
    }
   ],
   "source": [
    "r = requests.get(host,params=time_window)\n",
    "print(r)"
   ]
  },
  {
   "cell_type": "markdown",
   "metadata": {
    "deletable": true,
    "editable": true
   },
   "source": [
    "The returned .csv will be in the format of a string (including `\\n`, so we interpret it accordingly."
   ]
  },
  {
   "cell_type": "code",
   "execution_count": 229,
   "metadata": {
    "collapsed": false
   },
   "outputs": [
    {
     "data": {
      "text/html": [
       "<div>\n",
       "<table border=\"1\" class=\"dataframe\">\n",
       "  <thead>\n",
       "    <tr style=\"text-align: right;\">\n",
       "      <th></th>\n",
       "      <th>Date &amp; Time</th>\n",
       "      <th>Usage [kW]</th>\n",
       "      <th>Generation [kW]</th>\n",
       "      <th>Other [kW]</th>\n",
       "      <th>Water heater [kW]</th>\n",
       "      <th>Whole house [kW]</th>\n",
       "      <th>ACC [kW]</th>\n",
       "      <th>AHU [kW]</th>\n",
       "      <th>Dryer [kW]</th>\n",
       "      <th>Range [kW]</th>\n",
       "      <th>Kitchen refridgerator [kW]</th>\n",
       "    </tr>\n",
       "  </thead>\n",
       "  <tbody>\n",
       "    <tr>\n",
       "      <th>0</th>\n",
       "      <td>1505352240</td>\n",
       "      <td>-0.0</td>\n",
       "      <td>-0.0</td>\n",
       "      <td>0.477750</td>\n",
       "      <td>0.069967</td>\n",
       "      <td>1.953250</td>\n",
       "      <td>1.252933</td>\n",
       "      <td>0.138517</td>\n",
       "      <td>0.012717</td>\n",
       "      <td>0.000867</td>\n",
       "      <td>0.000500</td>\n",
       "    </tr>\n",
       "    <tr>\n",
       "      <th>1</th>\n",
       "      <td>1505352180</td>\n",
       "      <td>-0.0</td>\n",
       "      <td>-0.0</td>\n",
       "      <td>0.477533</td>\n",
       "      <td>0.100517</td>\n",
       "      <td>1.976467</td>\n",
       "      <td>1.253350</td>\n",
       "      <td>0.139433</td>\n",
       "      <td>0.004317</td>\n",
       "      <td>0.000833</td>\n",
       "      <td>0.000483</td>\n",
       "    </tr>\n",
       "    <tr>\n",
       "      <th>2</th>\n",
       "      <td>1505352120</td>\n",
       "      <td>-0.0</td>\n",
       "      <td>-0.0</td>\n",
       "      <td>0.477367</td>\n",
       "      <td>0.063583</td>\n",
       "      <td>1.978717</td>\n",
       "      <td>1.243667</td>\n",
       "      <td>0.139600</td>\n",
       "      <td>0.001483</td>\n",
       "      <td>0.000900</td>\n",
       "      <td>0.052117</td>\n",
       "    </tr>\n",
       "    <tr>\n",
       "      <th>3</th>\n",
       "      <td>1505352060</td>\n",
       "      <td>-0.0</td>\n",
       "      <td>-0.0</td>\n",
       "      <td>0.534883</td>\n",
       "      <td>0.003533</td>\n",
       "      <td>2.026917</td>\n",
       "      <td>1.246650</td>\n",
       "      <td>0.139833</td>\n",
       "      <td>0.001500</td>\n",
       "      <td>0.000917</td>\n",
       "      <td>0.099600</td>\n",
       "    </tr>\n",
       "    <tr>\n",
       "      <th>4</th>\n",
       "      <td>1505352000</td>\n",
       "      <td>-0.0</td>\n",
       "      <td>-0.0</td>\n",
       "      <td>0.545650</td>\n",
       "      <td>0.003567</td>\n",
       "      <td>2.037700</td>\n",
       "      <td>1.246667</td>\n",
       "      <td>0.139633</td>\n",
       "      <td>0.001500</td>\n",
       "      <td>0.000850</td>\n",
       "      <td>0.099833</td>\n",
       "    </tr>\n",
       "    <tr>\n",
       "      <th>5</th>\n",
       "      <td>1505351940</td>\n",
       "      <td>-0.0</td>\n",
       "      <td>-0.0</td>\n",
       "      <td>0.549133</td>\n",
       "      <td>0.003550</td>\n",
       "      <td>2.042467</td>\n",
       "      <td>1.247550</td>\n",
       "      <td>0.139583</td>\n",
       "      <td>0.001483</td>\n",
       "      <td>0.000917</td>\n",
       "      <td>0.100250</td>\n",
       "    </tr>\n",
       "  </tbody>\n",
       "</table>\n",
       "</div>"
      ],
      "text/plain": [
       "   Date & Time  Usage [kW]  Generation [kW]  Other [kW]  Water heater [kW]  \\\n",
       "0   1505352240        -0.0             -0.0    0.477750           0.069967   \n",
       "1   1505352180        -0.0             -0.0    0.477533           0.100517   \n",
       "2   1505352120        -0.0             -0.0    0.477367           0.063583   \n",
       "3   1505352060        -0.0             -0.0    0.534883           0.003533   \n",
       "4   1505352000        -0.0             -0.0    0.545650           0.003567   \n",
       "5   1505351940        -0.0             -0.0    0.549133           0.003550   \n",
       "\n",
       "   Whole house [kW]  ACC [kW]  AHU [kW]  Dryer [kW]  Range [kW]  \\\n",
       "0          1.953250  1.252933  0.138517    0.012717    0.000867   \n",
       "1          1.976467  1.253350  0.139433    0.004317    0.000833   \n",
       "2          1.978717  1.243667  0.139600    0.001483    0.000900   \n",
       "3          2.026917  1.246650  0.139833    0.001500    0.000917   \n",
       "4          2.037700  1.246667  0.139633    0.001500    0.000850   \n",
       "5          2.042467  1.247550  0.139583    0.001483    0.000917   \n",
       "\n",
       "   Kitchen refridgerator [kW]  \n",
       "0                    0.000500  \n",
       "1                    0.000483  \n",
       "2                    0.052117  \n",
       "3                    0.099600  \n",
       "4                    0.099833  \n",
       "5                    0.100250  "
      ]
     },
     "execution_count": 229,
     "metadata": {},
     "output_type": "execute_result"
    }
   ],
   "source": [
    "import pandas as pd\n",
    "from io import StringIO #To parse the String as a .csv file\n",
    "df = pd.read_csv(StringIO(r.text))\n",
    "df"
   ]
  },
  {
   "cell_type": "markdown",
   "metadata": {},
   "source": [
    "At this point, this notebook showcased how to obtain data from any eGauge sensor in ERDL. However, the interpretation of **Power** above, when the choice of the granularity is **minute** lead to some complications that may comprimise the interpretation of the data. The following section discuss them in more detail. "
   ]
  },
  {
   "cell_type": "markdown",
   "metadata": {},
   "source": [
    "## 3. Power (kW) Interpretation - An Example\n",
    "\n",
    "Introducing the complications behind Power (kW) at **minute** granularity (parameter 1.4) is easier by first explaining how **delta compression** (parameter 1.6) works at **hourly** granularity, and then demostrating how the mechanism, contrary to intuition, **does not** work at **minute** level. The section concludes with the necessary workaround to use **Power** at **minute** level.\n",
    "\n",
    "Let's first extract some data from the same sensor but in a **6 hour time window** (parameter 1.3) at a **hour** resolution, contrary to above, where our time window was **6 minutes** at a **minute resolution**. \n",
    "\n",
    "The other parameters remain as previously specified. "
   ]
  },
  {
   "cell_type": "markdown",
   "metadata": {},
   "source": [
    "### 3.1 Power at Hourly Resolution\n",
    "\n",
    "We modify the time window from 6 minutes to 4 hours, and change the resolution to hour: "
   ]
  },
  {
   "cell_type": "code",
   "execution_count": 242,
   "metadata": {
    "collapsed": true
   },
   "outputs": [],
   "source": [
    "iso_start_datetimez = '2017-09-13T15:25:00-10' \n",
    "iso_end_datetimez = '2017-09-13T21:25:00-10' #hour (after T) was adjusted from 15 to 21. \n",
    "\n",
    "start_timestamp = arrow.get(iso_start_datetimez).timestamp\n",
    "end_timestamp = arrow.get(iso_end_datetimez).timestamp"
   ]
  },
  {
   "cell_type": "code",
   "execution_count": 243,
   "metadata": {
    "collapsed": true
   },
   "outputs": [],
   "source": [
    "hour = 'h' #previously minutes = 'm'"
   ]
  },
  {
   "cell_type": "markdown",
   "metadata": {},
   "source": [
    "With the modified parameters, we again request for the Power information in a hour granularity for a different wime window:"
   ]
  },
  {
   "cell_type": "code",
   "execution_count": 244,
   "metadata": {
    "collapsed": false
   },
   "outputs": [
    {
     "data": {
      "text/html": [
       "<div>\n",
       "<table border=\"1\" class=\"dataframe\">\n",
       "  <thead>\n",
       "    <tr style=\"text-align: right;\">\n",
       "      <th></th>\n",
       "      <th>Date &amp; Time</th>\n",
       "      <th>Usage [kW]</th>\n",
       "      <th>Generation [kW]</th>\n",
       "      <th>Other [kW]</th>\n",
       "      <th>Water heater [kW]</th>\n",
       "      <th>Whole house [kW]</th>\n",
       "      <th>ACC [kW]</th>\n",
       "      <th>AHU [kW]</th>\n",
       "      <th>Dryer [kW]</th>\n",
       "      <th>Range [kW]</th>\n",
       "      <th>Kitchen refridgerator [kW]</th>\n",
       "    </tr>\n",
       "  </thead>\n",
       "  <tbody>\n",
       "    <tr>\n",
       "      <th>0</th>\n",
       "      <td>1505368800</td>\n",
       "      <td>-0.0</td>\n",
       "      <td>-0.0</td>\n",
       "      <td>0.591079</td>\n",
       "      <td>0.003283</td>\n",
       "      <td>1.833674</td>\n",
       "      <td>1.110716</td>\n",
       "      <td>0.087945</td>\n",
       "      <td>0.002367</td>\n",
       "      <td>0.001001</td>\n",
       "      <td>0.037283</td>\n",
       "    </tr>\n",
       "    <tr>\n",
       "      <th>1</th>\n",
       "      <td>1505365200</td>\n",
       "      <td>-0.0</td>\n",
       "      <td>-0.0</td>\n",
       "      <td>0.540458</td>\n",
       "      <td>0.003281</td>\n",
       "      <td>1.841766</td>\n",
       "      <td>1.130589</td>\n",
       "      <td>0.137627</td>\n",
       "      <td>0.001687</td>\n",
       "      <td>0.000921</td>\n",
       "      <td>0.027204</td>\n",
       "    </tr>\n",
       "    <tr>\n",
       "      <th>2</th>\n",
       "      <td>1505361600</td>\n",
       "      <td>-0.0</td>\n",
       "      <td>-0.0</td>\n",
       "      <td>0.527071</td>\n",
       "      <td>0.003948</td>\n",
       "      <td>1.852676</td>\n",
       "      <td>1.162414</td>\n",
       "      <td>0.137493</td>\n",
       "      <td>0.001637</td>\n",
       "      <td>0.000946</td>\n",
       "      <td>0.019168</td>\n",
       "    </tr>\n",
       "    <tr>\n",
       "      <th>3</th>\n",
       "      <td>1505358000</td>\n",
       "      <td>-0.0</td>\n",
       "      <td>-0.0</td>\n",
       "      <td>0.443819</td>\n",
       "      <td>0.007247</td>\n",
       "      <td>1.823622</td>\n",
       "      <td>1.198753</td>\n",
       "      <td>0.138180</td>\n",
       "      <td>0.001600</td>\n",
       "      <td>0.000939</td>\n",
       "      <td>0.033084</td>\n",
       "    </tr>\n",
       "    <tr>\n",
       "      <th>4</th>\n",
       "      <td>1505354400</td>\n",
       "      <td>-0.0</td>\n",
       "      <td>-0.0</td>\n",
       "      <td>0.424791</td>\n",
       "      <td>0.020889</td>\n",
       "      <td>2.204102</td>\n",
       "      <td>1.232093</td>\n",
       "      <td>0.138607</td>\n",
       "      <td>0.338874</td>\n",
       "      <td>0.000944</td>\n",
       "      <td>0.047904</td>\n",
       "    </tr>\n",
       "  </tbody>\n",
       "</table>\n",
       "</div>"
      ],
      "text/plain": [
       "   Date & Time  Usage [kW]  Generation [kW]  Other [kW]  Water heater [kW]  \\\n",
       "0   1505368800        -0.0             -0.0    0.591079           0.003283   \n",
       "1   1505365200        -0.0             -0.0    0.540458           0.003281   \n",
       "2   1505361600        -0.0             -0.0    0.527071           0.003948   \n",
       "3   1505358000        -0.0             -0.0    0.443819           0.007247   \n",
       "4   1505354400        -0.0             -0.0    0.424791           0.020889   \n",
       "\n",
       "   Whole house [kW]  ACC [kW]  AHU [kW]  Dryer [kW]  Range [kW]  \\\n",
       "0          1.833674  1.110716  0.087945    0.002367    0.001001   \n",
       "1          1.841766  1.130589  0.137627    0.001687    0.000921   \n",
       "2          1.852676  1.162414  0.137493    0.001637    0.000946   \n",
       "3          1.823622  1.198753  0.138180    0.001600    0.000939   \n",
       "4          2.204102  1.232093  0.138607    0.338874    0.000944   \n",
       "\n",
       "   Kitchen refridgerator [kW]  \n",
       "0                    0.037283  \n",
       "1                    0.027204  \n",
       "2                    0.019168  \n",
       "3                    0.033084  \n",
       "4                    0.047904  "
      ]
     },
     "execution_count": 244,
     "metadata": {},
     "output_type": "execute_result"
    }
   ],
   "source": [
    "host = host + '&' + hour + '&' + output_csv + '&' + delta_compression \n",
    "time_window = {'t': start_timestamp, 'f': end_timestamp}\n",
    "r = requests.get(host,params=time_window)\n",
    "df = pd.read_csv(StringIO(r.text))\n",
    "df"
   ]
  },
  {
   "cell_type": "markdown",
   "metadata": {},
   "source": [
    "Next, let's do the same request but **without delta compression**, so we obtain **Energy (kWh)** for the same time window. "
   ]
  },
  {
   "cell_type": "markdown",
   "metadata": {},
   "source": [
    "### 3.2 Energy at Hourly Resolution"
   ]
  },
  {
   "cell_type": "code",
   "execution_count": 246,
   "metadata": {
    "collapsed": false,
    "deletable": true,
    "editable": true,
    "scrolled": false
   },
   "outputs": [
    {
     "data": {
      "text/html": [
       "<div>\n",
       "<table border=\"1\" class=\"dataframe\">\n",
       "  <thead>\n",
       "    <tr style=\"text-align: right;\">\n",
       "      <th></th>\n",
       "      <th>Date &amp; Time</th>\n",
       "      <th>Usage [kWh]</th>\n",
       "      <th>Generation [kWh]</th>\n",
       "      <th>Other [kWh]</th>\n",
       "      <th>Water heater [kWh]</th>\n",
       "      <th>Whole house [kWh]</th>\n",
       "      <th>ACC [kWh]</th>\n",
       "      <th>AHU [kWh]</th>\n",
       "      <th>Dryer [kWh]</th>\n",
       "      <th>Range [kWh]</th>\n",
       "      <th>Kitchen refridgerator [kWh]</th>\n",
       "    </tr>\n",
       "  </thead>\n",
       "  <tbody>\n",
       "    <tr>\n",
       "      <th>0</th>\n",
       "      <td>1505372400</td>\n",
       "      <td>0.0</td>\n",
       "      <td>0.0</td>\n",
       "      <td>914.677966</td>\n",
       "      <td>40.667430</td>\n",
       "      <td>3374.120953</td>\n",
       "      <td>1631.121273</td>\n",
       "      <td>179.117595</td>\n",
       "      <td>326.280238</td>\n",
       "      <td>207.852151</td>\n",
       "      <td>74.404300</td>\n",
       "    </tr>\n",
       "    <tr>\n",
       "      <th>1</th>\n",
       "      <td>1505368800</td>\n",
       "      <td>0.0</td>\n",
       "      <td>0.0</td>\n",
       "      <td>914.086887</td>\n",
       "      <td>40.664147</td>\n",
       "      <td>3372.287279</td>\n",
       "      <td>1630.010558</td>\n",
       "      <td>179.029650</td>\n",
       "      <td>326.277871</td>\n",
       "      <td>207.851150</td>\n",
       "      <td>74.367017</td>\n",
       "    </tr>\n",
       "    <tr>\n",
       "      <th>2</th>\n",
       "      <td>1505365200</td>\n",
       "      <td>0.0</td>\n",
       "      <td>0.0</td>\n",
       "      <td>913.546429</td>\n",
       "      <td>40.660866</td>\n",
       "      <td>3370.445513</td>\n",
       "      <td>1628.879968</td>\n",
       "      <td>178.892024</td>\n",
       "      <td>326.276184</td>\n",
       "      <td>207.850229</td>\n",
       "      <td>74.339813</td>\n",
       "    </tr>\n",
       "    <tr>\n",
       "      <th>3</th>\n",
       "      <td>1505361600</td>\n",
       "      <td>0.0</td>\n",
       "      <td>0.0</td>\n",
       "      <td>913.019358</td>\n",
       "      <td>40.656918</td>\n",
       "      <td>3368.592838</td>\n",
       "      <td>1627.717554</td>\n",
       "      <td>178.754530</td>\n",
       "      <td>326.274547</td>\n",
       "      <td>207.849284</td>\n",
       "      <td>74.320645</td>\n",
       "    </tr>\n",
       "    <tr>\n",
       "      <th>4</th>\n",
       "      <td>1505358000</td>\n",
       "      <td>0.0</td>\n",
       "      <td>0.0</td>\n",
       "      <td>912.575539</td>\n",
       "      <td>40.649671</td>\n",
       "      <td>3366.769215</td>\n",
       "      <td>1626.518802</td>\n",
       "      <td>178.616350</td>\n",
       "      <td>326.272947</td>\n",
       "      <td>207.848344</td>\n",
       "      <td>74.287562</td>\n",
       "    </tr>\n",
       "    <tr>\n",
       "      <th>5</th>\n",
       "      <td>1505354400</td>\n",
       "      <td>0.0</td>\n",
       "      <td>0.0</td>\n",
       "      <td>912.150748</td>\n",
       "      <td>40.628782</td>\n",
       "      <td>3364.565113</td>\n",
       "      <td>1625.286709</td>\n",
       "      <td>178.477743</td>\n",
       "      <td>325.934073</td>\n",
       "      <td>207.847400</td>\n",
       "      <td>74.239658</td>\n",
       "    </tr>\n",
       "  </tbody>\n",
       "</table>\n",
       "</div>"
      ],
      "text/plain": [
       "   Date & Time  Usage [kWh]  Generation [kWh]  Other [kWh]  \\\n",
       "0   1505372400          0.0               0.0   914.677966   \n",
       "1   1505368800          0.0               0.0   914.086887   \n",
       "2   1505365200          0.0               0.0   913.546429   \n",
       "3   1505361600          0.0               0.0   913.019358   \n",
       "4   1505358000          0.0               0.0   912.575539   \n",
       "5   1505354400          0.0               0.0   912.150748   \n",
       "\n",
       "   Water heater [kWh]  Whole house [kWh]    ACC [kWh]   AHU [kWh]  \\\n",
       "0           40.667430        3374.120953  1631.121273  179.117595   \n",
       "1           40.664147        3372.287279  1630.010558  179.029650   \n",
       "2           40.660866        3370.445513  1628.879968  178.892024   \n",
       "3           40.656918        3368.592838  1627.717554  178.754530   \n",
       "4           40.649671        3366.769215  1626.518802  178.616350   \n",
       "5           40.628782        3364.565113  1625.286709  178.477743   \n",
       "\n",
       "   Dryer [kWh]  Range [kWh]  Kitchen refridgerator [kWh]  \n",
       "0   326.280238   207.852151                    74.404300  \n",
       "1   326.277871   207.851150                    74.367017  \n",
       "2   326.276184   207.850229                    74.339813  \n",
       "3   326.274547   207.849284                    74.320645  \n",
       "4   326.272947   207.848344                    74.287562  \n",
       "5   325.934073   207.847400                    74.239658  "
      ]
     },
     "execution_count": 246,
     "metadata": {},
     "output_type": "execute_result"
    }
   ],
   "source": [
    "host = 'http://egauge{}.egaug.es/cgi-bin/egauge-show?'\n",
    "host = host.format(sensor_id) + '&' + hour + '&' + output_csv ## delta_compression variable removed\n",
    "r = requests.get(host,params=time_window)\n",
    "string_csv_file = r.text    \n",
    "df = pd.read_csv(StringIO(r.text))\n",
    "df"
   ]
  },
  {
   "cell_type": "markdown",
   "metadata": {},
   "source": [
    "First, note the column names are now expressed in Energy (kWh). It is not specified explicitly in the API what is the time window in which Energy was calculated from **Power**, or how it handles missing readings. However, we can observe how **delta-compression** works by comparing both the Power and Energy table of this section 3.\n",
    "\n",
    "Consider the following image that illustrates how **delta-compression** works:\n",
    "\n",
    "![delta_compression](img/delta_compression.png)"
   ]
  },
  {
   "cell_type": "markdown",
   "metadata": {},
   "source": [
    "Considering the image above, we can consider the **original data stream** as the equivalent of any **column** of the **Energy Table** (let's consider for example **ACC [kWh]**).\n",
    "\n",
    "Accordingly, we can consider **delta encoded** as any **column** of the **Power Table** (consistently, let's consider the column **ACC [kWh]**).\n",
    "\n",
    "Since parmaeter `C` express **delta compression**, we should expect the mechanism illustrated above to hold true. Indeed, at **the hour granularity** we can observe this happens (but we will soon see, contrary to intuition, it **does not** for minute level).\n",
    "\n",
    "Because time is ordered from bottom-up in the table (bottom row is the oldest, and top row is the most recent), the figure above using **ACC [kWh]** is as follows:\n",
    "\n",
    "**Energy (original data stream) **: \n",
    "\n",
    "```\n",
    "1625.286709 | 1626.518802 | 1627.717554 ....\n",
    "```\n",
    "\n",
    "**Power (delta compression) **: \n",
    "\n",
    "```\n",
    "1.232093 | 1.198753 | 1.162414\n",
    "```\n",
    "\n",
    "By applying the reverse mechanism as the figure, we can see ** the next position value in Energy** (from left to right) is ** the current position value in Energy** + ** the current position value in Power**,i.e. \n",
    "\n",
    "$Energy_{2} = Energy_{1} + Power_{1}$, \n",
    "\n",
    "e.g.:\n",
    "\n",
    "1626.518802 = 1625.286709 + 1.232093"
   ]
  },
  {
   "cell_type": "markdown",
   "metadata": {},
   "source": [
    "### 3.3 Power at -minute- Resolution\n",
    "\n",
    "Having observe how delta-compression works at **hourly** granularity, we can now turn attention to Delta Compression at minute granularity. Although we would expect the mechanic to be the same, it unfortunately does not. To see what happens, let's perform the same example, but at **minute** granularity: We will consider the **original time window** explained in the Notebook, as well as show the equivalent for **Energy** at the minute level. \n",
    "\n",
    "First, let's repeat the table from the original notebook, for easiness of comparison. "
   ]
  },
  {
   "cell_type": "code",
   "execution_count": 251,
   "metadata": {
    "collapsed": false
   },
   "outputs": [
    {
     "data": {
      "text/html": [
       "<div>\n",
       "<table border=\"1\" class=\"dataframe\">\n",
       "  <thead>\n",
       "    <tr style=\"text-align: right;\">\n",
       "      <th></th>\n",
       "      <th>Date &amp; Time</th>\n",
       "      <th>Usage [kW]</th>\n",
       "      <th>Generation [kW]</th>\n",
       "      <th>Other [kW]</th>\n",
       "      <th>Water heater [kW]</th>\n",
       "      <th>Whole house [kW]</th>\n",
       "      <th>ACC [kW]</th>\n",
       "      <th>AHU [kW]</th>\n",
       "      <th>Dryer [kW]</th>\n",
       "      <th>Range [kW]</th>\n",
       "      <th>Kitchen refridgerator [kW]</th>\n",
       "    </tr>\n",
       "  </thead>\n",
       "  <tbody>\n",
       "    <tr>\n",
       "      <th>0</th>\n",
       "      <td>1505352240</td>\n",
       "      <td>-0.0</td>\n",
       "      <td>-0.0</td>\n",
       "      <td>0.477750</td>\n",
       "      <td>0.069967</td>\n",
       "      <td>1.953250</td>\n",
       "      <td>1.252933</td>\n",
       "      <td>0.138517</td>\n",
       "      <td>0.012717</td>\n",
       "      <td>0.000867</td>\n",
       "      <td>0.000500</td>\n",
       "    </tr>\n",
       "    <tr>\n",
       "      <th>1</th>\n",
       "      <td>1505352180</td>\n",
       "      <td>-0.0</td>\n",
       "      <td>-0.0</td>\n",
       "      <td>0.477533</td>\n",
       "      <td>0.100517</td>\n",
       "      <td>1.976467</td>\n",
       "      <td>1.253350</td>\n",
       "      <td>0.139433</td>\n",
       "      <td>0.004317</td>\n",
       "      <td>0.000833</td>\n",
       "      <td>0.000483</td>\n",
       "    </tr>\n",
       "    <tr>\n",
       "      <th>2</th>\n",
       "      <td>1505352120</td>\n",
       "      <td>-0.0</td>\n",
       "      <td>-0.0</td>\n",
       "      <td>0.477367</td>\n",
       "      <td>0.063583</td>\n",
       "      <td>1.978717</td>\n",
       "      <td>1.243667</td>\n",
       "      <td>0.139600</td>\n",
       "      <td>0.001483</td>\n",
       "      <td>0.000900</td>\n",
       "      <td>0.052117</td>\n",
       "    </tr>\n",
       "    <tr>\n",
       "      <th>3</th>\n",
       "      <td>1505352060</td>\n",
       "      <td>-0.0</td>\n",
       "      <td>-0.0</td>\n",
       "      <td>0.534883</td>\n",
       "      <td>0.003533</td>\n",
       "      <td>2.026917</td>\n",
       "      <td>1.246650</td>\n",
       "      <td>0.139833</td>\n",
       "      <td>0.001500</td>\n",
       "      <td>0.000917</td>\n",
       "      <td>0.099600</td>\n",
       "    </tr>\n",
       "    <tr>\n",
       "      <th>4</th>\n",
       "      <td>1505352000</td>\n",
       "      <td>-0.0</td>\n",
       "      <td>-0.0</td>\n",
       "      <td>0.545650</td>\n",
       "      <td>0.003567</td>\n",
       "      <td>2.037700</td>\n",
       "      <td>1.246667</td>\n",
       "      <td>0.139633</td>\n",
       "      <td>0.001500</td>\n",
       "      <td>0.000850</td>\n",
       "      <td>0.099833</td>\n",
       "    </tr>\n",
       "    <tr>\n",
       "      <th>5</th>\n",
       "      <td>1505351940</td>\n",
       "      <td>-0.0</td>\n",
       "      <td>-0.0</td>\n",
       "      <td>0.549133</td>\n",
       "      <td>0.003550</td>\n",
       "      <td>2.042467</td>\n",
       "      <td>1.247550</td>\n",
       "      <td>0.139583</td>\n",
       "      <td>0.001483</td>\n",
       "      <td>0.000917</td>\n",
       "      <td>0.100250</td>\n",
       "    </tr>\n",
       "  </tbody>\n",
       "</table>\n",
       "</div>"
      ],
      "text/plain": [
       "   Date & Time  Usage [kW]  Generation [kW]  Other [kW]  Water heater [kW]  \\\n",
       "0   1505352240        -0.0             -0.0    0.477750           0.069967   \n",
       "1   1505352180        -0.0             -0.0    0.477533           0.100517   \n",
       "2   1505352120        -0.0             -0.0    0.477367           0.063583   \n",
       "3   1505352060        -0.0             -0.0    0.534883           0.003533   \n",
       "4   1505352000        -0.0             -0.0    0.545650           0.003567   \n",
       "5   1505351940        -0.0             -0.0    0.549133           0.003550   \n",
       "\n",
       "   Whole house [kW]  ACC [kW]  AHU [kW]  Dryer [kW]  Range [kW]  \\\n",
       "0          1.953250  1.252933  0.138517    0.012717    0.000867   \n",
       "1          1.976467  1.253350  0.139433    0.004317    0.000833   \n",
       "2          1.978717  1.243667  0.139600    0.001483    0.000900   \n",
       "3          2.026917  1.246650  0.139833    0.001500    0.000917   \n",
       "4          2.037700  1.246667  0.139633    0.001500    0.000850   \n",
       "5          2.042467  1.247550  0.139583    0.001483    0.000917   \n",
       "\n",
       "   Kitchen refridgerator [kW]  \n",
       "0                    0.000500  \n",
       "1                    0.000483  \n",
       "2                    0.052117  \n",
       "3                    0.099600  \n",
       "4                    0.099833  \n",
       "5                    0.100250  "
      ]
     },
     "execution_count": 251,
     "metadata": {},
     "output_type": "execute_result"
    }
   ],
   "source": [
    "# As originally used in the first request by the notebook\n",
    "\n",
    "iso_start_datetimez = '2017-09-13T15:19:00-10'\n",
    "iso_end_datetimez = '2017-09-13T15:25:00-10'\n",
    "\n",
    "start_timestamp = arrow.get(iso_start_datetimez).timestamp\n",
    "end_timestamp = arrow.get(iso_end_datetimez).timestamp\n",
    "\n",
    "time_window = {'t': start_timestamp, 'f': end_timestamp}\n",
    "\n",
    "\n",
    "\n",
    "host = 'http://egauge{}.egaug.es/cgi-bin/egauge-show?'\n",
    "host = host.format(sensor_id) + '&' + minutes + '&' + output_csv + '&' + delta_compression \n",
    "r = requests.get(host,params=time_window)\n",
    "string_csv_file = r.text    \n",
    "df = pd.read_csv(StringIO(r.text))\n",
    "df"
   ]
  },
  {
   "cell_type": "markdown",
   "metadata": {},
   "source": [
    "### 3.4 Energy at -minute- Resolution"
   ]
  },
  {
   "cell_type": "code",
   "execution_count": 252,
   "metadata": {
    "collapsed": false
   },
   "outputs": [
    {
     "data": {
      "text/html": [
       "<div>\n",
       "<table border=\"1\" class=\"dataframe\">\n",
       "  <thead>\n",
       "    <tr style=\"text-align: right;\">\n",
       "      <th></th>\n",
       "      <th>Date &amp; Time</th>\n",
       "      <th>Usage [kWh]</th>\n",
       "      <th>Generation [kWh]</th>\n",
       "      <th>Other [kWh]</th>\n",
       "      <th>Water heater [kWh]</th>\n",
       "      <th>Whole house [kWh]</th>\n",
       "      <th>ACC [kWh]</th>\n",
       "      <th>AHU [kWh]</th>\n",
       "      <th>Dryer [kWh]</th>\n",
       "      <th>Range [kWh]</th>\n",
       "      <th>Kitchen refridgerator [kWh]</th>\n",
       "    </tr>\n",
       "  </thead>\n",
       "  <tbody>\n",
       "    <tr>\n",
       "      <th>0</th>\n",
       "      <td>1505352300</td>\n",
       "      <td>0.0</td>\n",
       "      <td>0.0</td>\n",
       "      <td>911.864649</td>\n",
       "      <td>40.613186</td>\n",
       "      <td>3361.452666</td>\n",
       "      <td>1624.559923</td>\n",
       "      <td>178.396924</td>\n",
       "      <td>323.931772</td>\n",
       "      <td>207.846867</td>\n",
       "      <td>74.239346</td>\n",
       "    </tr>\n",
       "    <tr>\n",
       "      <th>1</th>\n",
       "      <td>1505352240</td>\n",
       "      <td>0.0</td>\n",
       "      <td>0.0</td>\n",
       "      <td>911.856686</td>\n",
       "      <td>40.612020</td>\n",
       "      <td>3361.420112</td>\n",
       "      <td>1624.539041</td>\n",
       "      <td>178.394615</td>\n",
       "      <td>323.931560</td>\n",
       "      <td>207.846852</td>\n",
       "      <td>74.239338</td>\n",
       "    </tr>\n",
       "    <tr>\n",
       "      <th>2</th>\n",
       "      <td>1505352180</td>\n",
       "      <td>0.0</td>\n",
       "      <td>0.0</td>\n",
       "      <td>911.848727</td>\n",
       "      <td>40.610344</td>\n",
       "      <td>3361.387171</td>\n",
       "      <td>1624.518152</td>\n",
       "      <td>178.392291</td>\n",
       "      <td>323.931488</td>\n",
       "      <td>207.846838</td>\n",
       "      <td>74.239330</td>\n",
       "    </tr>\n",
       "    <tr>\n",
       "      <th>3</th>\n",
       "      <td>1505352120</td>\n",
       "      <td>0.0</td>\n",
       "      <td>0.0</td>\n",
       "      <td>911.840771</td>\n",
       "      <td>40.609285</td>\n",
       "      <td>3361.354192</td>\n",
       "      <td>1624.497424</td>\n",
       "      <td>178.389965</td>\n",
       "      <td>323.931463</td>\n",
       "      <td>207.846823</td>\n",
       "      <td>74.238461</td>\n",
       "    </tr>\n",
       "    <tr>\n",
       "      <th>4</th>\n",
       "      <td>1505352060</td>\n",
       "      <td>0.0</td>\n",
       "      <td>0.0</td>\n",
       "      <td>911.831856</td>\n",
       "      <td>40.609226</td>\n",
       "      <td>3361.320411</td>\n",
       "      <td>1624.476647</td>\n",
       "      <td>178.387634</td>\n",
       "      <td>323.931438</td>\n",
       "      <td>207.846808</td>\n",
       "      <td>74.236801</td>\n",
       "    </tr>\n",
       "    <tr>\n",
       "      <th>5</th>\n",
       "      <td>1505352000</td>\n",
       "      <td>0.0</td>\n",
       "      <td>0.0</td>\n",
       "      <td>911.822762</td>\n",
       "      <td>40.609166</td>\n",
       "      <td>3361.286449</td>\n",
       "      <td>1624.455869</td>\n",
       "      <td>178.385307</td>\n",
       "      <td>323.931413</td>\n",
       "      <td>207.846794</td>\n",
       "      <td>74.235137</td>\n",
       "    </tr>\n",
       "    <tr>\n",
       "      <th>6</th>\n",
       "      <td>1505351940</td>\n",
       "      <td>0.0</td>\n",
       "      <td>0.0</td>\n",
       "      <td>911.813610</td>\n",
       "      <td>40.609107</td>\n",
       "      <td>3361.252408</td>\n",
       "      <td>1624.435076</td>\n",
       "      <td>178.382981</td>\n",
       "      <td>323.931388</td>\n",
       "      <td>207.846779</td>\n",
       "      <td>74.233467</td>\n",
       "    </tr>\n",
       "  </tbody>\n",
       "</table>\n",
       "</div>"
      ],
      "text/plain": [
       "   Date & Time  Usage [kWh]  Generation [kWh]  Other [kWh]  \\\n",
       "0   1505352300          0.0               0.0   911.864649   \n",
       "1   1505352240          0.0               0.0   911.856686   \n",
       "2   1505352180          0.0               0.0   911.848727   \n",
       "3   1505352120          0.0               0.0   911.840771   \n",
       "4   1505352060          0.0               0.0   911.831856   \n",
       "5   1505352000          0.0               0.0   911.822762   \n",
       "6   1505351940          0.0               0.0   911.813610   \n",
       "\n",
       "   Water heater [kWh]  Whole house [kWh]    ACC [kWh]   AHU [kWh]  \\\n",
       "0           40.613186        3361.452666  1624.559923  178.396924   \n",
       "1           40.612020        3361.420112  1624.539041  178.394615   \n",
       "2           40.610344        3361.387171  1624.518152  178.392291   \n",
       "3           40.609285        3361.354192  1624.497424  178.389965   \n",
       "4           40.609226        3361.320411  1624.476647  178.387634   \n",
       "5           40.609166        3361.286449  1624.455869  178.385307   \n",
       "6           40.609107        3361.252408  1624.435076  178.382981   \n",
       "\n",
       "   Dryer [kWh]  Range [kWh]  Kitchen refridgerator [kWh]  \n",
       "0   323.931772   207.846867                    74.239346  \n",
       "1   323.931560   207.846852                    74.239338  \n",
       "2   323.931488   207.846838                    74.239330  \n",
       "3   323.931463   207.846823                    74.238461  \n",
       "4   323.931438   207.846808                    74.236801  \n",
       "5   323.931413   207.846794                    74.235137  \n",
       "6   323.931388   207.846779                    74.233467  "
      ]
     },
     "execution_count": 252,
     "metadata": {},
     "output_type": "execute_result"
    }
   ],
   "source": [
    "host = 'http://egauge{}.egaug.es/cgi-bin/egauge-show?'\n",
    "host = host.format(sensor_id) + '&' + minutes + '&' + output_csv # No delta-compression\n",
    "r = requests.get(host,params=time_window)\n",
    "string_csv_file = r.text    \n",
    "df = pd.read_csv(StringIO(r.text))\n",
    "df"
   ]
  },
  {
   "cell_type": "markdown",
   "metadata": {},
   "source": [
    "Let's consider again the same example as before on delta-compression for the **ACC (kWh)** column on both tables. As such, we would expect: \n",
    "\n",
    "$Energy_{2} = Energy_{1} + Power_{1}$.\n",
    "\n",
    "However:\n",
    "\n",
    "$ 1624.455869 \\neq 1624.435076 + 1.247550 = 1,625.682626 $\n",
    "\n",
    "\n",
    "What is going on? \n",
    "\n",
    "The correct equation is now:\n",
    "\n",
    "$Energy_{2} = Energy_{1} + Power_{1}/60$.\n",
    "\n",
    "While the reason is not written in the documentation, the current belief is the parameter `m` (which specifies resolution in **minutes**) does **not** work for **Power**, and as such, dividing the **hourly power** by **60** properly adjust (under the assumption power is held constant) the energy increment by the minute. \n",
    "\n",
    "In conclusion, if you are using the API data at minute level, and intend to use the data for the purposes of calculating **Energy (kWh)** at various time windows and/or translate it to **cost** from it:\n",
    "\n",
    "** Remember to divide by 60 before summing it in different time windows!! **"
   ]
  },
  {
   "cell_type": "markdown",
   "metadata": {},
   "source": [
    "## 4. XML\n",
    "\n",
    "As an adenum, recall .csv is not the default format the data is exported, but **XML**. An example of the output is shown below, but the explanation of the output format is covered in the associated documentation, and will not be discussed here as it is not used by ERDL. "
   ]
  },
  {
   "cell_type": "code",
   "execution_count": 260,
   "metadata": {
    "collapsed": false
   },
   "outputs": [],
   "source": [
    "import xml.dom.minidom\n",
    "\n",
    "iso_start_datetimez = '2017-09-13T15:19:00-10'\n",
    "iso_end_datetimez = '2017-09-13T15:20:00-10'\n",
    "\n",
    "start_timestamp = arrow.get(iso_start_datetimez).timestamp\n",
    "end_timestamp = arrow.get(iso_end_datetimez).timestamp\n",
    "\n",
    "time_window = {'t': start_timestamp, 'f': end_timestamp}\n",
    "\n",
    "\n",
    "host = 'http://egauge{}.egaug.es/cgi-bin/egauge-show?'\n",
    "host = host.format(sensor_id) + '&' + minutes\n",
    "r = requests.get(host,params=time_window)\n",
    "string_xml_file = r.text    "
   ]
  },
  {
   "cell_type": "code",
   "execution_count": 261,
   "metadata": {
    "collapsed": false
   },
   "outputs": [
    {
     "name": "stdout",
     "output_type": "stream",
     "text": [
      "<?xml version=\"1.0\" ?>\n",
      "<group serial=\"0x464feb35\">\n",
      "  \n",
      "\n",
      "  <data columns=\"7\" epoch=\"0x58b8529c\" time_delta=\"60\" time_stamp=\"0x59b9d940\">\n",
      "    \n",
      " \n",
      "    <cname t=\"P\">Water heater</cname>\n",
      "    \n",
      " \n",
      "    <cname t=\"P\">Whole house</cname>\n",
      "    \n",
      " \n",
      "    <cname t=\"P\">ACC</cname>\n",
      "    \n",
      " \n",
      "    <cname t=\"P\">AHU</cname>\n",
      "    \n",
      " \n",
      "    <cname t=\"P\">Dryer</cname>\n",
      "    \n",
      " \n",
      "    <cname t=\"P\">Range</cname>\n",
      "    \n",
      " \n",
      "    <cname t=\"P\">Kitchen refridgerator</cname>\n",
      "    \n",
      " \n",
      "    <r>\n",
      "      <c>146192999</c>\n",
      "      <c>12100631216</c>\n",
      "      <c>5848041128</c>\n",
      "      <c>642187105</c>\n",
      "      <c>1166153087</c>\n",
      "      <c>748248458</c>\n",
      "      <c>267246495</c>\n",
      "    </r>\n",
      "    \n",
      " \n",
      "    <r>\n",
      "      <c>146192786</c>\n",
      "      <c>12100508668</c>\n",
      "      <c>5847966275</c>\n",
      "      <c>642178730</c>\n",
      "      <c>1166152998</c>\n",
      "      <c>748248403</c>\n",
      "      <c>267240480</c>\n",
      "    </r>\n",
      "    \n",
      "\n",
      "  </data>\n",
      "  \n",
      "\n",
      "</group>\n",
      "\n"
     ]
    }
   ],
   "source": [
    "import xml.etree.ElementTree as etree\n",
    "from xml.dom import minidom\n",
    "\n",
    "x = etree.fromstring(string_xml_file)\n",
    "def prettify(elem):\n",
    "    \"\"\"Return a pretty-printed XML string for the Element.\n",
    "    \"\"\"\n",
    "    rough_string = etree.tostring(elem, 'utf-8')\n",
    "    reparsed = minidom.parseString(rough_string)\n",
    "    return reparsed.toprettyxml(indent=\"  \")\n",
    "print(prettify(x))"
   ]
  },
  {
   "cell_type": "markdown",
   "metadata": {
    "deletable": true,
    "editable": true
   },
   "source": [
    "# 5. References\n",
    "\n",
    " * [1] See [eGauge XML API](https://www.egauge.net/docs/egauge-xml-api.pdf) for a exaustive list of available parameters for the eGauge API. Section 3, stored data, was used to create this Python Notebook."
   ]
  }
 ],
 "metadata": {
  "kernelspec": {
   "display_name": "Python 3",
   "language": "python",
   "name": "python3"
  },
  "language_info": {
   "codemirror_mode": {
    "name": "ipython",
    "version": 3
   },
   "file_extension": ".py",
   "mimetype": "text/x-python",
   "name": "python",
   "nbconvert_exporter": "python",
   "pygments_lexer": "ipython3",
   "version": "3.6.0"
  }
 },
 "nbformat": 4,
 "nbformat_minor": 2
}
