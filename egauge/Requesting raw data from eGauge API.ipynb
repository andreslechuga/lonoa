{
 "cells": [
  {
   "cell_type": "markdown",
   "metadata": {
    "deletable": true,
    "editable": true
   },
   "source": [
    "# Introduction\n",
    "\n",
    "This notebooks provides the minimum necessary code to access data from egauge's API, the software currently used in both DHHL and the Frogs Project. For an overview of the architecture, see the readme.md file of the project where is notebook is hosted.\n",
    "\n"
   ]
  },
  {
   "cell_type": "markdown",
   "metadata": {
    "deletable": true,
    "editable": true
   },
   "source": [
    "## 1. Required Input Parameters"
   ]
  },
  {
   "cell_type": "markdown",
   "metadata": {
    "deletable": true,
    "editable": true
   },
   "source": [
    "### 1.1 Host\n",
    "\n",
    "Currently eGauge API is [hosted by the eGauge company](https://www.egauge.net/eguard/). Contrary to the usual setup where the data resides in a database and the API exposes access to it in a server, the eGauge API does **not** store any eGauge data. Instead, the data is stored in the sensor itself. The egaugeAPI serves only as a in between layer between this Python Notebook and the sensor, in order to abstract how to communicate with the sensor directly. Because of that, **the sensors must be connected to the internet, regardless of where they are deployed, in order for the data to be available via API at any point in time**. \n",
    "\n",
    "While the eGauge website requires authentication to visualize the sensor IDs (required to request data from the API) and their physical location, once the sensor ID is known the access to the data itself does not require authentication. As such, provided the sensor ID is known, any user in the world can request data from the sensor via the API.\n",
    "\n",
    "The API website where sensor IDs is are available is shown below for reproducibility purposes:\n",
    "\n",
    "\n",
    "![egauge_portfolio](img/egauge_portfolio.png)\n",
    "\n",
    "As it can be observed, on the **Status** and **Available** columns, because the data is available only in the sensor, requesting data from a particular sensor may require several attempts if the requests are automated. Accordingly, the specified time range upon every request must be updated over every failed attempt. \n",
    "\n",
    "Stored data is updated once a minute, and it can be fetched using the following host template [1]:\n",
    "\n",
    "``` \n",
    "http://egauge{}.egaug.es/cgi-bin/egauge-show?\n",
    "```"
   ]
  },
  {
   "cell_type": "code",
   "execution_count": 1,
   "metadata": {
    "collapsed": true,
    "deletable": true,
    "editable": true
   },
   "outputs": [],
   "source": [
    "host = 'http://egauge{}.egaug.es/cgi-bin/egauge-show?'"
   ]
  },
  {
   "cell_type": "markdown",
   "metadata": {
    "deletable": true,
    "editable": true
   },
   "source": [
    "### 1.2 Sensor \n",
    "\n",
    "You should contact a member of ERDL if you are interested in data by any specific sensor managed by our group. In this example notebook, we will use the eGauge whose sensor ID `31871`. "
   ]
  },
  {
   "cell_type": "code",
   "execution_count": 2,
   "metadata": {
    "collapsed": true,
    "deletable": true,
    "editable": true
   },
   "outputs": [],
   "source": [
    "sensor_id = 31871"
   ]
  },
  {
   "cell_type": "markdown",
   "metadata": {
    "deletable": true,
    "editable": true
   },
   "source": [
    "The list of available parameters [1] at the time this Python notebook was made is shown below for reproducibility. \n",
    "\n",
    "![eguard_api_parameters](img/egauge_parameters.png)\n",
    "\n",
    "We only use 5 of the ones available above."
   ]
  },
  {
   "cell_type": "markdown",
   "metadata": {
    "deletable": true,
    "editable": true
   },
   "source": [
    "### 1.3 Start and End Date\n",
    "\n",
    "The start and end date are specified by parameters **t** (14th row top-bottom) and **f** (13th row top-bottom) respectively, and must be specified in [unix timestamp](https://en.wikipedia.org/wiki/Unix_time).  \n",
    "\n",
    "The following function converts a timestamp in the human readable format to unix timestamp by using the following format: `<date>T<time><timezone>`, where:\n",
    "\n",
    " * `<date>`: YYYY-MM-DD\n",
    " * `<time>`: hh:mm:ss\n",
    " * `<timezone>`: (-)zz\n",
    " \n",
    "Hawaii Timezone is -10. "
   ]
  },
  {
   "cell_type": "code",
   "execution_count": 3,
   "metadata": {
    "collapsed": false,
    "deletable": true,
    "editable": true
   },
   "outputs": [],
   "source": [
    "import arrow\n",
    "iso_start_datetimez = '2017-09-13T15:19:00-10'\n",
    "iso_end_datetimez = '2017-09-13T15:21:00-10'\n",
    "\n",
    "start_timestamp = arrow.get(iso_start_datetimez).timestamp\n",
    "end_timestamp = arrow.get(iso_end_datetimez).timestamp"
   ]
  },
  {
   "cell_type": "markdown",
   "metadata": {
    "deletable": true,
    "editable": true
   },
   "source": [
    "### 1.3 Time Resolution \n",
    "\n",
    "The time resolution, as specified by parameter **m** (6th row top-bottom), specifies the output resolution will be in **minutes**. "
   ]
  },
  {
   "cell_type": "code",
   "execution_count": 4,
   "metadata": {
    "collapsed": true,
    "deletable": true,
    "editable": true
   },
   "outputs": [],
   "source": [
    "minutes = 'm'"
   ]
  },
  {
   "cell_type": "markdown",
   "metadata": {
    "deletable": true,
    "editable": true
   },
   "source": [
    "### 1.4 Export Format \n",
    "\n",
    "The export format, as specified by parameter **c** (4th row top-bottom), specifies the output will be in **CSV**."
   ]
  },
  {
   "cell_type": "code",
   "execution_count": 5,
   "metadata": {
    "collapsed": true,
    "deletable": true,
    "editable": true
   },
   "outputs": [],
   "source": [
    "output_csv = 'c'"
   ]
  },
  {
   "cell_type": "markdown",
   "metadata": {
    "deletable": true,
    "editable": true
   },
   "source": [
    "### 1.5 Compression\n",
    "\n",
    "The compression method, as specified by parameter `C` (10th row top-bottom), specifies the use of **delta-compression**."
   ]
  },
  {
   "cell_type": "code",
   "execution_count": 6,
   "metadata": {
    "collapsed": true,
    "deletable": true,
    "editable": true
   },
   "outputs": [],
   "source": [
    "delta_compression = 'C'"
   ]
  },
  {
   "cell_type": "markdown",
   "metadata": {
    "deletable": true,
    "editable": true
   },
   "source": [
    "## Request Readings "
   ]
  },
  {
   "cell_type": "code",
   "execution_count": 7,
   "metadata": {
    "collapsed": false,
    "deletable": true,
    "editable": true
   },
   "outputs": [
    {
     "name": "stdout",
     "output_type": "stream",
     "text": [
      "http://egauge31871.egaug.es/cgi-bin/egauge-show?&m&c&C\n"
     ]
    }
   ],
   "source": [
    "import requests\n",
    "\n",
    "host = host.format(sensor_id) + '&' + minutes + '&' + output_csv + '&' + delta_compression \n",
    "time_window = {'t': start_timestamp, 'f': end_timestamp}\n",
    "\n",
    "print(host)"
   ]
  },
  {
   "cell_type": "code",
   "execution_count": 8,
   "metadata": {
    "collapsed": false,
    "deletable": true,
    "editable": true
   },
   "outputs": [
    {
     "name": "stdout",
     "output_type": "stream",
     "text": [
      "<Response [200]>\n"
     ]
    }
   ],
   "source": [
    "r = requests.get(host,params=time_window)\n",
    "print(r)"
   ]
  },
  {
   "cell_type": "markdown",
   "metadata": {},
   "source": [
    "The returned .csv will be in the format of a string, so we interpret it accordingly."
   ]
  },
  {
   "cell_type": "code",
   "execution_count": 24,
   "metadata": {
    "collapsed": false,
    "deletable": true,
    "editable": true
   },
   "outputs": [
    {
     "name": "stdout",
     "output_type": "stream",
     "text": [
      "{'Date & Time': [1505352000.0, 1505351940.0], 'Usage [kW]': [57.796533333, 57.3584], 'Generation [kW]': [-0.0, -0.0], 'Phase A+ [kW]': [17.0116, 16.721866667], 'Phase B+ [kW]': [21.236183333, 21.0492], 'Phase C+ [kW]': [19.54875, 19.587333333], 'Phase A voltage [V]': [282.492763418, 282.899163437], 'Phase B voltage [V]': [282.790113432, 283.196396784], 'Phase C voltage [V]': [283.992580156, 284.325363505]}\n"
     ]
    }
   ],
   "source": [
    "string_csv_file = r.text    \n",
    "\n",
    "rows = [[y for y in x.split(',')] for x in string_csv_file.splitlines()]\n",
    "headers = [h.replace('\"','') for h in rows.pop(0)]\n",
    "columns = list(zip(*rows))\n",
    "print({h: list(map(float,columns[i])) for i,h in enumerate(headers)})"
   ]
  },
  {
   "cell_type": "markdown",
   "metadata": {
    "deletable": true,
    "editable": true
   },
   "source": [
    "# 4. References\n",
    "\n",
    " * [1] See [eGauge XML API](https://www.egauge.net/docs/egauge-xml-api.pdf) for a exaustive list of available parameters for the eGauge API. Section 3, stored data, was used to create this Python Notebook."
   ]
  }
 ],
 "metadata": {
  "kernelspec": {
   "display_name": "Python 3",
   "language": "python",
   "name": "python3"
  },
  "language_info": {
   "codemirror_mode": {
    "name": "ipython",
    "version": 3
   },
   "file_extension": ".py",
   "mimetype": "text/x-python",
   "name": "python",
   "nbconvert_exporter": "python",
   "pygments_lexer": "ipython3",
   "version": "3.6.0"
  }
 },
 "nbformat": 4,
 "nbformat_minor": 2
}
