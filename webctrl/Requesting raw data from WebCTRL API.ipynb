{
 "cells": [
  {
   "cell_type": "markdown",
   "metadata": {},
   "source": [
    "# Requesting raw data from WebCTRL"
   ]
  },
  {
   "cell_type": "markdown",
   "metadata": {},
   "source": [
    "This notebooks provides the minimum necessary code to access data from WebCTRL's API, the software currently used in the Frogs Project. For an overview of the architecture, see the readme.md file of the project where is notebook is hosted. "
   ]
  },
  {
   "cell_type": "markdown",
   "metadata": {},
   "source": [
    "## 1. Required Input Parameters"
   ]
  },
  {
   "cell_type": "markdown",
   "metadata": {},
   "source": [
    "### 1.1 Host\n",
    "\n",
    "Currently WebCTRL API (BulkTrendServer add-on), is hosted in HNEI."
   ]
  },
  {
   "cell_type": "code",
   "execution_count": 8,
   "metadata": {
    "collapsed": true
   },
   "outputs": [],
   "source": [
    "host = 'http://www.soest.hawaii.edu/hneienergy/bulktrendserver/read'"
   ]
  },
  {
   "cell_type": "markdown",
   "metadata": {},
   "source": [
    "### 1.2 Authentication\n",
    "\n",
    "Data is only available through authentication. Ask a member of ERDL for username and password."
   ]
  },
  {
   "cell_type": "code",
   "execution_count": 13,
   "metadata": {
    "collapsed": false
   },
   "outputs": [],
   "source": [
    "with open('auth.txt', 'r') as f:\n",
    "    api_user = f.readline().rstrip()\n",
    "    api_pass = f.readline().rstrip()"
   ]
  },
  {
   "cell_type": "markdown",
   "metadata": {},
   "source": [
    "### 1.3 Sensor\n",
    "\n",
    "A list of sensor IDs is currently only available through WebCTRL API interface. In the future, the list of IDs will be added to this repository. Ask a member of ERDL for the IDs of interest. \n",
    "\n",
    "The sensor id format is as shown in the Lookup ID column of the trend search page. An example of this format is **ABSPATH:1:#frog1_duct_sensors_1/m030**.\n",
    "\n"
   ]
  },
  {
   "cell_type": "code",
   "execution_count": 16,
   "metadata": {
    "collapsed": true
   },
   "outputs": [],
   "source": [
    "sensor_ids = ['ABSPATH:1:#frog1_duct_sensors_1/m030','ABSPATH:1:#frog1_room_sensors_1/zone_humidity_1_tn']"
   ]
  },
  {
   "cell_type": "markdown",
   "metadata": {},
   "source": [
    "### 1.4 Start and End Date\n",
    "\n",
    " * **Start Date**: yyyy-mm-dd, for example: \"2017-07-16\". The starting date is inclusive.\n",
    " \n",
    " * **End Date**: yyyy-mm-dd, i.e., same as start date. Data points will be retrieved through the end of the specified end date (exclusive of the midnight transitioning to the next day). Midnight is considered to be part of the following day. So to retrieve only one day's trends, specify the same date for start and end."
   ]
  },
  {
   "cell_type": "code",
   "execution_count": 11,
   "metadata": {
    "collapsed": true
   },
   "outputs": [],
   "source": [
    "start_date = '2017-09-13'\n",
    "end_date = '2017-09-13'"
   ]
  },
  {
   "cell_type": "markdown",
   "metadata": {},
   "source": [
    "### 1.5 Output Format (optional)\n",
    "\n",
    "The output format of the data can either be:\n",
    "\n",
    " * csv\n",
    " * json (default)"
   ]
  },
  {
   "cell_type": "code",
   "execution_count": 12,
   "metadata": {
    "collapsed": true
   },
   "outputs": [],
   "source": [
    "output_format = 'json'"
   ]
  },
  {
   "cell_type": "markdown",
   "metadata": {},
   "source": [
    "## 2. HTTP Request"
   ]
  },
  {
   "cell_type": "code",
   "execution_count": 24,
   "metadata": {
    "collapsed": true
   },
   "outputs": [],
   "source": [
    "import requests\n",
    "\n",
    "params = {'id': sensor_ids, 'start': start_date, 'end': end_date, 'format': output_format}\n",
    "auth = auth = (api_user, api_pass)\n",
    "\n",
    "request = requests.post(host, params = params, auth=tuple(auth))"
   ]
  },
  {
   "cell_type": "markdown",
   "metadata": {},
   "source": [
    "## 3. Output Format\n",
    "\n",
    "In the JSON format, the overall result is an array of sensor id objects. Each sensor id object has:\n",
    "\n",
    " * An id with key of \"id\" \n",
    " * An array of samples with a key of \"s\". \n",
    "    * Each sample in the array has a timestamp with a key of \"t\" and a value. The key for the value depends on the type of data. Analog values have a key of \"a\" and digital values have a a key of \"d\". The string encoding for both dates and values is identical to what is used in the CSV format.\n",
    "    \n",
    "**Note that the order keys are written into an object is not guaranteed.**\n",
    "\n",
    "Example encoding for two sources with two samples each. Note that this has been broken into multiple lines and white space has been added for clarity. The real result has no whitespace and is all on one line:\n",
    "\n",
    "```\n",
    "[\n",
    "  {\n",
    "    \"id\":\"ABSPATH:1:#board_room/ht_stpt_tn\",\n",
    "    \"s\":[{\"t\":\"1282017600000\",\"a\":\"55.1\"},{\"t\":\"1282017900000\",\"a\":\"55\"}]\n",
    "  },\n",
    "  {\n",
    "    \"id\":\"ABSPATH:1:#board_room/locked_tn\",\n",
    "    \"s\":[{\"t\":\"1282017600000\",\"d\":\"false\"},{\"t\":\"1282017900000\",\"d\":\"true\"}]\n",
    "  }\n",
    "]\n",
    "```"
   ]
  },
  {
   "cell_type": "markdown",
   "metadata": {},
   "source": [
    "### 3.1 Request's Status"
   ]
  },
  {
   "cell_type": "code",
   "execution_count": 33,
   "metadata": {
    "collapsed": false
   },
   "outputs": [
    {
     "name": "stdout",
     "output_type": "stream",
     "text": [
      "(200, 'ok')\n"
     ]
    }
   ],
   "source": [
    "def getStatusCode(request):\n",
    "    return( (request.status_code,requests.status_codes._codes[request.status_code][0]) )\n",
    "\n",
    "print(getStatusCode(request))"
   ]
  },
  {
   "cell_type": "markdown",
   "metadata": {},
   "source": [
    "### 3.2 Request's Readings"
   ]
  },
  {
   "cell_type": "code",
   "execution_count": 63,
   "metadata": {
    "collapsed": false
   },
   "outputs": [
    {
     "name": "stdout",
     "output_type": "stream",
     "text": [
      "{'ABSPATH:1:#frog1_duct_sensors_1/m030': 0, 'ABSPATH:1:#frog1_room_sensors_1/zone_humidity_1_tn': 1}\n"
     ]
    }
   ],
   "source": [
    "sensors = req.json()\n",
    "\n",
    "def getSensorIDIndexes(request):\n",
    "    sensor_indexes = {sensors[i][\"id\"]: i for i in range(len(sensors))}\n",
    "    return(sensor_indexes)\n",
    "\n",
    "sensor_indexes = getSensorIDIndexes(request)"
   ]
  },
  {
   "cell_type": "code",
   "execution_count": 65,
   "metadata": {
    "collapsed": false
   },
   "outputs": [
    {
     "name": "stdout",
     "output_type": "stream",
     "text": [
      "[{'a': '55.2', 't': 1505296800000},\n",
      " {'a': '55.3', 't': 1505297100000},\n",
      " {'a': '55.5', 't': 1505297400000},\n",
      " {'a': '55.6', 't': 1505297700000},\n",
      " {'a': '55.6', 't': 1505298000000},\n",
      " {'a': '55.9', 't': 1505298300000},\n",
      " {'a': '56.3', 't': 1505298600000},\n",
      " {'a': '56.6', 't': 1505298900000},\n",
      " {'a': '56.6', 't': 1505299200000},\n",
      " {'a': '56.7', 't': 1505299500000},\n",
      " {'a': '56.8', 't': 1505299800000},\n",
      " {'a': '56.8', 't': 1505300100000},\n",
      " {'a': '56.8', 't': 1505300400000},\n",
      " {'a': '56.9', 't': 1505300700000},\n",
      " {'a': '57', 't': 1505301000000},\n",
      " {'a': '57', 't': 1505301300000},\n",
      " {'a': '57', 't': 1505301600000},\n",
      " {'a': '57.1', 't': 1505301900000},\n",
      " {'a': '57.3', 't': 1505302200000},\n",
      " {'a': '57.3', 't': 1505302500000},\n",
      " {'a': '57.3', 't': 1505302800000},\n",
      " {'a': '57.4', 't': 1505303100000},\n",
      " {'a': '57.3', 't': 1505303400000},\n",
      " {'a': '57.2', 't': 1505303700000},\n",
      " {'a': '57.5', 't': 1505304000000},\n",
      " {'a': '57.6', 't': 1505304300000},\n",
      " {'a': '57.6', 't': 1505304600000},\n",
      " {'a': '57.7', 't': 1505304900000},\n",
      " {'a': '57.8', 't': 1505305200000},\n",
      " {'a': '57.8', 't': 1505305500000},\n",
      " {'a': '57.9', 't': 1505305800000},\n",
      " {'a': '60', 't': 1505306100000},\n",
      " {'a': '60.9', 't': 1505306400000},\n",
      " {'a': '60.2', 't': 1505306700000},\n",
      " {'a': '58', 't': 1505307000000},\n",
      " {'a': '57', 't': 1505307300000},\n",
      " {'a': '57', 't': 1505307600000},\n",
      " {'a': '57', 't': 1505307900000},\n",
      " {'a': '57', 't': 1505308200000},\n",
      " {'a': '57.1', 't': 1505308500000},\n",
      " {'a': '57.2', 't': 1505308800000},\n",
      " {'a': '57', 't': 1505309100000},\n",
      " {'a': '56.9', 't': 1505309400000},\n",
      " {'a': '57', 't': 1505309700000},\n",
      " {'a': '57', 't': 1505310000000},\n",
      " {'a': '57.2', 't': 1505310300000},\n",
      " {'a': '57.4', 't': 1505310600000},\n",
      " {'a': '57.5', 't': 1505310900000},\n",
      " {'a': '58.5', 't': 1505311200000},\n",
      " {'a': '58.1', 't': 1505311500000},\n",
      " {'a': '57.1', 't': 1505311800000},\n",
      " {'a': '56.6', 't': 1505312100000},\n",
      " {'a': '56.4', 't': 1505312400000},\n",
      " {'a': '56.7', 't': 1505312700000},\n",
      " {'a': '57', 't': 1505313000000},\n",
      " {'a': '57.1', 't': 1505313300000},\n",
      " {'a': '57.4', 't': 1505313600000},\n",
      " {'a': '57.5', 't': 1505313900000},\n",
      " {'a': '57.5', 't': 1505314200000},\n",
      " {'a': '57.8', 't': 1505314500000},\n",
      " {'a': '57.9', 't': 1505314800000},\n",
      " {'a': '58.1', 't': 1505315100000},\n",
      " {'a': '57.9', 't': 1505315400000},\n",
      " {'a': '58.1', 't': 1505315700000},\n",
      " {'a': '58.4', 't': 1505316000000},\n",
      " {'a': '58.5', 't': 1505316300000},\n",
      " {'a': '58.1', 't': 1505316600000},\n",
      " {'a': '58.1', 't': 1505316900000},\n",
      " {'a': '58.2', 't': 1505317200000},\n",
      " {'a': '58.4', 't': 1505317500000},\n",
      " {'a': '58.4', 't': 1505317800000},\n",
      " {'a': '58.4', 't': 1505318100000},\n",
      " {'a': '58.4', 't': 1505318400000},\n",
      " {'a': '58.7', 't': 1505318700000},\n",
      " {'a': '58.6', 't': 1505319000000},\n",
      " {'a': '58.4', 't': 1505319300000},\n",
      " {'a': '58.2', 't': 1505319600000},\n",
      " {'a': '58.3', 't': 1505319900000},\n",
      " {'a': '58.2', 't': 1505320200000},\n",
      " {'a': '58.1', 't': 1505320500000},\n",
      " {'a': '58.1', 't': 1505320800000},\n",
      " {'a': '58.5', 't': 1505321100000},\n",
      " {'a': '58.7', 't': 1505321400000},\n",
      " {'a': '58.9', 't': 1505321700000},\n",
      " {'a': '58.7', 't': 1505322000000},\n",
      " {'a': '58.8', 't': 1505322300000},\n",
      " {'a': '59', 't': 1505322600000},\n",
      " {'a': '59', 't': 1505322900000},\n",
      " {'a': '58.8', 't': 1505323200000},\n",
      " {'a': '58.7', 't': 1505323500000},\n",
      " {'a': '58.8', 't': 1505323800000},\n",
      " {'a': '58.4', 't': 1505324100000},\n",
      " {'a': '60', 't': 1505324400000},\n",
      " {'a': '61', 't': 1505324700000},\n",
      " {'a': '63', 't': 1505325000000},\n",
      " {'a': '64.2', 't': 1505325300000},\n",
      " {'a': '63.9', 't': 1505325600000},\n",
      " {'a': '62.9', 't': 1505325900000},\n",
      " {'a': '61.9', 't': 1505326200000},\n",
      " {'a': '63.7', 't': 1505326500000},\n",
      " {'a': '63.2', 't': 1505326800000},\n",
      " {'a': '60.5', 't': 1505327100000},\n",
      " {'a': '62.4', 't': 1505327400000},\n",
      " {'a': '62.6', 't': 1505327700000},\n",
      " {'a': '61.1', 't': 1505328000000},\n",
      " {'a': '58.8', 't': 1505328300000},\n",
      " {'a': '56', 't': 1505328600000},\n",
      " {'a': '54.1', 't': 1505328900000},\n",
      " {'a': '52.6', 't': 1505329200000},\n",
      " {'a': '51.5', 't': 1505329500000},\n",
      " {'a': '50.9', 't': 1505329800000},\n",
      " {'a': '50.5', 't': 1505330100000},\n",
      " {'a': '50.1', 't': 1505330400000},\n",
      " {'a': '50.6', 't': 1505330700000},\n",
      " {'a': '50.8', 't': 1505331000000},\n",
      " {'a': '51', 't': 1505331300000},\n",
      " {'a': '51.6', 't': 1505331600000},\n",
      " {'a': '58.8', 't': 1505331900000},\n",
      " {'a': '54.5', 't': 1505332200000},\n",
      " {'a': '53.3', 't': 1505332500000},\n",
      " {'a': '52.6', 't': 1505332800000},\n",
      " {'a': '51.5', 't': 1505333100000},\n",
      " {'a': '50.6', 't': 1505333400000},\n",
      " {'a': '50.1', 't': 1505333700000},\n",
      " {'a': '49.8', 't': 1505334000000},\n",
      " {'a': '49.5', 't': 1505334300000},\n",
      " {'a': '49.3', 't': 1505334600000},\n",
      " {'a': '49.5', 't': 1505334900000},\n",
      " {'a': '53.5', 't': 1505335200000},\n",
      " {'a': '53.9', 't': 1505335500000},\n",
      " {'a': '67.6', 't': 1505335800000},\n",
      " {'a': '67.1', 't': 1505336100000},\n",
      " {'a': '68.1', 't': 1505336400000},\n",
      " {'a': '69.1', 't': 1505336700000},\n",
      " {'a': '67.9', 't': 1505337000000},\n",
      " {'a': '63.9', 't': 1505337300000},\n",
      " {'a': '63.9', 't': 1505337600000},\n",
      " {'a': '68.2', 't': 1505337900000},\n",
      " {'a': '67.1', 't': 1505338200000},\n",
      " {'a': '66', 't': 1505338500000},\n",
      " {'a': '63.8', 't': 1505338800000},\n",
      " {'a': '63', 't': 1505339100000},\n",
      " {'a': '62.4', 't': 1505339400000},\n",
      " {'a': '62.4', 't': 1505339700000},\n",
      " {'a': '62.5', 't': 1505340000000},\n",
      " {'a': '62.5', 't': 1505340300000},\n",
      " {'a': '64.6', 't': 1505340600000},\n",
      " {'a': '61.7', 't': 1505340900000},\n",
      " {'a': '65.2', 't': 1505341200000},\n",
      " {'a': '61.2', 't': 1505341500000},\n",
      " {'a': '61.7', 't': 1505341800000},\n",
      " {'a': '60.3', 't': 1505342100000},\n",
      " {'a': '59.7', 't': 1505342400000},\n",
      " {'a': '59.7', 't': 1505342700000},\n",
      " {'a': '59.3', 't': 1505343000000},\n",
      " {'a': '58.5', 't': 1505343300000},\n",
      " {'a': '57.1', 't': 1505343600000},\n",
      " {'a': '56.8', 't': 1505343900000},\n",
      " {'a': '56', 't': 1505344200000},\n",
      " {'a': '54.5', 't': 1505344500000},\n",
      " {'a': '52.9', 't': 1505344800000},\n",
      " {'a': '53.7', 't': 1505345100000},\n",
      " {'a': '52.4', 't': 1505345400000},\n",
      " {'a': '53.2', 't': 1505345700000},\n",
      " {'a': '52.2', 't': 1505346000000},\n",
      " {'a': '53.2', 't': 1505346300000},\n",
      " {'a': '54.7', 't': 1505346600000},\n",
      " {'a': '53.7', 't': 1505346900000},\n",
      " {'a': '54.5', 't': 1505347200000},\n",
      " {'a': '52.7', 't': 1505347500000},\n",
      " {'a': '52.9', 't': 1505347800000},\n",
      " {'a': '52.1', 't': 1505348100000},\n",
      " {'a': '54.8', 't': 1505348400000},\n",
      " {'a': '51', 't': 1505348700000},\n",
      " {'a': '49.4', 't': 1505349000000},\n",
      " {'a': '50.5', 't': 1505349300000},\n",
      " {'a': '50.4', 't': 1505349600000},\n",
      " {'a': '49.5', 't': 1505349900000},\n",
      " {'a': '49.5', 't': 1505350200000},\n",
      " {'a': '48.5', 't': 1505350500000},\n",
      " {'a': '48.9', 't': 1505350800000},\n",
      " {'a': '49.2', 't': 1505351100000},\n",
      " {'a': '50', 't': 1505351400000},\n",
      " {'a': '48.4', 't': 1505351700000},\n",
      " {'a': '48.9', 't': 1505352000000},\n",
      " {'a': '47.8', 't': 1505352300000},\n",
      " {'a': '48.3', 't': 1505352600000},\n",
      " {'a': '47.7', 't': 1505352900000},\n",
      " {'a': '47.7', 't': 1505353200000},\n",
      " {'a': '48.8', 't': 1505353500000},\n",
      " {'a': '48.1', 't': 1505353800000},\n",
      " {'a': '49', 't': 1505354100000},\n",
      " {'a': '50.5', 't': 1505354400000},\n",
      " {'a': '50.3', 't': 1505354700000},\n",
      " {'a': '46.6', 't': 1505355000000},\n",
      " {'a': '49.7', 't': 1505355300000},\n",
      " {'a': '48.5', 't': 1505355600000},\n",
      " {'a': '48.9', 't': 1505355900000},\n",
      " {'a': '48', 't': 1505356200000},\n",
      " {'a': '48.5', 't': 1505356500000},\n",
      " {'a': '48.7', 't': 1505356800000},\n",
      " {'a': '49', 't': 1505357100000},\n",
      " {'a': '49.1', 't': 1505357400000},\n",
      " {'a': '49', 't': 1505357700000},\n",
      " {'a': '48.7', 't': 1505358000000},\n",
      " {'a': '50.1', 't': 1505358300000},\n",
      " {'a': '48.9', 't': 1505358600000},\n",
      " {'a': '48.3', 't': 1505358900000},\n",
      " {'a': '48.1', 't': 1505359200000},\n",
      " {'a': '48.5', 't': 1505359500000},\n",
      " {'a': '47.8', 't': 1505359800000},\n",
      " {'a': '48.5', 't': 1505360100000},\n",
      " {'a': '49.2', 't': 1505360400000},\n",
      " {'a': '48.9', 't': 1505360700000},\n",
      " {'a': '49.7', 't': 1505361000000},\n",
      " {'a': '50', 't': 1505361300000},\n",
      " {'a': '51', 't': 1505361600000},\n",
      " {'a': '51.5', 't': 1505361900000},\n",
      " {'a': '53.1', 't': 1505362200000},\n",
      " {'a': '52.7', 't': 1505362500000},\n",
      " {'a': '52.5', 't': 1505362800000},\n",
      " {'a': '52.6', 't': 1505363100000},\n",
      " {'a': '53.2', 't': 1505363400000},\n",
      " {'a': '53.1', 't': 1505363700000},\n",
      " {'a': '53.1', 't': 1505364000000},\n",
      " {'a': '53.5', 't': 1505364300000},\n",
      " {'a': '53.7', 't': 1505364600000},\n",
      " {'a': '53.9', 't': 1505364900000},\n",
      " {'a': '53.7', 't': 1505365200000},\n",
      " {'a': '53.9', 't': 1505365500000},\n",
      " {'a': '54', 't': 1505365800000},\n",
      " {'a': '54', 't': 1505366100000},\n",
      " {'a': '54', 't': 1505366400000},\n",
      " {'a': '54', 't': 1505366700000},\n",
      " {'a': '54.3', 't': 1505367000000},\n",
      " {'a': '54.9', 't': 1505367300000},\n",
      " {'a': '55.1', 't': 1505367600000},\n",
      " {'a': '55.2', 't': 1505367900000},\n",
      " {'a': '55.4', 't': 1505368200000},\n",
      " {'a': '55.6', 't': 1505368500000},\n",
      " {'a': '55.7', 't': 1505368800000},\n",
      " {'a': '56', 't': 1505369100000},\n",
      " {'a': '56', 't': 1505369400000},\n",
      " {'a': '56.3', 't': 1505369700000},\n",
      " {'a': '56.2', 't': 1505370000000},\n",
      " {'a': '56.3', 't': 1505370300000},\n",
      " {'a': '55.8', 't': 1505370600000},\n",
      " {'a': '55.9', 't': 1505370900000},\n",
      " {'a': '55.8', 't': 1505371200000},\n",
      " {'a': '56.2', 't': 1505371500000},\n",
      " {'a': '56.3', 't': 1505371800000},\n",
      " {'a': '56.5', 't': 1505372100000},\n",
      " {'a': '56.5', 't': 1505372400000},\n",
      " {'a': '56.6', 't': 1505372700000},\n",
      " {'a': '56.6', 't': 1505373000000},\n",
      " {'a': '56.9', 't': 1505373300000},\n",
      " {'a': '56.7', 't': 1505373600000},\n",
      " {'a': '56.6', 't': 1505373900000},\n",
      " {'a': '56.4', 't': 1505374200000},\n",
      " {'a': '56.4', 't': 1505374500000},\n",
      " {'a': '56.4', 't': 1505374800000},\n",
      " {'a': '56.5', 't': 1505375100000},\n",
      " {'a': '56.8', 't': 1505375400000},\n",
      " {'a': '56.8', 't': 1505375700000},\n",
      " {'a': '56.6', 't': 1505376000000},\n",
      " {'a': '56.7', 't': 1505376300000},\n",
      " {'a': '56.9', 't': 1505376600000},\n",
      " {'a': '57', 't': 1505376900000},\n",
      " {'a': '57.1', 't': 1505377200000},\n",
      " {'a': '57.1', 't': 1505377500000},\n",
      " {'a': '57', 't': 1505377800000},\n",
      " {'a': '56.9', 't': 1505378100000},\n",
      " {'a': '56.1', 't': 1505378400000},\n",
      " {'a': '56.3', 't': 1505378700000},\n",
      " {'a': '56.3', 't': 1505379000000},\n",
      " {'a': '56.5', 't': 1505379300000},\n",
      " {'a': '56.8', 't': 1505379600000},\n",
      " {'a': '56.7', 't': 1505379900000},\n",
      " {'a': '56.7', 't': 1505380200000},\n",
      " {'a': '56.7', 't': 1505380500000},\n",
      " {'a': '56.6', 't': 1505380800000},\n",
      " {'a': '56.7', 't': 1505381100000},\n",
      " {'a': '56.5', 't': 1505381400000},\n",
      " {'a': '56.4', 't': 1505381700000},\n",
      " {'a': '56.3', 't': 1505382000000},\n",
      " {'a': '55.6', 't': 1505382300000},\n",
      " {'a': '55.8', 't': 1505382600000},\n",
      " {'a': '55.9', 't': 1505382900000}]\n"
     ]
    }
   ],
   "source": [
    "def getReadingsFromSensor(sensor_id,sensor_indexes):\n",
    "    sensor_index = sensor_indexes[sensor_id]\n",
    "    return(sensors[sensor_index][\"s\"])\n",
    "\n",
    "import pprint\n",
    "pprint.pprint(getReadingsFromSensor('ABSPATH:1:#frog1_duct_sensors_1/m030',sensor_indexes))"
   ]
  },
  {
   "cell_type": "markdown",
   "metadata": {},
   "source": [
    "## 4. References\n",
    "\n",
    "The official documentation for the WebCTRL API, BulkTrendServer, is available [on the associated Github project](https://github.com/alclabs/BulkTrendServer), in particular [the doc file](https://github.com/alclabs/BulkTrendServer/blob/master/src/main/webapp/doc.html). \n",
    "\n",
    "A copy of the same doc file is available in the repository this notebook is hosted (i.e. ERDL / sensors project) in case the original source becomes unavailable. "
   ]
  }
 ],
 "metadata": {
  "kernelspec": {
   "display_name": "Python 3",
   "language": "python",
   "name": "python3"
  },
  "language_info": {
   "codemirror_mode": {
    "name": "ipython",
    "version": 3
   },
   "file_extension": ".py",
   "mimetype": "text/x-python",
   "name": "python",
   "nbconvert_exporter": "python",
   "pygments_lexer": "ipython3",
   "version": "3.6.0"
  }
 },
 "nbformat": 4,
 "nbformat_minor": 2
}
