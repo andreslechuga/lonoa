{
 "cells": [
  {
   "cell_type": "markdown",
   "metadata": {
    "deletable": true,
    "editable": true
   },
   "source": [
    "# Requesting raw data from WebCTRL"
   ]
  },
  {
   "cell_type": "markdown",
   "metadata": {
    "deletable": true,
    "editable": true
   },
   "source": [
    "This notebooks provides the minimum necessary code to access data from WebCTRL's API, the software currently used in the Frogs Project. For an overview of the architecture, see the readme.md file of the project where is notebook is hosted. "
   ]
  },
  {
   "cell_type": "markdown",
   "metadata": {
    "deletable": true,
    "editable": true
   },
   "source": [
    "## 1. Required Input Parameters"
   ]
  },
  {
   "cell_type": "markdown",
   "metadata": {
    "deletable": true,
    "editable": true
   },
   "source": [
    "### 1.1 Host\n",
    "\n",
    "Currently WebCTRL API (BulkTrendServer add-on), is hosted in HNEI."
   ]
  },
  {
   "cell_type": "code",
   "execution_count": 9,
   "metadata": {
    "collapsed": true,
    "deletable": true,
    "editable": true
   },
   "outputs": [],
   "source": [
    "host = 'http://www.soest.hawaii.edu/hneienergy/bulktrendserver/read'"
   ]
  },
  {
   "cell_type": "markdown",
   "metadata": {
    "deletable": true,
    "editable": true
   },
   "source": [
    "### 1.2 Authentication\n",
    "\n",
    "Data is only available through authentication. Ask a member of ERDL for username and password."
   ]
  },
  {
   "cell_type": "code",
   "execution_count": 10,
   "metadata": {
    "collapsed": false,
    "deletable": true,
    "editable": true
   },
   "outputs": [],
   "source": [
    "with open('auth.txt', 'r') as f:\n",
    "    api_user = f.readline().rstrip()\n",
    "    api_pass = f.readline().rstrip()"
   ]
  },
  {
   "cell_type": "markdown",
   "metadata": {
    "deletable": true,
    "editable": true
   },
   "source": [
    "### 1.3 Sensor\n",
    "\n",
    "A list of sensor IDs is currently only available through WebCTRL API interface. In the future, the list of IDs will be added to this repository. Ask a member of ERDL for the IDs of interest. \n",
    "\n",
    "The sensor id format is as shown in the Lookup ID column of the trend search page. An example of this format is **ABSPATH:1:#frog1_duct_sensors_1/m030**.\n",
    "\n"
   ]
  },
  {
   "cell_type": "code",
   "execution_count": 11,
   "metadata": {
    "collapsed": true,
    "deletable": true,
    "editable": true
   },
   "outputs": [],
   "source": [
    "sensor_ids = ['ABSPATH:1:#powerscout_frog_2g/kw_avg_phase_b_tn','ABSPATH:1:#powerscout_frog_1g/kw_avg_phase_b_tn']"
   ]
  },
  {
   "cell_type": "markdown",
   "metadata": {
    "deletable": true,
    "editable": true
   },
   "source": [
    "### 1.4 Start and End Date\n",
    "\n",
    " * **Start Date**: yyyy-mm-dd, for example: \"2017-07-16\". The starting date is inclusive.\n",
    " \n",
    " * **End Date**: yyyy-mm-dd, i.e., same as start date. Data points will be retrieved through the end of the specified end date (exclusive of the midnight transitioning to the next day). Midnight is considered to be part of the following day. So to retrieve only one day's trends, specify the same date for start and end."
   ]
  },
  {
   "cell_type": "code",
   "execution_count": 13,
   "metadata": {
    "collapsed": true,
    "deletable": true,
    "editable": true
   },
   "outputs": [],
   "source": [
    "start_date = '2018-05-09'\n",
    "end_date = '2018-05-09'"
   ]
  },
  {
   "cell_type": "markdown",
   "metadata": {
    "deletable": true,
    "editable": true
   },
   "source": [
    "### 1.5 Output Format (optional)\n",
    "\n",
    "The output format of the data can either be:\n",
    "\n",
    " * csv\n",
    " * json (default)"
   ]
  },
  {
   "cell_type": "code",
   "execution_count": 14,
   "metadata": {
    "collapsed": true,
    "deletable": true,
    "editable": true
   },
   "outputs": [],
   "source": [
    "output_format = 'json'"
   ]
  },
  {
   "cell_type": "markdown",
   "metadata": {
    "deletable": true,
    "editable": true
   },
   "source": [
    "## 2. HTTP Request"
   ]
  },
  {
   "cell_type": "code",
   "execution_count": 15,
   "metadata": {
    "collapsed": false,
    "deletable": true,
    "editable": true
   },
   "outputs": [],
   "source": [
    "import requests\n",
    "\n",
    "params = {'id': sensor_ids, 'start': start_date, 'end': end_date, 'format': output_format}\n",
    "auth = (api_user, api_pass)\n",
    "\n",
    "request = requests.post(host, params = params, auth=tuple(auth))"
   ]
  },
  {
   "cell_type": "markdown",
   "metadata": {
    "deletable": true,
    "editable": true
   },
   "source": [
    "## 3. Output Format\n",
    "\n",
    "In the JSON format, the overall result is an array of sensor id objects. Each sensor id object has:\n",
    "\n",
    " * An id with key of \"id\" \n",
    " * An array of samples with a key of \"s\". \n",
    "    * Each sample in the array has a timestamp with a key of \"t\" and a value. The key for the value depends on the type of data. Analog values have a key of \"a\" and digital values have a a key of \"d\". The string encoding for both dates and values is identical to what is used in the CSV format.\n",
    "    \n",
    "**Note that the order keys are written into an object is not guaranteed.**\n",
    "\n",
    "Example encoding for two sources with two samples each. Note that this has been broken into multiple lines and white space has been added for clarity. The real result has no whitespace and is all on one line:\n",
    "\n",
    "```\n",
    "[\n",
    "  {\n",
    "    \"id\":\"ABSPATH:1:#board_room/ht_stpt_tn\",\n",
    "    \"s\":[{\"t\":\"1282017600000\",\"a\":\"55.1\"},{\"t\":\"1282017900000\",\"a\":\"55\"}]\n",
    "  },\n",
    "  {\n",
    "    \"id\":\"ABSPATH:1:#board_room/locked_tn\",\n",
    "    \"s\":[{\"t\":\"1282017600000\",\"d\":\"false\"},{\"t\":\"1282017900000\",\"d\":\"true\"}]\n",
    "  }\n",
    "]\n",
    "```"
   ]
  },
  {
   "cell_type": "markdown",
   "metadata": {
    "deletable": true,
    "editable": true
   },
   "source": [
    "### 3.1 Request's Status"
   ]
  },
  {
   "cell_type": "code",
   "execution_count": 16,
   "metadata": {
    "collapsed": false,
    "deletable": true,
    "editable": true
   },
   "outputs": [
    {
     "name": "stdout",
     "output_type": "stream",
     "text": [
      "(200, 'ok')\n"
     ]
    }
   ],
   "source": [
    "def getStatusCode(request):\n",
    "    return( (request.status_code,requests.status_codes._codes[request.status_code][0]) )\n",
    "\n",
    "print(getStatusCode(request))"
   ]
  },
  {
   "cell_type": "markdown",
   "metadata": {
    "deletable": true,
    "editable": true
   },
   "source": [
    "### 3.2 Request's Readings"
   ]
  },
  {
   "cell_type": "code",
   "execution_count": 17,
   "metadata": {
    "collapsed": false,
    "deletable": true,
    "editable": true
   },
   "outputs": [],
   "source": [
    "sensors = request.json()\n",
    "\n",
    "def getSensorIDIndexes(request):\n",
    "    sensor_indexes = {sensors[i][\"id\"]: i for i in range(len(sensors))}\n",
    "    return(sensor_indexes)\n",
    "\n",
    "sensor_indexes = getSensorIDIndexes(request)"
   ]
  },
  {
   "cell_type": "code",
   "execution_count": 18,
   "metadata": {
    "collapsed": false,
    "deletable": true,
    "editable": true
   },
   "outputs": [],
   "source": [
    "def getReadingsFromSensor(sensor_id,sensor_indexes):\n",
    "    sensor_index = sensor_indexes[sensor_id]\n",
    "    return(sensors[sensor_index][\"s\"])\n",
    "\n",
    "#import pprint\n",
    "#pprint.pprint(getReadingsFromSensor('ABSPATH:1:#powerscout_frog_2g/kw_avg_phase_b_tn',sensor_indexes))"
   ]
  },
  {
   "cell_type": "markdown",
   "metadata": {
    "deletable": true,
    "editable": true
   },
   "source": [
    "## 4. Store Json File"
   ]
  },
  {
   "cell_type": "code",
   "execution_count": 19,
   "metadata": {
    "collapsed": false,
    "deletable": true,
    "editable": true
   },
   "outputs": [],
   "source": [
    "import json\n",
    "with open('webctrl_data.json', 'w') as outfile:\n",
    "  json.dump(sensors, outfile,indent=4)"
   ]
  },
  {
   "cell_type": "markdown",
   "metadata": {
    "deletable": true,
    "editable": true
   },
   "source": [
    "## 5. References\n",
    "\n",
    "The official documentation for the WebCTRL API, BulkTrendServer, is available [on the associated Github project](https://github.com/alclabs/BulkTrendServer), in particular [the doc file](https://github.com/alclabs/BulkTrendServer/blob/master/src/main/webapp/doc.html). \n",
    "\n",
    "A copy of the same doc file is available in the repository this notebook is hosted (i.e. ERDL / sensors project) in case the original source becomes unavailable. "
   ]
  }
 ],
 "metadata": {
  "kernelspec": {
   "display_name": "Python 3",
   "language": "python",
   "name": "python3"
  },
  "language_info": {
   "codemirror_mode": {
    "name": "ipython",
    "version": 3
   },
   "file_extension": ".py",
   "mimetype": "text/x-python",
   "name": "python",
   "nbconvert_exporter": "python",
   "pygments_lexer": "ipython3",
   "version": "3.6.0"
  }
 },
 "nbformat": 4,
 "nbformat_minor": 2
}
