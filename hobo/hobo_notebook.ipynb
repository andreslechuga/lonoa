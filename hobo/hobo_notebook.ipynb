{
 "cells": [
  {
   "cell_type": "markdown",
   "metadata": {
    "deletable": true,
    "editable": true
   },
   "source": [
    "# Purpose\n",
    "\n",
    "The purpose of this Notebook is to read a HOBO Sensor table \"as-is\" and:\n",
    "\n",
    " * Extract the Hobo ID into a **hoboid** variable. \n",
    " * Remove redundant row numbers (**#**) column.\n",
    " * Extract the Timezone into the **timezone** variable.\n",
    " * Check and remove any readings which contain **duplicated timestamps**.\n",
    " * Format the table containing the sensor readings in columns into 3 separate tables, one for each sensor. \n",
    "    * Add the units mentioned in each column **name** as values in every row as a new column."
   ]
  },
  {
   "cell_type": "markdown",
   "metadata": {
    "deletable": true,
    "editable": true
   },
   "source": [
    "## 1. Extract `hoboid `"
   ]
  },
  {
   "cell_type": "code",
   "execution_count": 324,
   "metadata": {
    "collapsed": false,
    "deletable": true,
    "editable": true
   },
   "outputs": [
    {
     "name": "stdout",
     "output_type": "stream",
     "text": [
      "[['#', 'Date Time, GMT-10:00', 'Temp, °F (LGR S/N: 9790163, SEN S/N: 9790163)', 'RH, % (LGR S/N: 9790163, SEN S/N: 9790163)', 'Intensity, lum/ft² (LGR S/N: 9790163, SEN S/N: 9790163)'], ['1', '02/03/17 04:00:00 PM', '76.375', '69.420', '1.8'], ['2', '02/03/17 04:01:00 PM', '76.332', '69.296', '1.8']]\n"
     ]
    }
   ],
   "source": [
    "import csv\n",
    "\n",
    "with open('To_Insert/9790163-sample.csv', 'r') as f:\n",
    "    rdr = csv.reader(f)\n",
    "    line1 = next(rdr) # Remove the first row, which breaks the csv format and contains the hoboid\n",
    "    line1 = line1[0]\n",
    "    #Extract hoboid\n",
    "    hoboid = line1.split(': ')[1][0:-1]\n",
    "    #Store in table the remainder of the table\n",
    "    table = list(rdr)\n",
    "#Show the first 3 rows of the table, without the hoboid\n",
    "print(table[0:3])"
   ]
  },
  {
   "cell_type": "markdown",
   "metadata": {
    "deletable": true,
    "editable": true
   },
   "source": [
    "# Remove redundant row numbers `#` column"
   ]
  },
  {
   "cell_type": "code",
   "execution_count": 325,
   "metadata": {
    "collapsed": false,
    "deletable": true,
    "editable": true
   },
   "outputs": [
    {
     "data": {
      "text/html": [
       "<div>\n",
       "<table border=\"1\" class=\"dataframe\">\n",
       "  <thead>\n",
       "    <tr style=\"text-align: right;\">\n",
       "      <th></th>\n",
       "      <th>#</th>\n",
       "      <th>Date Time, GMT-10:00</th>\n",
       "      <th>Temp, °F (LGR S/N: 9790163, SEN S/N: 9790163)</th>\n",
       "      <th>RH, % (LGR S/N: 9790163, SEN S/N: 9790163)</th>\n",
       "      <th>Intensity, lum/ft² (LGR S/N: 9790163, SEN S/N: 9790163)</th>\n",
       "    </tr>\n",
       "  </thead>\n",
       "  <tbody>\n",
       "    <tr>\n",
       "      <th>0</th>\n",
       "      <td>1</td>\n",
       "      <td>02/03/17 04:00:00 PM</td>\n",
       "      <td>76.375</td>\n",
       "      <td>69.420</td>\n",
       "      <td>1.8</td>\n",
       "    </tr>\n",
       "    <tr>\n",
       "      <th>1</th>\n",
       "      <td>2</td>\n",
       "      <td>02/03/17 04:01:00 PM</td>\n",
       "      <td>76.332</td>\n",
       "      <td>69.296</td>\n",
       "      <td>1.8</td>\n",
       "    </tr>\n",
       "    <tr>\n",
       "      <th>2</th>\n",
       "      <td>3</td>\n",
       "      <td>02/03/17 04:02:00 PM</td>\n",
       "      <td>76.203</td>\n",
       "      <td>67.938</td>\n",
       "      <td>1.8</td>\n",
       "    </tr>\n",
       "    <tr>\n",
       "      <th>3</th>\n",
       "      <td>4</td>\n",
       "      <td>02/03/17 04:03:00 PM</td>\n",
       "      <td>75.942</td>\n",
       "      <td>68.361</td>\n",
       "      <td>1.8</td>\n",
       "    </tr>\n",
       "    <tr>\n",
       "      <th>4</th>\n",
       "      <td>5</td>\n",
       "      <td>02/03/17 04:04:00 PM</td>\n",
       "      <td>75.724</td>\n",
       "      <td>68.698</td>\n",
       "      <td>1.8</td>\n",
       "    </tr>\n",
       "  </tbody>\n",
       "</table>\n",
       "</div>"
      ],
      "text/plain": [
       "   #  Date Time, GMT-10:00 Temp, °F (LGR S/N: 9790163, SEN S/N: 9790163)  \\\n",
       "0  1  02/03/17 04:00:00 PM                                        76.375   \n",
       "1  2  02/03/17 04:01:00 PM                                        76.332   \n",
       "2  3  02/03/17 04:02:00 PM                                        76.203   \n",
       "3  4  02/03/17 04:03:00 PM                                        75.942   \n",
       "4  5  02/03/17 04:04:00 PM                                        75.724   \n",
       "\n",
       "  RH, % (LGR S/N: 9790163, SEN S/N: 9790163)  \\\n",
       "0                                     69.420   \n",
       "1                                     69.296   \n",
       "2                                     67.938   \n",
       "3                                     68.361   \n",
       "4                                     68.698   \n",
       "\n",
       "  Intensity, lum/ft² (LGR S/N: 9790163, SEN S/N: 9790163)  \n",
       "0                                                1.8       \n",
       "1                                                1.8       \n",
       "2                                                1.8       \n",
       "3                                                1.8       \n",
       "4                                                1.8       "
      ]
     },
     "execution_count": 325,
     "metadata": {},
     "output_type": "execute_result"
    }
   ],
   "source": [
    "#Load table\n",
    "import pandas\n",
    "df = pandas.DataFrame(table[1:],columns=table[0])\n",
    "df.head()"
   ]
  },
  {
   "cell_type": "markdown",
   "metadata": {},
   "source": [
    "After removal of row number column:"
   ]
  },
  {
   "cell_type": "code",
   "execution_count": 326,
   "metadata": {
    "collapsed": false
   },
   "outputs": [
    {
     "data": {
      "text/html": [
       "<div>\n",
       "<table border=\"1\" class=\"dataframe\">\n",
       "  <thead>\n",
       "    <tr style=\"text-align: right;\">\n",
       "      <th></th>\n",
       "      <th>Date Time, GMT-10:00</th>\n",
       "      <th>Temp, °F (LGR S/N: 9790163, SEN S/N: 9790163)</th>\n",
       "      <th>RH, % (LGR S/N: 9790163, SEN S/N: 9790163)</th>\n",
       "      <th>Intensity, lum/ft² (LGR S/N: 9790163, SEN S/N: 9790163)</th>\n",
       "    </tr>\n",
       "  </thead>\n",
       "  <tbody>\n",
       "    <tr>\n",
       "      <th>0</th>\n",
       "      <td>02/03/17 04:00:00 PM</td>\n",
       "      <td>76.375</td>\n",
       "      <td>69.420</td>\n",
       "      <td>1.8</td>\n",
       "    </tr>\n",
       "    <tr>\n",
       "      <th>1</th>\n",
       "      <td>02/03/17 04:01:00 PM</td>\n",
       "      <td>76.332</td>\n",
       "      <td>69.296</td>\n",
       "      <td>1.8</td>\n",
       "    </tr>\n",
       "    <tr>\n",
       "      <th>2</th>\n",
       "      <td>02/03/17 04:02:00 PM</td>\n",
       "      <td>76.203</td>\n",
       "      <td>67.938</td>\n",
       "      <td>1.8</td>\n",
       "    </tr>\n",
       "    <tr>\n",
       "      <th>3</th>\n",
       "      <td>02/03/17 04:03:00 PM</td>\n",
       "      <td>75.942</td>\n",
       "      <td>68.361</td>\n",
       "      <td>1.8</td>\n",
       "    </tr>\n",
       "    <tr>\n",
       "      <th>4</th>\n",
       "      <td>02/03/17 04:04:00 PM</td>\n",
       "      <td>75.724</td>\n",
       "      <td>68.698</td>\n",
       "      <td>1.8</td>\n",
       "    </tr>\n",
       "  </tbody>\n",
       "</table>\n",
       "</div>"
      ],
      "text/plain": [
       "   Date Time, GMT-10:00 Temp, °F (LGR S/N: 9790163, SEN S/N: 9790163)  \\\n",
       "0  02/03/17 04:00:00 PM                                        76.375   \n",
       "1  02/03/17 04:01:00 PM                                        76.332   \n",
       "2  02/03/17 04:02:00 PM                                        76.203   \n",
       "3  02/03/17 04:03:00 PM                                        75.942   \n",
       "4  02/03/17 04:04:00 PM                                        75.724   \n",
       "\n",
       "  RH, % (LGR S/N: 9790163, SEN S/N: 9790163)  \\\n",
       "0                                     69.420   \n",
       "1                                     69.296   \n",
       "2                                     67.938   \n",
       "3                                     68.361   \n",
       "4                                     68.698   \n",
       "\n",
       "  Intensity, lum/ft² (LGR S/N: 9790163, SEN S/N: 9790163)  \n",
       "0                                                1.8       \n",
       "1                                                1.8       \n",
       "2                                                1.8       \n",
       "3                                                1.8       \n",
       "4                                                1.8       "
      ]
     },
     "execution_count": 326,
     "metadata": {},
     "output_type": "execute_result"
    }
   ],
   "source": [
    "df = df.iloc[:,1:]\n",
    "df.head()"
   ]
  },
  {
   "cell_type": "markdown",
   "metadata": {},
   "source": [
    "## Extract `timezone` "
   ]
  },
  {
   "cell_type": "code",
   "execution_count": 327,
   "metadata": {
    "collapsed": false,
    "scrolled": true
   },
   "outputs": [
    {
     "name": "stdout",
     "output_type": "stream",
     "text": [
      "Extracted Sensor Names:  ['Date Time', 'Temp', 'RH', 'Intensity']\n",
      "Extracted Timezone:  GMT-10:00 \n",
      "Extracted Units:  ['°F', '%', 'lum/ft²']\n"
     ]
    }
   ],
   "source": [
    "#Extract timezone and units\n",
    "timezone_units = df.columns\n",
    "#First separate the variable name from the timezone/unit description\n",
    "    #Names\n",
    "names = [x.split(', ')[0] for x in timezone_units]\n",
    "df.columns = names\n",
    "print('Extracted Sensor Names: ',names)\n",
    "    # Units\n",
    "timezone_units = [x.split(', ')[1] for x in timezone_units]\n",
    "#Timezone needs no further pre-processing\n",
    "timezone=timezone_units[0]\n",
    "#But units do:\n",
    "units = [x.split(' ')[0] for x in timezone_units[1:]]\n",
    "print('Extracted Timezone: ',timezone,'\\nExtracted Units: ',units)\n"
   ]
  },
  {
   "cell_type": "markdown",
   "metadata": {},
   "source": [
    "# Remove (if any) rows if `timestamp` is duplicated  "
   ]
  },
  {
   "cell_type": "code",
   "execution_count": 328,
   "metadata": {
    "collapsed": false
   },
   "outputs": [
    {
     "name": "stdout",
     "output_type": "stream",
     "text": [
      "Number of rows BEFORE removal:  2730\n",
      "Number of rows AFTER removal:  2729\n"
     ]
    }
   ],
   "source": [
    "# On the test file, row 9 was artificially duplicated for testing.\n",
    "# Notice row 9 only has as duplicate the timestamp. All else is different. This is by design per Eileen's request.\n",
    "print('Number of rows BEFORE removal: ',len(df.index))\n",
    "df = df.drop_duplicates(subset='Date Time')\n",
    "print('Number of rows AFTER removal: ',len(df.index))"
   ]
  },
  {
   "cell_type": "markdown",
   "metadata": {},
   "source": [
    "# Create the `temperature sensor` table. "
   ]
  },
  {
   "cell_type": "code",
   "execution_count": 329,
   "metadata": {
    "collapsed": false
   },
   "outputs": [
    {
     "data": {
      "text/html": [
       "<div>\n",
       "<table border=\"1\" class=\"dataframe\">\n",
       "  <thead>\n",
       "    <tr style=\"text-align: right;\">\n",
       "      <th></th>\n",
       "      <th>Date Time</th>\n",
       "      <th>Temp</th>\n",
       "      <th>Unit</th>\n",
       "    </tr>\n",
       "  </thead>\n",
       "  <tbody>\n",
       "    <tr>\n",
       "      <th>0</th>\n",
       "      <td>02/03/17 04:00:00 PM</td>\n",
       "      <td>76.375</td>\n",
       "      <td>°F</td>\n",
       "    </tr>\n",
       "    <tr>\n",
       "      <th>1</th>\n",
       "      <td>02/03/17 04:01:00 PM</td>\n",
       "      <td>76.332</td>\n",
       "      <td>°F</td>\n",
       "    </tr>\n",
       "    <tr>\n",
       "      <th>2</th>\n",
       "      <td>02/03/17 04:02:00 PM</td>\n",
       "      <td>76.203</td>\n",
       "      <td>°F</td>\n",
       "    </tr>\n",
       "    <tr>\n",
       "      <th>3</th>\n",
       "      <td>02/03/17 04:03:00 PM</td>\n",
       "      <td>75.942</td>\n",
       "      <td>°F</td>\n",
       "    </tr>\n",
       "    <tr>\n",
       "      <th>4</th>\n",
       "      <td>02/03/17 04:04:00 PM</td>\n",
       "      <td>75.724</td>\n",
       "      <td>°F</td>\n",
       "    </tr>\n",
       "  </tbody>\n",
       "</table>\n",
       "</div>"
      ],
      "text/plain": [
       "              Date Time    Temp Unit\n",
       "0  02/03/17 04:00:00 PM  76.375   °F\n",
       "1  02/03/17 04:01:00 PM  76.332   °F\n",
       "2  02/03/17 04:02:00 PM  76.203   °F\n",
       "3  02/03/17 04:03:00 PM  75.942   °F\n",
       "4  02/03/17 04:04:00 PM  75.724   °F"
      ]
     },
     "execution_count": 329,
     "metadata": {},
     "output_type": "execute_result"
    }
   ],
   "source": [
    "#Format the temperature sensor table\n",
    "temperature_sensor = df.loc[:,['Date Time','Temp']]\n",
    "#Now add the units \n",
    "temperature_sensor['Unit'] = units[0]\n",
    "temperature_sensor.head()\n",
    "#temperature_sensor.to_csv('lala_land_path')"
   ]
  },
  {
   "cell_type": "markdown",
   "metadata": {},
   "source": [
    "# Create the `relative humidity sensor` table. "
   ]
  },
  {
   "cell_type": "code",
   "execution_count": 330,
   "metadata": {
    "collapsed": false
   },
   "outputs": [
    {
     "data": {
      "text/html": [
       "<div>\n",
       "<table border=\"1\" class=\"dataframe\">\n",
       "  <thead>\n",
       "    <tr style=\"text-align: right;\">\n",
       "      <th></th>\n",
       "      <th>Date Time</th>\n",
       "      <th>RH</th>\n",
       "      <th>Unit</th>\n",
       "    </tr>\n",
       "  </thead>\n",
       "  <tbody>\n",
       "    <tr>\n",
       "      <th>0</th>\n",
       "      <td>02/03/17 04:00:00 PM</td>\n",
       "      <td>69.420</td>\n",
       "      <td>%</td>\n",
       "    </tr>\n",
       "    <tr>\n",
       "      <th>1</th>\n",
       "      <td>02/03/17 04:01:00 PM</td>\n",
       "      <td>69.296</td>\n",
       "      <td>%</td>\n",
       "    </tr>\n",
       "    <tr>\n",
       "      <th>2</th>\n",
       "      <td>02/03/17 04:02:00 PM</td>\n",
       "      <td>67.938</td>\n",
       "      <td>%</td>\n",
       "    </tr>\n",
       "    <tr>\n",
       "      <th>3</th>\n",
       "      <td>02/03/17 04:03:00 PM</td>\n",
       "      <td>68.361</td>\n",
       "      <td>%</td>\n",
       "    </tr>\n",
       "    <tr>\n",
       "      <th>4</th>\n",
       "      <td>02/03/17 04:04:00 PM</td>\n",
       "      <td>68.698</td>\n",
       "      <td>%</td>\n",
       "    </tr>\n",
       "  </tbody>\n",
       "</table>\n",
       "</div>"
      ],
      "text/plain": [
       "              Date Time      RH Unit\n",
       "0  02/03/17 04:00:00 PM  69.420    %\n",
       "1  02/03/17 04:01:00 PM  69.296    %\n",
       "2  02/03/17 04:02:00 PM  67.938    %\n",
       "3  02/03/17 04:03:00 PM  68.361    %\n",
       "4  02/03/17 04:04:00 PM  68.698    %"
      ]
     },
     "execution_count": 330,
     "metadata": {},
     "output_type": "execute_result"
    }
   ],
   "source": [
    "#Format the temperature sensor table\n",
    "rh_sensor = df.loc[:,['Date Time','RH']]\n",
    "#Now add the units \n",
    "rh_sensor['Unit'] = units[1]\n",
    "rh_sensor.head()\n",
    "#rh_sensor.to_csv('lala_land_path')"
   ]
  },
  {
   "cell_type": "markdown",
   "metadata": {},
   "source": [
    "# Create the `intensity sensor` table. "
   ]
  },
  {
   "cell_type": "code",
   "execution_count": 323,
   "metadata": {
    "collapsed": false
   },
   "outputs": [
    {
     "data": {
      "text/html": [
       "<div>\n",
       "<table border=\"1\" class=\"dataframe\">\n",
       "  <thead>\n",
       "    <tr style=\"text-align: right;\">\n",
       "      <th></th>\n",
       "      <th>Date Time</th>\n",
       "      <th>Intensity</th>\n",
       "      <th>Unit</th>\n",
       "    </tr>\n",
       "  </thead>\n",
       "  <tbody>\n",
       "    <tr>\n",
       "      <th>0</th>\n",
       "      <td>02/03/17 04:00:00 PM</td>\n",
       "      <td>1.8</td>\n",
       "      <td>lum/ft²</td>\n",
       "    </tr>\n",
       "    <tr>\n",
       "      <th>1</th>\n",
       "      <td>02/03/17 04:01:00 PM</td>\n",
       "      <td>1.8</td>\n",
       "      <td>lum/ft²</td>\n",
       "    </tr>\n",
       "    <tr>\n",
       "      <th>2</th>\n",
       "      <td>02/03/17 04:02:00 PM</td>\n",
       "      <td>1.8</td>\n",
       "      <td>lum/ft²</td>\n",
       "    </tr>\n",
       "    <tr>\n",
       "      <th>3</th>\n",
       "      <td>02/03/17 04:03:00 PM</td>\n",
       "      <td>1.8</td>\n",
       "      <td>lum/ft²</td>\n",
       "    </tr>\n",
       "    <tr>\n",
       "      <th>4</th>\n",
       "      <td>02/03/17 04:04:00 PM</td>\n",
       "      <td>1.8</td>\n",
       "      <td>lum/ft²</td>\n",
       "    </tr>\n",
       "  </tbody>\n",
       "</table>\n",
       "</div>"
      ],
      "text/plain": [
       "              Date Time Intensity     Unit\n",
       "0  02/03/17 04:00:00 PM       1.8  lum/ft²\n",
       "1  02/03/17 04:01:00 PM       1.8  lum/ft²\n",
       "2  02/03/17 04:02:00 PM       1.8  lum/ft²\n",
       "3  02/03/17 04:03:00 PM       1.8  lum/ft²\n",
       "4  02/03/17 04:04:00 PM       1.8  lum/ft²"
      ]
     },
     "execution_count": 323,
     "metadata": {},
     "output_type": "execute_result"
    }
   ],
   "source": [
    "#Format the temperature sensor table\n",
    "intensity_sensor = df.loc[:,['Date Time','Intensity']]\n",
    "#Now add the units \n",
    "intensity_sensor['Unit'] = units[2]\n",
    "intensity_sensor.head()\n",
    "#intensity_sensor.to_csv('lala_land_path')"
   ]
  }
 ],
 "metadata": {
  "celltoolbar": "Raw Cell Format",
  "kernelspec": {
   "display_name": "Python 3",
   "language": "python",
   "name": "python3"
  },
  "language_info": {
   "codemirror_mode": {
    "name": "ipython",
    "version": 3
   },
   "file_extension": ".py",
   "mimetype": "text/x-python",
   "name": "python",
   "nbconvert_exporter": "python",
   "pygments_lexer": "ipython3",
   "version": "3.6.0"
  }
 },
 "nbformat": 4,
 "nbformat_minor": 2
}
