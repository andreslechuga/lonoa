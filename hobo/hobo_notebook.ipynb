{
 "cells": [
  {
   "cell_type": "markdown",
   "metadata": {},
   "source": [
    "# 1. Introduction\n",
    "\n",
    "The purpose of this notebook is to illustrate how data manually extracted as .csv from the HOBO, and being put in a folder, is parsed through a *database insert script*. \n",
    "\n",
    "## Process \n",
    "\n",
    "There are 3 folders involved in the process:\n",
    " * To_Insert\n",
    " * Inside_Database\n",
    " * Logs \n",
    "\n",
    "The CRON job launchs the script every hour to check the **To_Insert** folder for files manually put there. If at least one new file is found, it will proceed to process one file at a time in the database.\n",
    "\n",
    "As the script executes each of the **formatting assumptions** listed in section 2, it will create in the **Logs** folder a file associated to the execution with the following name format: `<sucess or error>_<filename>_<timestamp of attempt>`. If it is sucessful, it will also move the file from **To_Insert** to **Inside_Database**. If it fails, the file remains on the **To_Insert** folder so it is attempted again when the script is relaunched (either the next hour or manually). \n",
    "\n",
    "The best way to diagnose if any data was not inserted in the database and *why* is therefore:\n",
    "\n",
    " 1. Verify if any file is sitting in the **To_Input** folder. \n",
    " 1. See if there are any **error** prefixed files in the **Logs** folder.\n",
    "\n",
    "Maintaining the files despite storing in the database is intentional to preserve data in it's *raw format* in case in the future it needs to be revisited. \n",
    "\n",
    "## File Parsing\n",
    "\n",
    "For every file inside the **To_Insert** folder, the script: \n",
    " 1. **Parse** the readings sampled by the HOBO hardware.\n",
    " 1. Format the data under certain **formatting assumptions**.\n",
    " 1. Checks a separate .csv file (in the actual script, it checks the database **Purpose** table) using the **HOBO Serial Number** to retrieve the **Purpose ID** field.\n",
    " 1. Uses the **Purpose ID** field to save the formatted text file (in the actual script, it stores in the **Readings** table) for every sensor: Temperature (Temp), Relative Humidity (RH), and Luminous intensity (lum/ft²). \n",
    " \n",
    "\n"
   ]
  },
  {
   "cell_type": "markdown",
   "metadata": {},
   "source": [
    "# 1. Parse the readings information to understand the *format assumptions*"
   ]
  },
  {
   "cell_type": "markdown",
   "metadata": {},
   "source": [
    "The HOBO software exports a .csv file by adding on the first row the serial number for it's sensors, having the remaining lines follow the standard .csv format with header. The columns, which are defined through double quotes, are as follows: \n",
    "\n",
    "* Row ID \n",
    "* Timestamp \n",
    "* Temperature \n",
    "* Relative Humidity \n",
    "* Luminous Intensity"
   ]
  },
  {
   "cell_type": "code",
   "execution_count": 23,
   "metadata": {
    "collapsed": false
   },
   "outputs": [
    {
     "data": {
      "text/html": [
       "<div>\n",
       "<table border=\"1\" class=\"dataframe\">\n",
       "  <thead>\n",
       "    <tr style=\"text-align: right;\">\n",
       "      <th></th>\n",
       "      <th></th>\n",
       "      <th></th>\n",
       "      <th></th>\n",
       "      <th>Plot Title: 9790163</th>\n",
       "    </tr>\n",
       "  </thead>\n",
       "  <tbody>\n",
       "    <tr>\n",
       "      <th>#</th>\n",
       "      <th>Date Time, GMT-10:00</th>\n",
       "      <th>Temp, °F (LGR S/N: 9790163, SEN S/N: 9790163)</th>\n",
       "      <th>RH, % (LGR S/N: 9790163, SEN S/N: 9790163)</th>\n",
       "      <td>Intensity, lum/ft² (LGR S/N: 9790163, SEN S/N:...</td>\n",
       "    </tr>\n",
       "    <tr>\n",
       "      <th>1</th>\n",
       "      <th>02/03/17 04:00:00 PM</th>\n",
       "      <th>76.375</th>\n",
       "      <th>69.420</th>\n",
       "      <td>1.8</td>\n",
       "    </tr>\n",
       "    <tr>\n",
       "      <th>2</th>\n",
       "      <th>02/03/17 04:01:00 PM</th>\n",
       "      <th>76.332</th>\n",
       "      <th>69.296</th>\n",
       "      <td>1.8</td>\n",
       "    </tr>\n",
       "    <tr>\n",
       "      <th>3</th>\n",
       "      <th>02/03/17 04:02:00 PM</th>\n",
       "      <th>76.203</th>\n",
       "      <th>67.938</th>\n",
       "      <td>1.8</td>\n",
       "    </tr>\n",
       "    <tr>\n",
       "      <th>4</th>\n",
       "      <th>02/03/17 04:03:00 PM</th>\n",
       "      <th>75.942</th>\n",
       "      <th>68.361</th>\n",
       "      <td>1.8</td>\n",
       "    </tr>\n",
       "  </tbody>\n",
       "</table>\n",
       "</div>"
      ],
      "text/plain": [
       "                                                                                                                                               Plot Title: 9790163\n",
       "# Date Time, GMT-10:00 Temp, °F (LGR S/N: 9790163, SEN S/N: 9790163) RH, % (LGR S/N: 9790163, SEN S/N: 9790163)  Intensity, lum/ft² (LGR S/N: 9790163, SEN S/N:...\n",
       "1 02/03/17 04:00:00 PM 76.375                                        69.420                                                                                    1.8\n",
       "2 02/03/17 04:01:00 PM 76.332                                        69.296                                                                                    1.8\n",
       "3 02/03/17 04:02:00 PM 76.203                                        67.938                                                                                    1.8\n",
       "4 02/03/17 04:03:00 PM 75.942                                        68.361                                                                                    1.8"
      ]
     },
     "execution_count": 23,
     "metadata": {},
     "output_type": "execute_result"
    }
   ],
   "source": [
    "import pandas\n",
    "\n",
    "df = pandas.read_csv('To_Insert/9790163-sample.csv')\n",
    "df.head()\n"
   ]
  },
  {
   "cell_type": "markdown",
   "metadata": {},
   "source": [
    "# 2. Format the data under certain *formatting assumptions*"
   ]
  },
  {
   "cell_type": "markdown",
   "metadata": {},
   "source": [
    "To our purposes, the following assumptions must be made in order to conform to the **Reading** table [schema](https://github.com/erdl/database):\n",
    "\n",
    "1. Timezone must be passed **from** header **to** the existing **Date Time** column values in order to be inserted as **reading_timestamp** database column\n",
    "1. An external table must be checked, using the sensor serial number in order to **retrieve the purpose_id**, which will be stored as a new column. \n",
    "1. Table must be **split into 3 tables**, one for every sensor\n",
    "   1. For each of the 3 tables, **units** must be passed **from** header **to** as a new **unit** column\n",
    "1. Set union of the 3 tables is performed to be stored as a single file to be submitted to the database. "
   ]
  },
  {
   "cell_type": "markdown",
   "metadata": {},
   "source": [
    "## 2.1 Timezone column formatting "
   ]
  },
  {
   "cell_type": "code",
   "execution_count": null,
   "metadata": {
    "collapsed": true
   },
   "outputs": [],
   "source": []
  }
 ],
 "metadata": {
  "celltoolbar": "Raw Cell Format",
  "kernelspec": {
   "display_name": "Python 3",
   "language": "python",
   "name": "python3"
  },
  "language_info": {
   "codemirror_mode": {
    "name": "ipython",
    "version": 3
   },
   "file_extension": ".py",
   "mimetype": "text/x-python",
   "name": "python",
   "nbconvert_exporter": "python",
   "pygments_lexer": "ipython3",
   "version": "3.6.0"
  }
 },
 "nbformat": 4,
 "nbformat_minor": 2
}
