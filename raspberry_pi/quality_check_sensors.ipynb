{
 "cells": [
  {
   "cell_type": "markdown",
   "metadata": {},
   "source": [
    "# Overview\n",
    "    This notebook serves as an analysis of how well the sensors onboard the Air Quality Station and HOBO raspberry pis compare to standard measuring instruments (e.g thermometer for temperature) and commerical monitoring solutions (Onset HOBO Data Loggers).\n",
    "    \n",
    "    The Air Quality Station is equipped with the PMS5003 and BME280 sensors and is therefore capable of measuring PM1.0, PM2.5, PM10, temperature, relative humidity, and pressure.\n",
    "    \n",
    "    The HOBO Project is equipped with the TSL2591, Si7021, and BMP280 and is therefore capable of measuring illuminous, temperature, relative humidity, pressure, and altitude.\n",
    "    \n",
    "    \n",
    "# Method\n",
    "    Because the Air Quality Station is equipped with a multitude of varying sensors, it would be most easiest to compare individual sensors with a standard meaurement tool.  For comparing PM particles, we do not have access to a PM monitor or detector.  Therefore if the PM values from the sensor do not appear absurd as compared to online air quality levels in Hawaii such as from [1] then the sensor would be acceptable.  To compare temperature, relative humidity, and pressure we can compare values to the HOBO data logger or even use a smart phone app as most modern smartphones are equipped with a thermometer and barometer.\n",
    "    \n",
    "    For the HOBO Project we are only concerned about the accuracy of the raspberry pi solution to an actual HOBO data logger.  Therefore this comparison is a straightforward comparison of the values between the HOBO Data Logger U12-012 and Raspberry Pi.\n",
    "    \n",
    "# Analysis\n",
    "\n",
    "Air Quality Station\t\t\t\t\t\t\n",
    "timestamp\tpressure_hpa\thumidity_percent\ttemp_c\t      pm1\tpm2.5\tpm10\n",
    "1535664710\t1014.671152\t    58.69851264\t        26.81944076\t  0\t    1\t    1\n",
    "1535665058\t1014.684422\t    58.82790835\t        26.87434364\t  0\t    1\t    2 \n",
    "1535665406\t1014.603124\t    58.58727811\t        27.01276522\t  0\t    1\t    2\n",
    "\t\t\t\t\t\t\n",
    "HOBO Raspi\t\t\t\t\t\t\n",
    "timestamp\tilluminance_lux\thumidity_percent\ttemp_c\t\t\t\n",
    "1535664649\t37.779712\t    67.15882365\t        25.88074824\t\t\t\n",
    "1535665192\t39.169088\t    66.68872579\t        25.94084454\t\t\t\n",
    "1535665506\t44.357216\t    66.87521362\t        25.99493478\t\t\t\n",
    "\t\t\t\t\t\t\n",
    "\t\t\t\t\t\t\n",
    "HOBO Data Logger\t\t\t\t\t\t\n",
    "timestamp\tilluminance_lux\thumidity_percent\ttemp_c\t\t\t\n",
    "1535664701  48.10\t        66.986\t            26.5\t\t\t\n",
    "1535665006\t44.94\t        67.168\t            26.329\t\t\t\n",
    "1535665310\t49.66\t        67.634\t            26.231\t\t\t\n",
    "\t\t\t\t\t\t\n",
    "The air quality station RH reading is off by a notable 10%, suggesting that there is an issue with the calibration possibly due to the library being used.  The pressure matches with my smartphone barometer's reading and this seems reasonable due to us being near sea level.  Particulate matter levels is a bit tricky mainly because the raspberry pi was deployed in an office space as compared to being outdoors.  From these readings it seems that we need to check on the RH sensor, BME280, and to figure the cause of this readings.\n",
    "\n",
    "The HOBO Raspberry Pi on the otherhand matches quite well with the HOBO Data Logger, only note would be about the illuminance sensor and how we position it (facing the ceiling or at the door) as the orientation of it would produce different values.  This difference in the illuminous sensor could've been due to the orientation of both sensors.\n",
    "\n",
    "\n",
    "# References\n",
    "1. https://aqicn.org/city/usa/hawaii/honolulu/"
   ]
  }
 ],
 "metadata": {
  "kernelspec": {
   "display_name": "Python 3",
   "language": "python",
   "name": "python3"
  },
  "language_info": {
   "codemirror_mode": {
    "name": "ipython",
    "version": 3
   },
   "file_extension": ".py",
   "mimetype": "text/x-python",
   "name": "python",
   "nbconvert_exporter": "python",
   "pygments_lexer": "ipython3",
   "version": "3.7.0"
  }
 },
 "nbformat": 4,
 "nbformat_minor": 2
}
